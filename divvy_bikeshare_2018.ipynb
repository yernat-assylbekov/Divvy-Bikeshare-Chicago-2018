{
 "cells": [
  {
   "cell_type": "markdown",
   "metadata": {},
   "source": [
    "# Divvy Bike Chicago - 2018\n",
    "### Yernat Assylbekov\n",
    "\n",
    "\n",
    "## 1. Introduction\n",
    "<a href=\"https://www.divvybikes.com\">Divvy</a> is a company that provides bikes for rent in Chicago. Users can rent an available bike from a nearby station and return to any station within the city. There are three types of service: single 30-minute ride for 3 USD, 24-hour pass for 15 USD with unlimited 3-hour rides, and annual membership (365 days) for 99 USD with unlimited 45-minute rides. Rides longer than aforesaid durations will be charged an extra 3 USD for additional 30 minutes.\n",
    "\n",
    "In the current project, we perform exploratory analysis on the data that was collected from the Divvy System Data website which can be found <a href=\"https://www.divvybikes.com/system-data\">here</a>. This Data Set contains the following information for each trip from 2018:<br/>\n",
    "&#x25cf; Date, time and location of the start and end of the trip;<br/>\n",
    "&#x25cf; Type, gender and birth year of the user.\n",
    "\n",
    "### Posing questions:\n",
    "Our aim is to answer the following questions:<br/>\n",
    "Q1: What is the regular duration of the trip and how do the seasons affect it?<br/>\n",
    "Q2: Who are main bike renters?<br/>\n",
    "Q3: What part of the city has the most bike rentals?\n",
    "\n"
   ]
  },
  {
   "cell_type": "markdown",
   "metadata": {},
   "source": [
    "## 2. Initial look at the data"
   ]
  },
  {
   "cell_type": "markdown",
   "metadata": {},
   "source": [
    "The data comes in two parts. First part, trips data, has four csv files. One for each Quarter of 2018 which are titled with a <font color='red'><tt>Divvy_Trips_2018_[Q&#42;].csv</tt></font> naming convention, where <tt>&#42;</tt>=1,2,3,4 stands for the numbering of each quarter. For each trip the following information is given:<br/>\n",
    "&#x25cf; date and time of the start and end of the trip,<br/>\n",
    "&#x25cf; station of the start and end of the trip,<br/>\n",
    "&#x25cf; user type: 'Subscriber' if the user has annual membership and 'Customer' otherwise,<br/>\n",
    "&#x25cf; gender and birth year for Subscribers.\n",
    "\n",
    "The second part (<font color='red'><tt>Divvy_Bicycle_Stations.csv</tt></font>) contains information about all stations in the system.\n",
    "\n",
    "We start with reading the data into four pandas DataFrames."
   ]
  },
  {
   "cell_type": "code",
   "execution_count": 1,
   "metadata": {},
   "outputs": [],
   "source": [
    "# import pandas\n",
    "import pandas as pd"
   ]
  },
  {
   "cell_type": "code",
   "execution_count": 2,
   "metadata": {},
   "outputs": [],
   "source": [
    "# initialize an empty list\n",
    "input_trips = []\n",
    "\n",
    "for i in range(1,5):\n",
    "    # read each csv file into separate pandas DataFrame;\n",
    "    # append each consecutive DataFrame into input_trips list\n",
    "    input_trips.append(pd.read_csv('Divvy_Trips_2018_Q{}.csv'.format(i)))"
   ]
  },
  {
   "cell_type": "markdown",
   "metadata": {},
   "source": [
    "Next, we combine four DataFrames into one and print out first few rows."
   ]
  },
  {
   "cell_type": "code",
   "execution_count": 3,
   "metadata": {
    "scrolled": true
   },
   "outputs": [
    {
     "data": {
      "text/html": [
       "<div>\n",
       "<style scoped>\n",
       "    .dataframe tbody tr th:only-of-type {\n",
       "        vertical-align: middle;\n",
       "    }\n",
       "\n",
       "    .dataframe tbody tr th {\n",
       "        vertical-align: top;\n",
       "    }\n",
       "\n",
       "    .dataframe thead th {\n",
       "        text-align: right;\n",
       "    }\n",
       "</style>\n",
       "<table border=\"1\" class=\"dataframe\">\n",
       "  <thead>\n",
       "    <tr style=\"text-align: right;\">\n",
       "      <th></th>\n",
       "      <th>trip_id</th>\n",
       "      <th>start_time</th>\n",
       "      <th>end_time</th>\n",
       "      <th>bikeid</th>\n",
       "      <th>tripduration</th>\n",
       "      <th>from_station_id</th>\n",
       "      <th>from_station_name</th>\n",
       "      <th>to_station_id</th>\n",
       "      <th>to_station_name</th>\n",
       "      <th>usertype</th>\n",
       "      <th>gender</th>\n",
       "      <th>birthyear</th>\n",
       "    </tr>\n",
       "  </thead>\n",
       "  <tbody>\n",
       "    <tr>\n",
       "      <th>0</th>\n",
       "      <td>17536702</td>\n",
       "      <td>2018-01-01 00:12:00</td>\n",
       "      <td>2018-01-01 00:17:23</td>\n",
       "      <td>3304</td>\n",
       "      <td>323.0</td>\n",
       "      <td>69</td>\n",
       "      <td>Damen Ave &amp; Pierce Ave</td>\n",
       "      <td>159</td>\n",
       "      <td>Claremont Ave &amp; Hirsch St</td>\n",
       "      <td>Subscriber</td>\n",
       "      <td>Male</td>\n",
       "      <td>1988.0</td>\n",
       "    </tr>\n",
       "    <tr>\n",
       "      <th>1</th>\n",
       "      <td>17536703</td>\n",
       "      <td>2018-01-01 00:41:35</td>\n",
       "      <td>2018-01-01 00:47:52</td>\n",
       "      <td>5367</td>\n",
       "      <td>377.0</td>\n",
       "      <td>253</td>\n",
       "      <td>Winthrop Ave &amp; Lawrence Ave</td>\n",
       "      <td>325</td>\n",
       "      <td>Clark St &amp; Winnemac Ave (Temp)</td>\n",
       "      <td>Subscriber</td>\n",
       "      <td>Male</td>\n",
       "      <td>1984.0</td>\n",
       "    </tr>\n",
       "    <tr>\n",
       "      <th>2</th>\n",
       "      <td>17536704</td>\n",
       "      <td>2018-01-01 00:44:46</td>\n",
       "      <td>2018-01-01 01:33:10</td>\n",
       "      <td>4599</td>\n",
       "      <td>2,904.0</td>\n",
       "      <td>98</td>\n",
       "      <td>LaSalle St &amp; Washington St</td>\n",
       "      <td>509</td>\n",
       "      <td>Troy St &amp; North Ave</td>\n",
       "      <td>Subscriber</td>\n",
       "      <td>Male</td>\n",
       "      <td>1989.0</td>\n",
       "    </tr>\n",
       "    <tr>\n",
       "      <th>3</th>\n",
       "      <td>17536705</td>\n",
       "      <td>2018-01-01 00:53:10</td>\n",
       "      <td>2018-01-01 01:05:37</td>\n",
       "      <td>2302</td>\n",
       "      <td>747.0</td>\n",
       "      <td>125</td>\n",
       "      <td>Rush St &amp; Hubbard St</td>\n",
       "      <td>364</td>\n",
       "      <td>Larrabee St &amp; Oak St</td>\n",
       "      <td>Subscriber</td>\n",
       "      <td>Male</td>\n",
       "      <td>1983.0</td>\n",
       "    </tr>\n",
       "    <tr>\n",
       "      <th>4</th>\n",
       "      <td>17536706</td>\n",
       "      <td>2018-01-01 00:53:37</td>\n",
       "      <td>2018-01-01 00:56:40</td>\n",
       "      <td>3696</td>\n",
       "      <td>183.0</td>\n",
       "      <td>129</td>\n",
       "      <td>Blue Island Ave &amp; 18th St</td>\n",
       "      <td>205</td>\n",
       "      <td>Paulina St &amp; 18th St</td>\n",
       "      <td>Subscriber</td>\n",
       "      <td>Male</td>\n",
       "      <td>1989.0</td>\n",
       "    </tr>\n",
       "  </tbody>\n",
       "</table>\n",
       "</div>"
      ],
      "text/plain": [
       "    trip_id           start_time             end_time  bikeid tripduration  \\\n",
       "0  17536702  2018-01-01 00:12:00  2018-01-01 00:17:23    3304        323.0   \n",
       "1  17536703  2018-01-01 00:41:35  2018-01-01 00:47:52    5367        377.0   \n",
       "2  17536704  2018-01-01 00:44:46  2018-01-01 01:33:10    4599      2,904.0   \n",
       "3  17536705  2018-01-01 00:53:10  2018-01-01 01:05:37    2302        747.0   \n",
       "4  17536706  2018-01-01 00:53:37  2018-01-01 00:56:40    3696        183.0   \n",
       "\n",
       "   from_station_id            from_station_name  to_station_id  \\\n",
       "0               69       Damen Ave & Pierce Ave            159   \n",
       "1              253  Winthrop Ave & Lawrence Ave            325   \n",
       "2               98   LaSalle St & Washington St            509   \n",
       "3              125         Rush St & Hubbard St            364   \n",
       "4              129    Blue Island Ave & 18th St            205   \n",
       "\n",
       "                  to_station_name    usertype gender  birthyear  \n",
       "0       Claremont Ave & Hirsch St  Subscriber   Male     1988.0  \n",
       "1  Clark St & Winnemac Ave (Temp)  Subscriber   Male     1984.0  \n",
       "2             Troy St & North Ave  Subscriber   Male     1989.0  \n",
       "3            Larrabee St & Oak St  Subscriber   Male     1983.0  \n",
       "4            Paulina St & 18th St  Subscriber   Male     1989.0  "
      ]
     },
     "execution_count": 3,
     "metadata": {},
     "output_type": "execute_result"
    }
   ],
   "source": [
    "# concatenate all DataFrames in input_trips list\n",
    "# with a new index\n",
    "input_trips = pd.concat(input_trips)\n",
    "input_trips = input_trips.reset_index(drop=True)\n",
    "\n",
    "# display the first few rows of the input_trips DataFrame\n",
    "input_trips.head()"
   ]
  },
  {
   "cell_type": "markdown",
   "metadata": {},
   "source": [
    "The format of the data is suitable to work with. Column names are informative. The column <font color=\"red\"><tt>tripduration</tt></font> is in seconds. Let us get some more information about the data."
   ]
  },
  {
   "cell_type": "code",
   "execution_count": 4,
   "metadata": {
    "scrolled": true
   },
   "outputs": [
    {
     "name": "stdout",
     "output_type": "stream",
     "text": [
      "<class 'pandas.core.frame.DataFrame'>\n",
      "RangeIndex: 3603082 entries, 0 to 3603081\n",
      "Data columns (total 12 columns):\n",
      "trip_id              int64\n",
      "start_time           object\n",
      "end_time             object\n",
      "bikeid               int64\n",
      "tripduration         object\n",
      "from_station_id      int64\n",
      "from_station_name    object\n",
      "to_station_id        int64\n",
      "to_station_name      object\n",
      "usertype             object\n",
      "gender               object\n",
      "birthyear            float64\n",
      "dtypes: float64(1), int64(4), object(7)\n",
      "memory usage: 329.9+ MB\n"
     ]
    }
   ],
   "source": [
    "# display information about the input_trips DataFrame\n",
    "input_trips.info()"
   ]
  },
  {
   "cell_type": "markdown",
   "metadata": {},
   "source": [
    "This gives us several uselful informations. For instance, the total number of trips is 3603082."
   ]
  },
  {
   "cell_type": "markdown",
   "metadata": {},
   "source": [
    "## 3. Data wrangling"
   ]
  },
  {
   "cell_type": "markdown",
   "metadata": {},
   "source": [
    "Let us first import <tt>DateTime.datetime</tt> package."
   ]
  },
  {
   "cell_type": "code",
   "execution_count": 5,
   "metadata": {},
   "outputs": [],
   "source": [
    "# import datetime and numpy\n",
    "from datetime import datetime\n",
    "import numpy as np"
   ]
  },
  {
   "cell_type": "markdown",
   "metadata": {},
   "source": [
    "We start the wrangling process by making changes in the organization of the dataframe. We add a column for the age of a user. Next, we remove columns that will not be used: <font color=\"red\"><tt>trip_id</tt></font>, <font color=\"red\"><tt>end_time</tt></font>, <font color=\"red\"><tt>bikeid</tt></font>, <font color=\"red\"><tt>from_station_id</tt></font>, <font color=\"red\"><tt>to_station_id</tt></font>, <font color=\"red\"><tt>birthyear</tt></font>, and <font color=\"red\"><tt>gender</tt></font>. We convert <font color=\"red\"><tt>tripduration</tt></font> units from seconds to minutes. We also add a column for the day of the week."
   ]
  },
  {
   "cell_type": "code",
   "execution_count": 6,
   "metadata": {},
   "outputs": [],
   "source": [
    "# convert birthyear to age and save it as a new column\n",
    "input_trips['age'] = 2018 - input_trips['birthyear']\n",
    "\n",
    "# drop unnecessary columns\n",
    "drop_cols = ['trip_id', 'end_time', 'bikeid', 'from_station_id', 'to_station_id', 'birthyear', 'gender']\n",
    "input_trips.drop(drop_cols, axis='columns',inplace=True)\n",
    "\n",
    "# convert dtype of the tripduration column from string to float\n",
    "# then convert its units from seconds to minutes\n",
    "input_trips['tripduration'] = pd.to_numeric(input_trips['tripduration'].str.replace(',','')) / 60\n",
    "\n",
    "# convert dtype of the start_time column from string to datetime\n",
    "input_trips['start_time'] = pd.to_datetime(input_trips['start_time'], format='%Y-%m-%d %H:%M:%S')\n",
    "\n",
    "# create a new column that shows the weekday for each trip\n",
    "input_trips['start_weekday'] = input_trips['start_time'].dt.weekday"
   ]
  },
  {
   "cell_type": "markdown",
   "metadata": {},
   "source": [
    "Now <font color=\"red\"><tt>input_trips</tt></font> looks as follows."
   ]
  },
  {
   "cell_type": "code",
   "execution_count": 7,
   "metadata": {
    "scrolled": false
   },
   "outputs": [
    {
     "data": {
      "text/html": [
       "<div>\n",
       "<style scoped>\n",
       "    .dataframe tbody tr th:only-of-type {\n",
       "        vertical-align: middle;\n",
       "    }\n",
       "\n",
       "    .dataframe tbody tr th {\n",
       "        vertical-align: top;\n",
       "    }\n",
       "\n",
       "    .dataframe thead th {\n",
       "        text-align: right;\n",
       "    }\n",
       "</style>\n",
       "<table border=\"1\" class=\"dataframe\">\n",
       "  <thead>\n",
       "    <tr style=\"text-align: right;\">\n",
       "      <th></th>\n",
       "      <th>start_time</th>\n",
       "      <th>tripduration</th>\n",
       "      <th>from_station_name</th>\n",
       "      <th>to_station_name</th>\n",
       "      <th>usertype</th>\n",
       "      <th>age</th>\n",
       "      <th>start_weekday</th>\n",
       "    </tr>\n",
       "  </thead>\n",
       "  <tbody>\n",
       "    <tr>\n",
       "      <th>0</th>\n",
       "      <td>2018-01-01 00:12:00</td>\n",
       "      <td>5.383333</td>\n",
       "      <td>Damen Ave &amp; Pierce Ave</td>\n",
       "      <td>Claremont Ave &amp; Hirsch St</td>\n",
       "      <td>Subscriber</td>\n",
       "      <td>30.0</td>\n",
       "      <td>0</td>\n",
       "    </tr>\n",
       "    <tr>\n",
       "      <th>1</th>\n",
       "      <td>2018-01-01 00:41:35</td>\n",
       "      <td>6.283333</td>\n",
       "      <td>Winthrop Ave &amp; Lawrence Ave</td>\n",
       "      <td>Clark St &amp; Winnemac Ave (Temp)</td>\n",
       "      <td>Subscriber</td>\n",
       "      <td>34.0</td>\n",
       "      <td>0</td>\n",
       "    </tr>\n",
       "    <tr>\n",
       "      <th>2</th>\n",
       "      <td>2018-01-01 00:44:46</td>\n",
       "      <td>48.400000</td>\n",
       "      <td>LaSalle St &amp; Washington St</td>\n",
       "      <td>Troy St &amp; North Ave</td>\n",
       "      <td>Subscriber</td>\n",
       "      <td>29.0</td>\n",
       "      <td>0</td>\n",
       "    </tr>\n",
       "    <tr>\n",
       "      <th>3</th>\n",
       "      <td>2018-01-01 00:53:10</td>\n",
       "      <td>12.450000</td>\n",
       "      <td>Rush St &amp; Hubbard St</td>\n",
       "      <td>Larrabee St &amp; Oak St</td>\n",
       "      <td>Subscriber</td>\n",
       "      <td>35.0</td>\n",
       "      <td>0</td>\n",
       "    </tr>\n",
       "    <tr>\n",
       "      <th>4</th>\n",
       "      <td>2018-01-01 00:53:37</td>\n",
       "      <td>3.050000</td>\n",
       "      <td>Blue Island Ave &amp; 18th St</td>\n",
       "      <td>Paulina St &amp; 18th St</td>\n",
       "      <td>Subscriber</td>\n",
       "      <td>29.0</td>\n",
       "      <td>0</td>\n",
       "    </tr>\n",
       "  </tbody>\n",
       "</table>\n",
       "</div>"
      ],
      "text/plain": [
       "           start_time  tripduration            from_station_name  \\\n",
       "0 2018-01-01 00:12:00      5.383333       Damen Ave & Pierce Ave   \n",
       "1 2018-01-01 00:41:35      6.283333  Winthrop Ave & Lawrence Ave   \n",
       "2 2018-01-01 00:44:46     48.400000   LaSalle St & Washington St   \n",
       "3 2018-01-01 00:53:10     12.450000         Rush St & Hubbard St   \n",
       "4 2018-01-01 00:53:37      3.050000    Blue Island Ave & 18th St   \n",
       "\n",
       "                  to_station_name    usertype   age  start_weekday  \n",
       "0       Claremont Ave & Hirsch St  Subscriber  30.0              0  \n",
       "1  Clark St & Winnemac Ave (Temp)  Subscriber  34.0              0  \n",
       "2             Troy St & North Ave  Subscriber  29.0              0  \n",
       "3            Larrabee St & Oak St  Subscriber  35.0              0  \n",
       "4            Paulina St & 18th St  Subscriber  29.0              0  "
      ]
     },
     "execution_count": 7,
     "metadata": {},
     "output_type": "execute_result"
    }
   ],
   "source": [
    "# display the first few rows of the input_trips DataFrame\n",
    "input_trips.head()"
   ]
  },
  {
   "cell_type": "markdown",
   "metadata": {},
   "source": [
    "Next thing that we should do is to check missing values, which are labeled by 'NaN'. For this, we print out the numbers of non-null entries for each column."
   ]
  },
  {
   "cell_type": "code",
   "execution_count": 8,
   "metadata": {
    "scrolled": false
   },
   "outputs": [
    {
     "data": {
      "text/plain": [
       "start_time           3603082\n",
       "tripduration         3603082\n",
       "from_station_name    3603082\n",
       "to_station_name      3603082\n",
       "usertype             3603082\n",
       "age                  3047873\n",
       "start_weekday        3603082\n",
       "dtype: int64"
      ]
     },
     "execution_count": 8,
     "metadata": {},
     "output_type": "execute_result"
    }
   ],
   "source": [
    "# display the numbers of non-null entries\n",
    "# in each column of the input_trips DataFrame\n",
    "input_trips.count()"
   ]
  },
  {
   "cell_type": "markdown",
   "metadata": {},
   "source": [
    "We can see that <font color=\"red\"><tt>birthyear</tt></font> column has some missing values. But this makes sense, since birth year is available if the rider is a 'Subscriber' but not necesseraly if a 'Customer'. For that reason, we set entries of <font color=\"red\"><tt>age</tt></font> column for 'Customers' to be 'NaN'."
   ]
  },
  {
   "cell_type": "code",
   "execution_count": 9,
   "metadata": {},
   "outputs": [],
   "source": [
    "# set up the filter for 'Customers'\n",
    "customer = input_trips.usertype == 'Customer'\n",
    "\n",
    "# set entries of age column for 'Customers' to be 'NaN'\n",
    "input_trips.loc[customer,'age'] = np.nan"
   ]
  },
  {
   "cell_type": "markdown",
   "metadata": {},
   "source": [
    "After running the code below, we see that the previous code worked well."
   ]
  },
  {
   "cell_type": "code",
   "execution_count": 10,
   "metadata": {
    "scrolled": false
   },
   "outputs": [
    {
     "data": {
      "text/plain": [
       "start_time           677156\n",
       "tripduration         677156\n",
       "from_station_name    677156\n",
       "to_station_name      677156\n",
       "usertype             677156\n",
       "age                       0\n",
       "start_weekday        677156\n",
       "dtype: int64"
      ]
     },
     "execution_count": 10,
     "metadata": {},
     "output_type": "execute_result"
    }
   ],
   "source": [
    "# display the numbers of non-null entries in each column\n",
    "# for 'Customers' of the input_trips DataFrame\n",
    "input_trips[customer].count()"
   ]
  },
  {
   "cell_type": "markdown",
   "metadata": {},
   "source": [
    "Now we have missed values in <font color='red'><tt>age</tt></font> column only for 'Subscriber' rows."
   ]
  },
  {
   "cell_type": "code",
   "execution_count": 11,
   "metadata": {
    "scrolled": false
   },
   "outputs": [
    {
     "data": {
      "text/plain": [
       "start_time           2925926\n",
       "tripduration         2925926\n",
       "from_station_name    2925926\n",
       "to_station_name      2925926\n",
       "usertype             2925926\n",
       "age                  2922711\n",
       "start_weekday        2925926\n",
       "dtype: int64"
      ]
     },
     "execution_count": 11,
     "metadata": {},
     "output_type": "execute_result"
    }
   ],
   "source": [
    "# set up the filter for 'Subscribers'\n",
    "subscriber = input_trips.usertype == 'Subscriber'\n",
    "\n",
    "# display the numbers of non-null entries in each column\n",
    "# for 'Subscribers' of the input_trips DataFrame\n",
    "input_trips[subscriber].count()"
   ]
  },
  {
   "cell_type": "markdown",
   "metadata": {},
   "source": [
    "We replace those missed values in the <font color='red'><tt>age</tt></font> column by the mean of all ages."
   ]
  },
  {
   "cell_type": "code",
   "execution_count": 12,
   "metadata": {},
   "outputs": [],
   "source": [
    "# calculate the average age among subscribers\n",
    "average_age = np.ceil(input_trips.loc[subscriber,'age'].mean())\n",
    "\n",
    "# replace missed values in the age column\n",
    "# for subscribers with average_age\n",
    "input_trips.loc[subscriber,'age'] = input_trips.loc[subscriber,'age'].fillna(average_age)"
   ]
  },
  {
   "cell_type": "markdown",
   "metadata": {},
   "source": [
    "Printing out the number of non-null entries for each column we see that there are no missing values for 'Subscribers'."
   ]
  },
  {
   "cell_type": "code",
   "execution_count": 13,
   "metadata": {
    "scrolled": false
   },
   "outputs": [
    {
     "data": {
      "text/plain": [
       "start_time           2925926\n",
       "tripduration         2925926\n",
       "from_station_name    2925926\n",
       "to_station_name      2925926\n",
       "usertype             2925926\n",
       "age                  2925926\n",
       "start_weekday        2925926\n",
       "dtype: int64"
      ]
     },
     "execution_count": 13,
     "metadata": {},
     "output_type": "execute_result"
    }
   ],
   "source": [
    "# display the numbers of non-null entries in each column\n",
    "# for 'Subscribers' of the input_trips DataFrame\n",
    "input_trips[subscriber].count()"
   ]
  },
  {
   "cell_type": "markdown",
   "metadata": {},
   "source": [
    "Now that we have the tidied data, let us save it to a separate CSV file and work directly with that data file in the next section."
   ]
  },
  {
   "cell_type": "code",
   "execution_count": 14,
   "metadata": {},
   "outputs": [],
   "source": [
    "# write the cleaned data to 'Divvy_Trips_2018_clean.csv'\n",
    "# with dropped indices\n",
    "input_trips.to_csv('Divvy_Trips_2018_clean.csv', index=False)"
   ]
  },
  {
   "cell_type": "markdown",
   "metadata": {},
   "source": [
    "Now, let us read <font color='red'><tt>Divvy_Bicycle_Stations.csv</tt></font> into a pandas DataFrame and print out first several rows to see how the data looks."
   ]
  },
  {
   "cell_type": "code",
   "execution_count": 15,
   "metadata": {},
   "outputs": [
    {
     "data": {
      "text/html": [
       "<div>\n",
       "<style scoped>\n",
       "    .dataframe tbody tr th:only-of-type {\n",
       "        vertical-align: middle;\n",
       "    }\n",
       "\n",
       "    .dataframe tbody tr th {\n",
       "        vertical-align: top;\n",
       "    }\n",
       "\n",
       "    .dataframe thead th {\n",
       "        text-align: right;\n",
       "    }\n",
       "</style>\n",
       "<table border=\"1\" class=\"dataframe\">\n",
       "  <thead>\n",
       "    <tr style=\"text-align: right;\">\n",
       "      <th></th>\n",
       "      <th>ID</th>\n",
       "      <th>Station Name</th>\n",
       "      <th>Address</th>\n",
       "      <th>Total Docks</th>\n",
       "      <th>Docks in Service</th>\n",
       "      <th>Status</th>\n",
       "      <th>Latitude</th>\n",
       "      <th>Longitude</th>\n",
       "      <th>Location</th>\n",
       "    </tr>\n",
       "  </thead>\n",
       "  <tbody>\n",
       "    <tr>\n",
       "      <th>0</th>\n",
       "      <td>11</td>\n",
       "      <td>Jeffery Blvd &amp; 71st St</td>\n",
       "      <td>Jeffery Blvd &amp; 71st St</td>\n",
       "      <td>11</td>\n",
       "      <td>11</td>\n",
       "      <td>In Service</td>\n",
       "      <td>41.766638</td>\n",
       "      <td>-87.576450</td>\n",
       "      <td>(41.76663823695, -87.5764501141)</td>\n",
       "    </tr>\n",
       "    <tr>\n",
       "      <th>1</th>\n",
       "      <td>106</td>\n",
       "      <td>State St &amp; Pearson St</td>\n",
       "      <td>State St &amp; Pearson St</td>\n",
       "      <td>27</td>\n",
       "      <td>27</td>\n",
       "      <td>In Service</td>\n",
       "      <td>41.897448</td>\n",
       "      <td>-87.628722</td>\n",
       "      <td>(41.897448, -87.628722)</td>\n",
       "    </tr>\n",
       "    <tr>\n",
       "      <th>2</th>\n",
       "      <td>661</td>\n",
       "      <td>Evanston Civic Center</td>\n",
       "      <td>Evanston Civic Center</td>\n",
       "      <td>15</td>\n",
       "      <td>15</td>\n",
       "      <td>In Service</td>\n",
       "      <td>42.057044</td>\n",
       "      <td>-87.686554</td>\n",
       "      <td>(42.057044, -87.686554)</td>\n",
       "    </tr>\n",
       "    <tr>\n",
       "      <th>3</th>\n",
       "      <td>622</td>\n",
       "      <td>California Ave &amp; Cortez St</td>\n",
       "      <td>California Ave &amp; Cortez St</td>\n",
       "      <td>15</td>\n",
       "      <td>15</td>\n",
       "      <td>In Service</td>\n",
       "      <td>41.900363</td>\n",
       "      <td>-87.696704</td>\n",
       "      <td>(41.900363, -87.696704)</td>\n",
       "    </tr>\n",
       "    <tr>\n",
       "      <th>4</th>\n",
       "      <td>665</td>\n",
       "      <td>South Chicago Ave &amp; Elliot Ave</td>\n",
       "      <td>South Chicago Ave &amp; Elliot Ave</td>\n",
       "      <td>7</td>\n",
       "      <td>7</td>\n",
       "      <td>In Service</td>\n",
       "      <td>41.747363</td>\n",
       "      <td>-87.580046</td>\n",
       "      <td>(41.747363, -87.580046)</td>\n",
       "    </tr>\n",
       "  </tbody>\n",
       "</table>\n",
       "</div>"
      ],
      "text/plain": [
       "    ID                    Station Name                         Address  \\\n",
       "0   11          Jeffery Blvd & 71st St          Jeffery Blvd & 71st St   \n",
       "1  106           State St & Pearson St           State St & Pearson St   \n",
       "2  661           Evanston Civic Center           Evanston Civic Center   \n",
       "3  622      California Ave & Cortez St      California Ave & Cortez St   \n",
       "4  665  South Chicago Ave & Elliot Ave  South Chicago Ave & Elliot Ave   \n",
       "\n",
       "   Total Docks  Docks in Service      Status   Latitude  Longitude  \\\n",
       "0           11                11  In Service  41.766638 -87.576450   \n",
       "1           27                27  In Service  41.897448 -87.628722   \n",
       "2           15                15  In Service  42.057044 -87.686554   \n",
       "3           15                15  In Service  41.900363 -87.696704   \n",
       "4            7                 7  In Service  41.747363 -87.580046   \n",
       "\n",
       "                           Location  \n",
       "0  (41.76663823695, -87.5764501141)  \n",
       "1           (41.897448, -87.628722)  \n",
       "2           (42.057044, -87.686554)  \n",
       "3           (41.900363, -87.696704)  \n",
       "4           (41.747363, -87.580046)  "
      ]
     },
     "execution_count": 15,
     "metadata": {},
     "output_type": "execute_result"
    }
   ],
   "source": [
    "# read a csv file into pandas DataFrame;\n",
    "stations = pd.read_csv('Divvy_Bicycle_Stations.csv')\n",
    "\n",
    "# display the first few rows of the stations DataFrame\n",
    "stations.head()"
   ]
  },
  {
   "cell_type": "markdown",
   "metadata": {},
   "source": [
    "We get rid off columns that are not needed for our work. We also rename <font color='red'><tt>Station Name</tt></font> column to be <font color='red'><tt>station_name</tt></font>."
   ]
  },
  {
   "cell_type": "code",
   "execution_count": 16,
   "metadata": {},
   "outputs": [],
   "source": [
    "# drop unnecessary columns\n",
    "drop_cols = ['ID', 'Address', 'Total Docks',\n",
    "             'Docks in Service', 'Status', 'Location']\n",
    "stations.drop(drop_cols, axis='columns', inplace=True)\n",
    "\n",
    "# rename 'Station Name' column as 'station_name'\n",
    "stations.rename(columns = {'Station Name':'station_name'}, inplace=True)"
   ]
  },
  {
   "cell_type": "markdown",
   "metadata": {},
   "source": [
    "Now <font color='red'><tt>stations</tt></font> has the following form."
   ]
  },
  {
   "cell_type": "code",
   "execution_count": 17,
   "metadata": {},
   "outputs": [
    {
     "data": {
      "text/html": [
       "<div>\n",
       "<style scoped>\n",
       "    .dataframe tbody tr th:only-of-type {\n",
       "        vertical-align: middle;\n",
       "    }\n",
       "\n",
       "    .dataframe tbody tr th {\n",
       "        vertical-align: top;\n",
       "    }\n",
       "\n",
       "    .dataframe thead th {\n",
       "        text-align: right;\n",
       "    }\n",
       "</style>\n",
       "<table border=\"1\" class=\"dataframe\">\n",
       "  <thead>\n",
       "    <tr style=\"text-align: right;\">\n",
       "      <th></th>\n",
       "      <th>station_name</th>\n",
       "      <th>Latitude</th>\n",
       "      <th>Longitude</th>\n",
       "    </tr>\n",
       "  </thead>\n",
       "  <tbody>\n",
       "    <tr>\n",
       "      <th>0</th>\n",
       "      <td>Jeffery Blvd &amp; 71st St</td>\n",
       "      <td>41.766638</td>\n",
       "      <td>-87.576450</td>\n",
       "    </tr>\n",
       "    <tr>\n",
       "      <th>1</th>\n",
       "      <td>State St &amp; Pearson St</td>\n",
       "      <td>41.897448</td>\n",
       "      <td>-87.628722</td>\n",
       "    </tr>\n",
       "    <tr>\n",
       "      <th>2</th>\n",
       "      <td>Evanston Civic Center</td>\n",
       "      <td>42.057044</td>\n",
       "      <td>-87.686554</td>\n",
       "    </tr>\n",
       "    <tr>\n",
       "      <th>3</th>\n",
       "      <td>California Ave &amp; Cortez St</td>\n",
       "      <td>41.900363</td>\n",
       "      <td>-87.696704</td>\n",
       "    </tr>\n",
       "    <tr>\n",
       "      <th>4</th>\n",
       "      <td>South Chicago Ave &amp; Elliot Ave</td>\n",
       "      <td>41.747363</td>\n",
       "      <td>-87.580046</td>\n",
       "    </tr>\n",
       "  </tbody>\n",
       "</table>\n",
       "</div>"
      ],
      "text/plain": [
       "                     station_name   Latitude  Longitude\n",
       "0          Jeffery Blvd & 71st St  41.766638 -87.576450\n",
       "1           State St & Pearson St  41.897448 -87.628722\n",
       "2           Evanston Civic Center  42.057044 -87.686554\n",
       "3      California Ave & Cortez St  41.900363 -87.696704\n",
       "4  South Chicago Ave & Elliot Ave  41.747363 -87.580046"
      ]
     },
     "execution_count": 17,
     "metadata": {},
     "output_type": "execute_result"
    }
   ],
   "source": [
    "# display the first few rows of the stations DataFrame\n",
    "stations.head()"
   ]
  },
  {
   "cell_type": "markdown",
   "metadata": {},
   "source": [
    "The code below ensures that there are no missing values."
   ]
  },
  {
   "cell_type": "code",
   "execution_count": 18,
   "metadata": {
    "scrolled": false
   },
   "outputs": [
    {
     "name": "stdout",
     "output_type": "stream",
     "text": [
      "<class 'pandas.core.frame.DataFrame'>\n",
      "RangeIndex: 608 entries, 0 to 607\n",
      "Data columns (total 3 columns):\n",
      "station_name    608 non-null object\n",
      "Latitude        608 non-null float64\n",
      "Longitude       608 non-null float64\n",
      "dtypes: float64(2), object(1)\n",
      "memory usage: 14.3+ KB\n"
     ]
    }
   ],
   "source": [
    "# display information about the stations DataFrame\n",
    "stations.info()"
   ]
  },
  {
   "cell_type": "markdown",
   "metadata": {},
   "source": [
    "We save the data to a CSV file."
   ]
  },
  {
   "cell_type": "code",
   "execution_count": 19,
   "metadata": {},
   "outputs": [],
   "source": [
    "# write the cleaned data to 'Divvy_Stations_clean.csv'\n",
    "# with dropped indices\n",
    "stations.to_csv('Divvy_Stations_clean.csv', index=False)"
   ]
  },
  {
   "cell_type": "markdown",
   "metadata": {},
   "source": [
    "We are now ready to do an exploratory analysis."
   ]
  },
  {
   "cell_type": "markdown",
   "metadata": {},
   "source": [
    "## 4. Exploratory analysis"
   ]
  },
  {
   "cell_type": "markdown",
   "metadata": {},
   "source": [
    "We first read cleaned data files into pandas DataFrames."
   ]
  },
  {
   "cell_type": "code",
   "execution_count": 20,
   "metadata": {
    "scrolled": false
   },
   "outputs": [],
   "source": [
    "# read csv files with clean data into pandas DataFrames;\n",
    "# recognize start_time column as TimesSeries object\n",
    "trips = pd.read_csv('Divvy_Trips_2018_clean.csv', parse_dates=['start_time'])\n",
    "stations = pd.read_csv('Divvy_Stations_clean.csv', index_col=0)"
   ]
  },
  {
   "cell_type": "markdown",
   "metadata": {},
   "source": [
    "Since exploratory analysis heavily based on plots, let us import a necessary packages for plotting."
   ]
  },
  {
   "cell_type": "code",
   "execution_count": 21,
   "metadata": {},
   "outputs": [],
   "source": [
    "# import necessary packages\n",
    "from matplotlib import pyplot as plt\n",
    "import seaborn as sns\n",
    "\n",
    "# set seaborn styling\n",
    "sns.set()"
   ]
  },
  {
   "cell_type": "markdown",
   "metadata": {},
   "source": [
    "Now, we are ready to analyze our data."
   ]
  },
  {
   "cell_type": "markdown",
   "metadata": {},
   "source": [
    "### 4.1. What is the regular duration of the trip?"
   ]
  },
  {
   "cell_type": "markdown",
   "metadata": {},
   "source": [
    "We start by looking at the distribution of trip durations. To that end, we plot a duration versus number of trips histogram. Each bar stands for 5 minutes. Since there is an extra charge for riding longer in a single trip, it is natural to expect that most trip durations will be less than 30 minutes."
   ]
  },
  {
   "cell_type": "code",
   "execution_count": 22,
   "metadata": {
    "scrolled": false
   },
   "outputs": [
    {
     "data": {
      "image/png": "[encoded data removed]",
      "text/plain": [
       "<Figure size 576x288 with 1 Axes>"
      ]
     },
     "metadata": {
      "needs_background": "light"
     },
     "output_type": "display_data"
    }
   ],
   "source": [
    "# select the tripduration column of the trips DataFrame\n",
    "# for which tripduration <= 60\n",
    "durations = trips.loc[trips.tripduration <= 60,'tripduration']\n",
    "\n",
    "# setup bins from 0 to 60 minutes with 5 minutes increment\n",
    "bins = np.arange(0,61,step=5)\n",
    "\n",
    "# draw and show the histogram for the durations Series\n",
    "durations.plot.hist(bins=bins, figsize=[8,4], title='Numbers of Trips by Duration')\n",
    "plt.show()"
   ]
  },
  {
   "cell_type": "markdown",
   "metadata": {},
   "source": [
    "The plot shows that about 2400000 trips (out of 3594137) last less than 15 minutes. Also, about 850000 trips have a duration of more than 15 minutes, but less than 30 minutes. Hence, the most of trips (about 90%) are less than 30 minutes as expected.\n",
    "\n",
    "Let us now explore how seasons affect to trip durations."
   ]
  },
  {
   "cell_type": "code",
   "execution_count": 23,
   "metadata": {
    "scrolled": true
   },
   "outputs": [
    {
     "data": {
      "image/png": "[encoded data removed]",
      "text/plain": [
       "<Figure size 432x288 with 1 Axes>"
      ]
     },
     "metadata": {
      "needs_background": "light"
     },
     "output_type": "display_data"
    }
   ],
   "source": [
    "# create a new column that shows the month for each trip\n",
    "trips['start_month'] = trips.start_time.dt.month\n",
    "\n",
    "# draw and show the countplot for the start_month column\n",
    "sns.countplot(x='start_month', data=trips)\n",
    "plt.title('Numbers of Trips by Month')\n",
    "plt.show()"
   ]
  },
  {
   "cell_type": "markdown",
   "metadata": {},
   "source": [
    "Clearly, the peak of bike rents is during late Spring, Summer and early Autumn thanks to favorable weather conditions. But, bike rental reaches its least amount in winter time due to severe winters in Chicago. During these period, it seems that bulk of people prefer to use alternative ways of transportation. It is probably the best season to schedule annual bike maintenance work.\n",
    "\n",
    "In fact, as we demonstrate below, even trip durations will be dropped during winter."
   ]
  },
  {
   "cell_type": "code",
   "execution_count": 24,
   "metadata": {},
   "outputs": [
    {
     "data": {
      "text/plain": [
       "<matplotlib.axes._subplots.AxesSubplot at 0x1227f4d68>"
      ]
     },
     "execution_count": 24,
     "metadata": {},
     "output_type": "execute_result"
    },
    {
     "data": {
      "image/png": "[encoded data removed]",
      "text/plain": [
       "<Figure size 576x288 with 1 Axes>"
      ]
     },
     "metadata": {
      "needs_background": "light"
     },
     "output_type": "display_data"
    }
   ],
   "source": [
    "# set up the filter for 'Winter' in trips DataFrame\n",
    "winter_filter = trips.start_month.isin([1,2,12])\n",
    "\n",
    "# select the tripduration column of the trips DataFrame\n",
    "# via winter_filter for which tripduration <= 60 \n",
    "durations_winter = trips.loc[winter_filter & (trips.tripduration <= 60),'tripduration']\n",
    "\n",
    "# draw and show the histogram for the durations_winter Series\n",
    "durations_winter.plot.hist(bins=bins, figsize=[8,4], title='Numbers of Trips by Duration during Winter')"
   ]
  },
  {
   "cell_type": "code",
   "execution_count": 25,
   "metadata": {},
   "outputs": [
    {
     "data": {
      "text/plain": [
       "341628"
      ]
     },
     "execution_count": 25,
     "metadata": {},
     "output_type": "execute_result"
    }
   ],
   "source": [
    "# count the total number of winter trips\n",
    "winter_filter.sum()"
   ]
  },
  {
   "cell_type": "markdown",
   "metadata": {},
   "source": [
    "From the plot, it is not difficult to see that about 310000 winter trips (out of 341628) last less than 20 minutes. This is about 90%."
   ]
  },
  {
   "cell_type": "markdown",
   "metadata": {},
   "source": [
    "### 4.2. Who are main bike renters?"
   ]
  },
  {
   "cell_type": "markdown",
   "metadata": {},
   "source": [
    "Let us first look how trips are divided by user types. The code below shows how many 'Subscriber' and 'Customer' trips are made."
   ]
  },
  {
   "cell_type": "code",
   "execution_count": 26,
   "metadata": {},
   "outputs": [
    {
     "data": {
      "image/png": "[encoded data removed]",
      "text/plain": [
       "<Figure size 432x288 with 1 Axes>"
      ]
     },
     "metadata": {
      "needs_background": "light"
     },
     "output_type": "display_data"
    }
   ],
   "source": [
    "# draw and show the countplot for the usertype column\n",
    "sns.countplot(x='usertype', data=trips)\n",
    "plt.title('Numbers of Trips by User Type')\n",
    "plt.show()"
   ]
  },
  {
   "cell_type": "markdown",
   "metadata": {},
   "source": [
    "We see that about 80% of trips are made by 'Subscribers' while 20% by 'Customers'. Based on this, we conjecture that 'Subscribers' are primarily people commuting to and from work, and 'Customers' are mainly tourists (in a broad sense).\n",
    "\n",
    "Let us introduce 'Subscriber' and 'Customer' filters that will be used several times."
   ]
  },
  {
   "cell_type": "markdown",
   "metadata": {},
   "source": [
    "We concentrate on many factors in the data that affect to the numbers of trips. We look at the numbers of 'Subscriber' and 'Customer' trips by weekdays. In the plot shown below, weekdays are numbered from 0 to 6, where 0 is for Monday and 6 is for Sunday."
   ]
  },
  {
   "cell_type": "code",
   "execution_count": 27,
   "metadata": {},
   "outputs": [
    {
     "data": {
      "image/png": "[encoded data removed]",
      "text/plain": [
       "<Figure size 576x288 with 1 Axes>"
      ]
     },
     "metadata": {
      "needs_background": "light"
     },
     "output_type": "display_data"
    }
   ],
   "source": [
    "# draw and show the countplot for the start_weekday column\n",
    "# hue by usertype column\n",
    "plt.figure(figsize=(8,4))\n",
    "sns.countplot(x='start_weekday', hue='usertype', data=trips)\n",
    "plt.title('Numbers of Trips by Days of Week')\n",
    "plt.xticks([0,1,2,3,4,5,6],['Mon', 'Tue', 'Wed', 'Th', 'Fri', 'Sat', 'Sun'])\n",
    "plt.show()"
   ]
  },
  {
   "cell_type": "markdown",
   "metadata": {},
   "source": [
    "The numbers of 'Subscriber' trips during workdays are high, and reduces sharply during weekends. The numbers of 'Customer' trips are behaving in the opposite way. These observations fit with our conjecture, since commuting people are more active during workdays while tourist flow increases during weekends.\n",
    "\n",
    "For more confirmation of our conjecture, we look at the numbers of trips by hours during workdays and weekends."
   ]
  },
  {
   "cell_type": "code",
   "execution_count": 28,
   "metadata": {},
   "outputs": [],
   "source": [
    "# set up filters for 'Subscribers' and 'Customers'\n",
    "subscriber = trips['usertype'] == 'Subscriber'\n",
    "customer = trips['usertype'] == 'Customer'"
   ]
  },
  {
   "cell_type": "code",
   "execution_count": 29,
   "metadata": {
    "scrolled": false
   },
   "outputs": [
    {
     "data": {
      "image/png": "[encoded data removed]",
      "text/plain": [
       "<Figure size 720x360 with 1 Axes>"
      ]
     },
     "metadata": {
      "needs_background": "light"
     },
     "output_type": "display_data"
    }
   ],
   "source": [
    "# create a new column that shows whether each trip was the weekend\n",
    "trips['weekend'] = trips.start_weekday.isin([5,6])\n",
    "\n",
    "# create a new column that shows the start hour for each trip\n",
    "trips['start_hour'] = trips.start_time.dt.hour\n",
    "\n",
    "# draw and show the countplot for the start_hour column\n",
    "# hue by weekend column\n",
    "# filter to 'Subscribers'\n",
    "plt.figure(figsize=(10,5))\n",
    "sns.countplot(x='start_hour', hue='weekend', data=trips[subscriber]) \n",
    "plt.title('Numbers of \\'Subscriber\\' Trips by Hours')\n",
    "plt.show()"
   ]
  },
  {
   "cell_type": "markdown",
   "metadata": {},
   "source": [
    "During workdays, the numbers of 'Subscriber' trips are very high from 7 a.m. to 9 a.m. and from 4 p.m. to 7 p.m. These are the usual time periods when people commute to and from work. Usually, people work in offices from 9 a.m. to 4:30 p.m. and the plot shows that the numbers of trips are reduced during this time interval. According to the plot, we can see that numbers of 'Subscriber' trips during weekends are much less with most of the rents being made between 10 a.m. and 6 p.m. This makes sense, since working people usually have a later start days during weekends.\n",
    "\n",
    "With the following code, we observe that the numbers of 'Customer' trips during weekdays and weekends do not differ much."
   ]
  },
  {
   "cell_type": "code",
   "execution_count": 30,
   "metadata": {
    "scrolled": false
   },
   "outputs": [
    {
     "data": {
      "image/png": "[encoded data removed]",
      "text/plain": [
       "<Figure size 720x360 with 1 Axes>"
      ]
     },
     "metadata": {
      "needs_background": "light"
     },
     "output_type": "display_data"
    }
   ],
   "source": [
    "# draw and show the countplot for the start_hour column\n",
    "# hue by weekend column\n",
    "# filter to 'Customers'\n",
    "plt.figure(figsize=(10,5))\n",
    "sns.countplot(x='start_hour', hue='weekend', data=trips[customer]) \n",
    "plt.title('Numbers of \\'Customer\\' Trips by Hours')\n",
    "plt.show()"
   ]
  },
  {
   "cell_type": "markdown",
   "metadata": {},
   "source": [
    "Now we explore how 'Subscriber' trips are distributed by ages. This will help us determine the ages of most of 'Subscribers'. We filter down the age interval to adult working ages (from 18-60 years)."
   ]
  },
  {
   "cell_type": "code",
   "execution_count": 31,
   "metadata": {},
   "outputs": [
    {
     "data": {
      "text/plain": [
       "<matplotlib.axes._subplots.AxesSubplot at 0x124ad1a20>"
      ]
     },
     "execution_count": 31,
     "metadata": {},
     "output_type": "execute_result"
    },
    {
     "data": {
      "image/png": "[encoded data removed]",
      "text/plain": [
       "<Figure size 720x360 with 1 Axes>"
      ]
     },
     "metadata": {
      "needs_background": "light"
     },
     "output_type": "display_data"
    }
   ],
   "source": [
    "# convert dtype of the age column for 'Subscribers' to integer\n",
    "subs_age = trips.loc[subscriber,'age'].astype(int)\n",
    "\n",
    "# count the number of 'Subscriber' trips by age\n",
    "# for ages between 18 and 60\n",
    "age_count = subs_age[(18 <= subs_age) & (subs_age <= 60)].value_counts().sort_index()\n",
    "\n",
    "# draw and show the barplot for the age_count Series\n",
    "age_count.plot.bar(rot=0, figsize=[10,5], color='b', title='Numbers of Trips by User Age')"
   ]
  },
  {
   "cell_type": "markdown",
   "metadata": {},
   "source": [
    "It seems that the bulk of 'Subscribers' are 23-41 years old. This gives more affirmation of our hypothesis, since most office employees are young or middle-aged."
   ]
  },
  {
   "cell_type": "markdown",
   "metadata": {},
   "source": [
    "### 4.3. What part of Chicago has the most and least bike rentals?"
   ]
  },
  {
   "cell_type": "markdown",
   "metadata": {},
   "source": [
    "To see the most popular and least popular stations within each part of the city, it is helpful to view the rentals data on a map. To that end, we create a new Series which shows the number of rentals made from each station during weekdays and weekends."
   ]
  },
  {
   "cell_type": "code",
   "execution_count": 32,
   "metadata": {},
   "outputs": [
    {
     "data": {
      "text/html": [
       "<div>\n",
       "<style scoped>\n",
       "    .dataframe tbody tr th:only-of-type {\n",
       "        vertical-align: middle;\n",
       "    }\n",
       "\n",
       "    .dataframe tbody tr th {\n",
       "        vertical-align: top;\n",
       "    }\n",
       "\n",
       "    .dataframe thead th {\n",
       "        text-align: right;\n",
       "    }\n",
       "</style>\n",
       "<table border=\"1\" class=\"dataframe\">\n",
       "  <thead>\n",
       "    <tr style=\"text-align: right;\">\n",
       "      <th></th>\n",
       "      <th>weekends</th>\n",
       "      <th>weekdays</th>\n",
       "    </tr>\n",
       "    <tr>\n",
       "      <th>station_name</th>\n",
       "      <th></th>\n",
       "      <th></th>\n",
       "    </tr>\n",
       "  </thead>\n",
       "  <tbody>\n",
       "    <tr>\n",
       "      <th>Streeter Dr &amp; Grand Ave</th>\n",
       "      <td>28877</td>\n",
       "      <td>38067</td>\n",
       "    </tr>\n",
       "    <tr>\n",
       "      <th>Lake Shore Dr &amp; Monroe St</th>\n",
       "      <td>16648</td>\n",
       "      <td>19526</td>\n",
       "    </tr>\n",
       "    <tr>\n",
       "      <th>Lake Shore Dr &amp; North Blvd</th>\n",
       "      <td>13360</td>\n",
       "      <td>17843</td>\n",
       "    </tr>\n",
       "    <tr>\n",
       "      <th>Theater on the Lake</th>\n",
       "      <td>12854</td>\n",
       "      <td>17825</td>\n",
       "    </tr>\n",
       "    <tr>\n",
       "      <th>Michigan Ave &amp; Oak St</th>\n",
       "      <td>11024</td>\n",
       "      <td>18350</td>\n",
       "    </tr>\n",
       "  </tbody>\n",
       "</table>\n",
       "</div>"
      ],
      "text/plain": [
       "                            weekends  weekdays\n",
       "station_name                                  \n",
       "Streeter Dr & Grand Ave        28877     38067\n",
       "Lake Shore Dr & Monroe St      16648     19526\n",
       "Lake Shore Dr & North Blvd     13360     17843\n",
       "Theater on the Lake            12854     17825\n",
       "Michigan Ave & Oak St          11024     18350"
      ]
     },
     "execution_count": 32,
     "metadata": {},
     "output_type": "execute_result"
    }
   ],
   "source": [
    "# create an empty DataFrame\n",
    "stations_trips_n = pd.DataFrame()\n",
    "\n",
    "# add two columns to count the number of rentals made\n",
    "# from each station\n",
    "# one column for weekends and another for weekdays\n",
    "stations_trips_n['weekends'] = trips.loc[trips['weekend'],'from_station_name'].value_counts()\n",
    "stations_trips_n['weekdays'] = trips.loc[~trips['weekend'],'from_station_name'].value_counts()\n",
    "\n",
    "# change the name of indices to station_name\n",
    "stations_trips_n.index.names = ['station_name']\n",
    "stations_trips_n.head()"
   ]
  },
  {
   "cell_type": "markdown",
   "metadata": {},
   "source": [
    "Next, we merge <font color='red'><tt>stations_trips_n</tt></font> and <font color='red'><tt>stations</tt></font> DataFrames on their indices and display first few rows."
   ]
  },
  {
   "cell_type": "code",
   "execution_count": 33,
   "metadata": {},
   "outputs": [
    {
     "data": {
      "text/html": [
       "<div>\n",
       "<style scoped>\n",
       "    .dataframe tbody tr th:only-of-type {\n",
       "        vertical-align: middle;\n",
       "    }\n",
       "\n",
       "    .dataframe tbody tr th {\n",
       "        vertical-align: top;\n",
       "    }\n",
       "\n",
       "    .dataframe thead th {\n",
       "        text-align: right;\n",
       "    }\n",
       "</style>\n",
       "<table border=\"1\" class=\"dataframe\">\n",
       "  <thead>\n",
       "    <tr style=\"text-align: right;\">\n",
       "      <th></th>\n",
       "      <th>weekends</th>\n",
       "      <th>weekdays</th>\n",
       "      <th>Latitude</th>\n",
       "      <th>Longitude</th>\n",
       "    </tr>\n",
       "    <tr>\n",
       "      <th>station_name</th>\n",
       "      <th></th>\n",
       "      <th></th>\n",
       "      <th></th>\n",
       "      <th></th>\n",
       "    </tr>\n",
       "  </thead>\n",
       "  <tbody>\n",
       "    <tr>\n",
       "      <th>Streeter Dr &amp; Grand Ave</th>\n",
       "      <td>28877</td>\n",
       "      <td>38067</td>\n",
       "      <td>41.892278</td>\n",
       "      <td>-87.612043</td>\n",
       "    </tr>\n",
       "    <tr>\n",
       "      <th>Lake Shore Dr &amp; Monroe St</th>\n",
       "      <td>16648</td>\n",
       "      <td>19526</td>\n",
       "      <td>41.880958</td>\n",
       "      <td>-87.616743</td>\n",
       "    </tr>\n",
       "    <tr>\n",
       "      <th>Lake Shore Dr &amp; North Blvd</th>\n",
       "      <td>13360</td>\n",
       "      <td>17843</td>\n",
       "      <td>41.911722</td>\n",
       "      <td>-87.626804</td>\n",
       "    </tr>\n",
       "    <tr>\n",
       "      <th>Theater on the Lake</th>\n",
       "      <td>12854</td>\n",
       "      <td>17825</td>\n",
       "      <td>41.926277</td>\n",
       "      <td>-87.630834</td>\n",
       "    </tr>\n",
       "    <tr>\n",
       "      <th>Michigan Ave &amp; Oak St</th>\n",
       "      <td>11024</td>\n",
       "      <td>18350</td>\n",
       "      <td>41.900960</td>\n",
       "      <td>-87.623777</td>\n",
       "    </tr>\n",
       "  </tbody>\n",
       "</table>\n",
       "</div>"
      ],
      "text/plain": [
       "                            weekends  weekdays   Latitude  Longitude\n",
       "station_name                                                        \n",
       "Streeter Dr & Grand Ave        28877     38067  41.892278 -87.612043\n",
       "Lake Shore Dr & Monroe St      16648     19526  41.880958 -87.616743\n",
       "Lake Shore Dr & North Blvd     13360     17843  41.911722 -87.626804\n",
       "Theater on the Lake            12854     17825  41.926277 -87.630834\n",
       "Michigan Ave & Oak St          11024     18350  41.900960 -87.623777"
      ]
     },
     "execution_count": 33,
     "metadata": {},
     "output_type": "execute_result"
    }
   ],
   "source": [
    "# merger stations_trips_n and stations DataFrames on indices\n",
    "# print out the info of the resultant DataFrame\n",
    "stations_trips_n_loc = pd.merge(stations_trips_n,stations,how='left',on='station_name')\n",
    "stations_trips_n_loc.head()"
   ]
  },
  {
   "cell_type": "markdown",
   "metadata": {},
   "source": [
    "Let us check if there are any missing values."
   ]
  },
  {
   "cell_type": "code",
   "execution_count": 34,
   "metadata": {},
   "outputs": [
    {
     "data": {
      "text/plain": [
       "weekends     616\n",
       "weekdays     616\n",
       "Latitude     596\n",
       "Longitude    596\n",
       "dtype: int64"
      ]
     },
     "execution_count": 34,
     "metadata": {},
     "output_type": "execute_result"
    }
   ],
   "source": [
    "stations_trips_n_loc.count()"
   ]
  },
  {
   "cell_type": "markdown",
   "metadata": {},
   "source": [
    "It seems that the DataFrame <font color='red'><tt>stations_trips_n_loc</tt></font> is lack of coordinates for some stations. Let us drop those stations and ensure that there are no missing values."
   ]
  },
  {
   "cell_type": "code",
   "execution_count": 35,
   "metadata": {},
   "outputs": [
    {
     "data": {
      "text/plain": [
       "weekends     596\n",
       "weekdays     596\n",
       "Latitude     596\n",
       "Longitude    596\n",
       "dtype: int64"
      ]
     },
     "execution_count": 35,
     "metadata": {},
     "output_type": "execute_result"
    }
   ],
   "source": [
    "# Drop rows containing 'NaN'\n",
    "stations_trips_n_loc.dropna(inplace=True)\n",
    "stations_trips_n_loc.count()"
   ]
  },
  {
   "cell_type": "markdown",
   "metadata": {},
   "source": [
    "Now that we have clean data, we can proceed to plotting the data on a map. This will be done by marking stations on the map as circles. Colors of circles will represent busyness of stations. More precisely, darker circles represent busy stations and lighter circles represent stations with low rentals.\n",
    "\n",
    "To work with geospatial data, we use Bokeh package. The approach that we use for this part is learned from Colin Patrick Reid's <a href=https://towardsdatascience.com/exploring-and-visualizing-chicago-transit-data-using-pandas-and-bokeh-part-ii-intro-to-bokeh-5dca6c5ced10>article</a>. We build separate maps for weekdays and weekends:"
   ]
  },
  {
   "cell_type": "code",
   "execution_count": 36,
   "metadata": {
    "scrolled": true
   },
   "outputs": [
    {
     "data": {
      "text/html": [
       "<div style=\"display: table;\"><div style=\"display: table-row;\"><div style=\"display: table-cell;\"><b title=\"bokeh.models.renderers.TileRenderer\">TileRenderer</b>(</div><div style=\"display: table-cell;\">id&nbsp;=&nbsp;'1076', <span id=\"1079\" style=\"cursor: pointer;\">&hellip;)</span></div></div><div class=\"1078\" style=\"display: none;\"><div style=\"display: table-cell;\"></div><div style=\"display: table-cell;\">alpha&nbsp;=&nbsp;1.0,</div></div><div class=\"1078\" style=\"display: none;\"><div style=\"display: table-cell;\"></div><div style=\"display: table-cell;\">js_event_callbacks&nbsp;=&nbsp;{},</div></div><div class=\"1078\" style=\"display: none;\"><div style=\"display: table-cell;\"></div><div style=\"display: table-cell;\">js_property_callbacks&nbsp;=&nbsp;{},</div></div><div class=\"1078\" style=\"display: none;\"><div style=\"display: table-cell;\"></div><div style=\"display: table-cell;\">level&nbsp;=&nbsp;'underlay',</div></div><div class=\"1078\" style=\"display: none;\"><div style=\"display: table-cell;\"></div><div style=\"display: table-cell;\">name&nbsp;=&nbsp;None,</div></div><div class=\"1078\" style=\"display: none;\"><div style=\"display: table-cell;\"></div><div style=\"display: table-cell;\">render_parents&nbsp;=&nbsp;True,</div></div><div class=\"1078\" style=\"display: none;\"><div style=\"display: table-cell;\"></div><div style=\"display: table-cell;\">smoothing&nbsp;=&nbsp;True,</div></div><div class=\"1078\" style=\"display: none;\"><div style=\"display: table-cell;\"></div><div style=\"display: table-cell;\">subscribed_events&nbsp;=&nbsp;[],</div></div><div class=\"1078\" style=\"display: none;\"><div style=\"display: table-cell;\"></div><div style=\"display: table-cell;\">tags&nbsp;=&nbsp;[],</div></div><div class=\"1078\" style=\"display: none;\"><div style=\"display: table-cell;\"></div><div style=\"display: table-cell;\">tile_source&nbsp;=&nbsp;WMTSTileSource(id='1001', ...),</div></div><div class=\"1078\" style=\"display: none;\"><div style=\"display: table-cell;\"></div><div style=\"display: table-cell;\">visible&nbsp;=&nbsp;True,</div></div><div class=\"1078\" style=\"display: none;\"><div style=\"display: table-cell;\"></div><div style=\"display: table-cell;\">x_range_name&nbsp;=&nbsp;'default',</div></div><div class=\"1078\" style=\"display: none;\"><div style=\"display: table-cell;\"></div><div style=\"display: table-cell;\">y_range_name&nbsp;=&nbsp;'default')</div></div></div>\n",
       "<script>\n",
       "(function() {\n",
       "  var expanded = false;\n",
       "  var ellipsis = document.getElementById(\"1079\");\n",
       "  ellipsis.addEventListener(\"click\", function() {\n",
       "    var rows = document.getElementsByClassName(\"1078\");\n",
       "    for (var i = 0; i < rows.length; i++) {\n",
       "      var el = rows[i];\n",
       "      el.style.display = expanded ? \"none\" : \"table-row\";\n",
       "    }\n",
       "    ellipsis.innerHTML = expanded ? \"&hellip;)\" : \"&lsaquo;&lsaquo;&lsaquo;\";\n",
       "    expanded = !expanded;\n",
       "  });\n",
       "})();\n",
       "</script>\n"
      ],
      "text/plain": [
       "TileRenderer(id='1076', ...)"
      ]
     },
     "execution_count": 36,
     "metadata": {},
     "output_type": "execute_result"
    }
   ],
   "source": [
    "# import necessary modules from Bokeh\n",
    "from bokeh.plotting import figure, show, output_notebook\n",
    "from bokeh.tile_providers import CARTODBPOSITRON\n",
    "\n",
    "# create first figure for weekdays and add a tile\n",
    "plot1 = figure(title='Weekdays', tools=['pan','wheel_zoom','save'],\n",
    "           x_axis_type='mercator', y_axis_type='mercator')\n",
    "plot1.add_tile(CARTODBPOSITRON)\n",
    "\n",
    "# create second figure for weekends and add a tile\n",
    "plot2 = figure(title='Weekends', tools=['pan','wheel_zoom','save'],\n",
    "           x_axis_type='mercator', y_axis_type='mercator')\n",
    "plot2.add_tile(CARTODBPOSITRON)"
   ]
  },
  {
   "cell_type": "markdown",
   "metadata": {},
   "source": [
    "In the code above, the <tt>x_axis_type</tt> and <tt>y_axis_type</tt> parameters specify that for plotting the map we use the <b>Mercator projection</b> which converts the spherical coordinates of the earth (latitude and longitude) onto the Cartesian coordinates X and Y on a plane. Using the Mercator projection formulas, taken from <a href=https://en.wikipedia.org/wiki/Mercator_projection>Wikipedia</a>, we create two functions which convert latitude and longitude coordinates to X and Y coordinates, respectively."
   ]
  },
  {
   "cell_type": "code",
   "execution_count": 37,
   "metadata": {},
   "outputs": [],
   "source": [
    "import math\n",
    "\n",
    "def merc_pr_x(coord):\n",
    "    \"\"\"converts latitude and longitude coordinates to X coordinate\"\"\"\n",
    "    lat, lon = coord['Latitude'], coord['Longitude']\n",
    "    pi = 3.14159265359\n",
    "    r = 6378137.0\n",
    "    x = r * math.radians(lon)\n",
    "    return x\n",
    "\n",
    "def merc_pr_y(coord):\n",
    "    \"\"\"converts latitude and longitude coordinates to Y coordinate\"\"\"\n",
    "    lat, lon = coord['Latitude'], coord['Longitude']\n",
    "    pi = 3.14159265359\n",
    "    r = 6378137.0\n",
    "    y = r * math.log(math.tan(pi/4.0 + math.radians(lat)/2))\n",
    "    return y"
   ]
  },
  {
   "cell_type": "markdown",
   "metadata": {},
   "source": [
    "We apply these functions to <font color='red'><tt>stations_trips_n_loc</tt></font> and save them as new columns in the DataFrame."
   ]
  },
  {
   "cell_type": "code",
   "execution_count": 38,
   "metadata": {},
   "outputs": [],
   "source": [
    "# add two new columns for X and Y coordinates\n",
    "# of the Mercator projection for each station\n",
    "stations_trips_n_loc['merc_x'] = stations_trips_n_loc.apply(lambda row: merc_pr_x(row),axis=1)\n",
    "stations_trips_n_loc['merc_y'] = stations_trips_n_loc.apply(lambda row: merc_pr_y(row),axis=1)"
   ]
  },
  {
   "cell_type": "markdown",
   "metadata": {},
   "source": [
    "Now, we create a ColumnDataSource object from <font color='red'><tt>stations_trips_n_loc</tt></font> that will contain all the data for the plots. After that, we add circles on the earlier created maps."
   ]
  },
  {
   "cell_type": "code",
   "execution_count": 40,
   "metadata": {},
   "outputs": [],
   "source": [
    "# import some more necessary modules from Bokeh\n",
    "from bokeh.models import ColumnDataSource, ColorBar, LinearColorMapper\n",
    "from bokeh.palettes import Inferno256\n",
    "\n",
    "# set up the source\n",
    "source = ColumnDataSource(stations_trips_n_loc)\n",
    "\n",
    "# reverse the Inferno256 palette\n",
    "Inferno256.reverse()\n",
    "\n",
    "# define color mappers for weekdays and weekends\n",
    "mapper1 = LinearColorMapper(palette=Inferno256, low=0, high=60000)\n",
    "mapper2 = LinearColorMapper(palette=Inferno256, low=0, high=30000)\n",
    "\n",
    "# set up the color bars using the above mappers\n",
    "color_bar1 = ColorBar(color_mapper=mapper1, location=(0, 0))\n",
    "color_bar2 = ColorBar(color_mapper=mapper2, location=(0, 0))\n",
    "\n",
    "# add circle glyphs to the plots\n",
    "plot1.circle(x='merc_x', y='merc_y', source = source, size = 5, line_color=None,\n",
    "             fill_color={'field': 'weekdays', 'transform': mapper1})\n",
    "plot2.circle(x='merc_x', y='merc_y', source = source, size = 5, line_color=None,\n",
    "             fill_color={'field': 'weekends', 'transform': mapper2})\n",
    "\n",
    "# add color bars to the plots from the right\n",
    "plot1.add_layout(color_bar1, 'right')\n",
    "plot2.add_layout(color_bar2, 'right')"
   ]
  },
  {
   "cell_type": "markdown",
   "metadata": {},
   "source": [
    "We use HoverTool, Bokeh's interactive tool, to display the name of each station and the number of committed rentals when a user points on a circle."
   ]
  },
  {
   "cell_type": "code",
   "execution_count": 41,
   "metadata": {
    "scrolled": false
   },
   "outputs": [],
   "source": [
    "# import HoverTool\n",
    "from bokeh.models import HoverTool\n",
    "\n",
    "# set up HoverTools for weekdays and weekends\n",
    "# to display station names and the number of trips\n",
    "hover1 = HoverTool(tooltips=[('Station','@station_name'),('Weekdays','@weekdays')])\n",
    "hover2 = HoverTool(tooltips=[('Station','@station_name'),('Weekends','@weekends')])\n",
    "\n",
    "# add the HoverTools to the plots\n",
    "plot1.add_tools(hover1)\n",
    "plot2.add_tools(hover2)\n",
    "\n",
    "# Link axes of plot1 and plot2\n",
    "plot1.x_range = plot2.x_range\n",
    "plot1.y_range = plot2.y_range"
   ]
  },
  {
   "cell_type": "markdown",
   "metadata": {},
   "source": [
    "Let us now display the plot for weekdays."
   ]
  },
  {
   "cell_type": "code",
   "execution_count": 42,
   "metadata": {
    "scrolled": false
   },
   "outputs": [
    {
     "data": {
      "text/html": [
       "\n",
       "    <div class=\"bk-root\">\n",
       "        <a href=\"https://bokeh.pydata.org\" target=\"_blank\" class=\"bk-logo bk-logo-small bk-logo-notebook\"></a>\n",
       "        <span id=\"1104\">Loading BokehJS ...</span>\n",
       "    </div>"
      ]
     },
     "metadata": {},
     "output_type": "display_data"
    },
    {
     "data": {
      "application/javascript": [
       "\n",
       "(function(root) {\n",
       "  function now() {\n",
       "    return new Date();\n",
       "  }\n",
       "\n",
       "  var force = true;\n",
       "\n",
       "  if (typeof (root._bokeh_onload_callbacks) === \"undefined\" || force === true) {\n",
       "    root._bokeh_onload_callbacks = [];\n",
       "    root._bokeh_is_loading = undefined;\n",
       "  }\n",
       "\n",
       "  var JS_MIME_TYPE = 'application/javascript';\n",
       "  var HTML_MIME_TYPE = 'text/html';\n",
       "  var EXEC_MIME_TYPE = 'application/vnd.bokehjs_exec.v0+json';\n",
       "  var CLASS_NAME = 'output_bokeh rendered_html';\n",
       "\n",
       "  /**\n",
       "   * Render data to the DOM node\n",
       "   */\n",
       "  function render(props, node) {\n",
       "    var script = document.createElement(\"script\");\n",
       "    node.appendChild(script);\n",
       "  }\n",
       "\n",
       "  /**\n",
       "   * Handle when an output is cleared or removed\n",
       "   */\n",
       "  function handleClearOutput(event, handle) {\n",
       "    var cell = handle.cell;\n",
       "\n",
       "    var id = cell.output_area._bokeh_element_id;\n",
       "    var server_id = cell.output_area._bokeh_server_id;\n",
       "    // Clean up Bokeh references\n",
       "    if (id != null && id in Bokeh.index) {\n",
       "      Bokeh.index[id].model.document.clear();\n",
       "      delete Bokeh.index[id];\n",
       "    }\n",
       "\n",
       "    if (server_id !== undefined) {\n",
       "      // Clean up Bokeh references\n",
       "      var cmd = \"from bokeh.io.state import curstate; print(curstate().uuid_to_server['\" + server_id + \"'].get_sessions()[0].document.roots[0]._id)\";\n",
       "      cell.notebook.kernel.execute(cmd, {\n",
       "        iopub: {\n",
       "          output: function(msg) {\n",
       "            var id = msg.content.text.trim();\n",
       "            if (id in Bokeh.index) {\n",
       "              Bokeh.index[id].model.document.clear();\n",
       "              delete Bokeh.index[id];\n",
       "            }\n",
       "          }\n",
       "        }\n",
       "      });\n",
       "      // Destroy server and session\n",
       "      var cmd = \"import bokeh.io.notebook as ion; ion.destroy_server('\" + server_id + \"')\";\n",
       "      cell.notebook.kernel.execute(cmd);\n",
       "    }\n",
       "  }\n",
       "\n",
       "  /**\n",
       "   * Handle when a new output is added\n",
       "   */\n",
       "  function handleAddOutput(event, handle) {\n",
       "    var output_area = handle.output_area;\n",
       "    var output = handle.output;\n",
       "\n",
       "    // limit handleAddOutput to display_data with EXEC_MIME_TYPE content only\n",
       "    if ((output.output_type != \"display_data\") || (!output.data.hasOwnProperty(EXEC_MIME_TYPE))) {\n",
       "      return\n",
       "    }\n",
       "\n",
       "    var toinsert = output_area.element.find(\".\" + CLASS_NAME.split(' ')[0]);\n",
       "\n",
       "    if (output.metadata[EXEC_MIME_TYPE][\"id\"] !== undefined) {\n",
       "      toinsert[toinsert.length - 1].firstChild.textContent = output.data[JS_MIME_TYPE];\n",
       "      // store reference to embed id on output_area\n",
       "      output_area._bokeh_element_id = output.metadata[EXEC_MIME_TYPE][\"id\"];\n",
       "    }\n",
       "    if (output.metadata[EXEC_MIME_TYPE][\"server_id\"] !== undefined) {\n",
       "      var bk_div = document.createElement(\"div\");\n",
       "      bk_div.innerHTML = output.data[HTML_MIME_TYPE];\n",
       "      var script_attrs = bk_div.children[0].attributes;\n",
       "      for (var i = 0; i < script_attrs.length; i++) {\n",
       "        toinsert[toinsert.length - 1].firstChild.setAttribute(script_attrs[i].name, script_attrs[i].value);\n",
       "      }\n",
       "      // store reference to server id on output_area\n",
       "      output_area._bokeh_server_id = output.metadata[EXEC_MIME_TYPE][\"server_id\"];\n",
       "    }\n",
       "  }\n",
       "\n",
       "  function register_renderer(events, OutputArea) {\n",
       "\n",
       "    function append_mime(data, metadata, element) {\n",
       "      // create a DOM node to render to\n",
       "      var toinsert = this.create_output_subarea(\n",
       "        metadata,\n",
       "        CLASS_NAME,\n",
       "        EXEC_MIME_TYPE\n",
       "      );\n",
       "      this.keyboard_manager.register_events(toinsert);\n",
       "      // Render to node\n",
       "      var props = {data: data, metadata: metadata[EXEC_MIME_TYPE]};\n",
       "      render(props, toinsert[toinsert.length - 1]);\n",
       "      element.append(toinsert);\n",
       "      return toinsert\n",
       "    }\n",
       "\n",
       "    /* Handle when an output is cleared or removed */\n",
       "    events.on('clear_output.CodeCell', handleClearOutput);\n",
       "    events.on('delete.Cell', handleClearOutput);\n",
       "\n",
       "    /* Handle when a new output is added */\n",
       "    events.on('output_added.OutputArea', handleAddOutput);\n",
       "\n",
       "    /**\n",
       "     * Register the mime type and append_mime function with output_area\n",
       "     */\n",
       "    OutputArea.prototype.register_mime_type(EXEC_MIME_TYPE, append_mime, {\n",
       "      /* Is output safe? */\n",
       "      safe: true,\n",
       "      /* Index of renderer in `output_area.display_order` */\n",
       "      index: 0\n",
       "    });\n",
       "  }\n",
       "\n",
       "  // register the mime type if in Jupyter Notebook environment and previously unregistered\n",
       "  if (root.Jupyter !== undefined) {\n",
       "    var events = require('base/js/events');\n",
       "    var OutputArea = require('notebook/js/outputarea').OutputArea;\n",
       "\n",
       "    if (OutputArea.prototype.mime_types().indexOf(EXEC_MIME_TYPE) == -1) {\n",
       "      register_renderer(events, OutputArea);\n",
       "    }\n",
       "  }\n",
       "\n",
       "  \n",
       "  if (typeof (root._bokeh_timeout) === \"undefined\" || force === true) {\n",
       "    root._bokeh_timeout = Date.now() + 5000;\n",
       "    root._bokeh_failed_load = false;\n",
       "  }\n",
       "\n",
       "  var NB_LOAD_WARNING = {'data': {'text/html':\n",
       "     \"<div style='background-color: #fdd'>\\n\"+\n",
       "     \"<p>\\n\"+\n",
       "     \"BokehJS does not appear to have successfully loaded. If loading BokehJS from CDN, this \\n\"+\n",
       "     \"may be due to a slow or bad network connection. Possible fixes:\\n\"+\n",
       "     \"</p>\\n\"+\n",
       "     \"<ul>\\n\"+\n",
       "     \"<li>re-rerun `output_notebook()` to attempt to load from CDN again, or</li>\\n\"+\n",
       "     \"<li>use INLINE resources instead, as so:</li>\\n\"+\n",
       "     \"</ul>\\n\"+\n",
       "     \"<code>\\n\"+\n",
       "     \"from bokeh.resources import INLINE\\n\"+\n",
       "     \"output_notebook(resources=INLINE)\\n\"+\n",
       "     \"</code>\\n\"+\n",
       "     \"</div>\"}};\n",
       "\n",
       "  function display_loaded() {\n",
       "    var el = document.getElementById(\"1104\");\n",
       "    if (el != null) {\n",
       "      el.textContent = \"BokehJS is loading...\";\n",
       "    }\n",
       "    if (root.Bokeh !== undefined) {\n",
       "      if (el != null) {\n",
       "        el.textContent = \"BokehJS \" + root.Bokeh.version + \" successfully loaded.\";\n",
       "      }\n",
       "    } else if (Date.now() < root._bokeh_timeout) {\n",
       "      setTimeout(display_loaded, 100)\n",
       "    }\n",
       "  }\n",
       "\n",
       "\n",
       "  function run_callbacks() {\n",
       "    try {\n",
       "      root._bokeh_onload_callbacks.forEach(function(callback) { callback() });\n",
       "    }\n",
       "    finally {\n",
       "      delete root._bokeh_onload_callbacks\n",
       "    }\n",
       "    console.info(\"Bokeh: all callbacks have finished\");\n",
       "  }\n",
       "\n",
       "  function load_libs(js_urls, callback) {\n",
       "    root._bokeh_onload_callbacks.push(callback);\n",
       "    if (root._bokeh_is_loading > 0) {\n",
       "      console.log(\"Bokeh: BokehJS is being loaded, scheduling callback at\", now());\n",
       "      return null;\n",
       "    }\n",
       "    if (js_urls == null || js_urls.length === 0) {\n",
       "      run_callbacks();\n",
       "      return null;\n",
       "    }\n",
       "    console.log(\"Bokeh: BokehJS not loaded, scheduling load and callback at\", now());\n",
       "    root._bokeh_is_loading = js_urls.length;\n",
       "    for (var i = 0; i < js_urls.length; i++) {\n",
       "      var url = js_urls[i];\n",
       "      var s = document.createElement('script');\n",
       "      s.src = url;\n",
       "      s.async = false;\n",
       "      s.onreadystatechange = s.onload = function() {\n",
       "        root._bokeh_is_loading--;\n",
       "        if (root._bokeh_is_loading === 0) {\n",
       "          console.log(\"Bokeh: all BokehJS libraries loaded\");\n",
       "          run_callbacks()\n",
       "        }\n",
       "      };\n",
       "      s.onerror = function() {\n",
       "        console.warn(\"failed to load library \" + url);\n",
       "      };\n",
       "      console.log(\"Bokeh: injecting script tag for BokehJS library: \", url);\n",
       "      document.getElementsByTagName(\"head\")[0].appendChild(s);\n",
       "    }\n",
       "  };var element = document.getElementById(\"1104\");\n",
       "  if (element == null) {\n",
       "    console.log(\"Bokeh: ERROR: autoload.js configured with elementid '1104' but no matching script tag was found. \")\n",
       "    return false;\n",
       "  }\n",
       "\n",
       "  var js_urls = [\"https://cdn.pydata.org/bokeh/release/bokeh-1.0.4.min.js\", \"https://cdn.pydata.org/bokeh/release/bokeh-widgets-1.0.4.min.js\", \"https://cdn.pydata.org/bokeh/release/bokeh-tables-1.0.4.min.js\", \"https://cdn.pydata.org/bokeh/release/bokeh-gl-1.0.4.min.js\"];\n",
       "\n",
       "  var inline_js = [\n",
       "    function(Bokeh) {\n",
       "      Bokeh.set_log_level(\"info\");\n",
       "    },\n",
       "    \n",
       "    function(Bokeh) {\n",
       "      \n",
       "    },\n",
       "    function(Bokeh) {\n",
       "      console.log(\"Bokeh: injecting CSS: https://cdn.pydata.org/bokeh/release/bokeh-1.0.4.min.css\");\n",
       "      Bokeh.embed.inject_css(\"https://cdn.pydata.org/bokeh/release/bokeh-1.0.4.min.css\");\n",
       "      console.log(\"Bokeh: injecting CSS: https://cdn.pydata.org/bokeh/release/bokeh-widgets-1.0.4.min.css\");\n",
       "      Bokeh.embed.inject_css(\"https://cdn.pydata.org/bokeh/release/bokeh-widgets-1.0.4.min.css\");\n",
       "      console.log(\"Bokeh: injecting CSS: https://cdn.pydata.org/bokeh/release/bokeh-tables-1.0.4.min.css\");\n",
       "      Bokeh.embed.inject_css(\"https://cdn.pydata.org/bokeh/release/bokeh-tables-1.0.4.min.css\");\n",
       "    }\n",
       "  ];\n",
       "\n",
       "  function run_inline_js() {\n",
       "    \n",
       "    if ((root.Bokeh !== undefined) || (force === true)) {\n",
       "      for (var i = 0; i < inline_js.length; i++) {\n",
       "        inline_js[i].call(root, root.Bokeh);\n",
       "      }if (force === true) {\n",
       "        display_loaded();\n",
       "      }} else if (Date.now() < root._bokeh_timeout) {\n",
       "      setTimeout(run_inline_js, 100);\n",
       "    } else if (!root._bokeh_failed_load) {\n",
       "      console.log(\"Bokeh: BokehJS failed to load within specified timeout.\");\n",
       "      root._bokeh_failed_load = true;\n",
       "    } else if (force !== true) {\n",
       "      var cell = $(document.getElementById(\"1104\")).parents('.cell').data().cell;\n",
       "      cell.output_area.append_execute_result(NB_LOAD_WARNING)\n",
       "    }\n",
       "\n",
       "  }\n",
       "\n",
       "  if (root._bokeh_is_loading === 0) {\n",
       "    console.log(\"Bokeh: BokehJS loaded, going straight to plotting\");\n",
       "    run_inline_js();\n",
       "  } else {\n",
       "    load_libs(js_urls, function() {\n",
       "      console.log(\"Bokeh: BokehJS plotting callback run at\", now());\n",
       "      run_inline_js();\n",
       "    });\n",
       "  }\n",
       "}(window));"
      ],
      "application/vnd.bokehjs_load.v0+json": "\n(function(root) {\n  function now() {\n    return new Date();\n  }\n\n  var force = true;\n\n  if (typeof (root._bokeh_onload_callbacks) === \"undefined\" || force === true) {\n    root._bokeh_onload_callbacks = [];\n    root._bokeh_is_loading = undefined;\n  }\n\n  \n\n  \n  if (typeof (root._bokeh_timeout) === \"undefined\" || force === true) {\n    root._bokeh_timeout = Date.now() + 5000;\n    root._bokeh_failed_load = false;\n  }\n\n  var NB_LOAD_WARNING = {'data': {'text/html':\n     \"<div style='background-color: #fdd'>\\n\"+\n     \"<p>\\n\"+\n     \"BokehJS does not appear to have successfully loaded. If loading BokehJS from CDN, this \\n\"+\n     \"may be due to a slow or bad network connection. Possible fixes:\\n\"+\n     \"</p>\\n\"+\n     \"<ul>\\n\"+\n     \"<li>re-rerun `output_notebook()` to attempt to load from CDN again, or</li>\\n\"+\n     \"<li>use INLINE resources instead, as so:</li>\\n\"+\n     \"</ul>\\n\"+\n     \"<code>\\n\"+\n     \"from bokeh.resources import INLINE\\n\"+\n     \"output_notebook(resources=INLINE)\\n\"+\n     \"</code>\\n\"+\n     \"</div>\"}};\n\n  function display_loaded() {\n    var el = document.getElementById(\"1104\");\n    if (el != null) {\n      el.textContent = \"BokehJS is loading...\";\n    }\n    if (root.Bokeh !== undefined) {\n      if (el != null) {\n        el.textContent = \"BokehJS \" + root.Bokeh.version + \" successfully loaded.\";\n      }\n    } else if (Date.now() < root._bokeh_timeout) {\n      setTimeout(display_loaded, 100)\n    }\n  }\n\n\n  function run_callbacks() {\n    try {\n      root._bokeh_onload_callbacks.forEach(function(callback) { callback() });\n    }\n    finally {\n      delete root._bokeh_onload_callbacks\n    }\n    console.info(\"Bokeh: all callbacks have finished\");\n  }\n\n  function load_libs(js_urls, callback) {\n    root._bokeh_onload_callbacks.push(callback);\n    if (root._bokeh_is_loading > 0) {\n      console.log(\"Bokeh: BokehJS is being loaded, scheduling callback at\", now());\n      return null;\n    }\n    if (js_urls == null || js_urls.length === 0) {\n      run_callbacks();\n      return null;\n    }\n    console.log(\"Bokeh: BokehJS not loaded, scheduling load and callback at\", now());\n    root._bokeh_is_loading = js_urls.length;\n    for (var i = 0; i < js_urls.length; i++) {\n      var url = js_urls[i];\n      var s = document.createElement('script');\n      s.src = url;\n      s.async = false;\n      s.onreadystatechange = s.onload = function() {\n        root._bokeh_is_loading--;\n        if (root._bokeh_is_loading === 0) {\n          console.log(\"Bokeh: all BokehJS libraries loaded\");\n          run_callbacks()\n        }\n      };\n      s.onerror = function() {\n        console.warn(\"failed to load library \" + url);\n      };\n      console.log(\"Bokeh: injecting script tag for BokehJS library: \", url);\n      document.getElementsByTagName(\"head\")[0].appendChild(s);\n    }\n  };var element = document.getElementById(\"1104\");\n  if (element == null) {\n    console.log(\"Bokeh: ERROR: autoload.js configured with elementid '1104' but no matching script tag was found. \")\n    return false;\n  }\n\n  var js_urls = [\"https://cdn.pydata.org/bokeh/release/bokeh-1.0.4.min.js\", \"https://cdn.pydata.org/bokeh/release/bokeh-widgets-1.0.4.min.js\", \"https://cdn.pydata.org/bokeh/release/bokeh-tables-1.0.4.min.js\", \"https://cdn.pydata.org/bokeh/release/bokeh-gl-1.0.4.min.js\"];\n\n  var inline_js = [\n    function(Bokeh) {\n      Bokeh.set_log_level(\"info\");\n    },\n    \n    function(Bokeh) {\n      \n    },\n    function(Bokeh) {\n      console.log(\"Bokeh: injecting CSS: https://cdn.pydata.org/bokeh/release/bokeh-1.0.4.min.css\");\n      Bokeh.embed.inject_css(\"https://cdn.pydata.org/bokeh/release/bokeh-1.0.4.min.css\");\n      console.log(\"Bokeh: injecting CSS: https://cdn.pydata.org/bokeh/release/bokeh-widgets-1.0.4.min.css\");\n      Bokeh.embed.inject_css(\"https://cdn.pydata.org/bokeh/release/bokeh-widgets-1.0.4.min.css\");\n      console.log(\"Bokeh: injecting CSS: https://cdn.pydata.org/bokeh/release/bokeh-tables-1.0.4.min.css\");\n      Bokeh.embed.inject_css(\"https://cdn.pydata.org/bokeh/release/bokeh-tables-1.0.4.min.css\");\n    }\n  ];\n\n  function run_inline_js() {\n    \n    if ((root.Bokeh !== undefined) || (force === true)) {\n      for (var i = 0; i < inline_js.length; i++) {\n        inline_js[i].call(root, root.Bokeh);\n      }if (force === true) {\n        display_loaded();\n      }} else if (Date.now() < root._bokeh_timeout) {\n      setTimeout(run_inline_js, 100);\n    } else if (!root._bokeh_failed_load) {\n      console.log(\"Bokeh: BokehJS failed to load within specified timeout.\");\n      root._bokeh_failed_load = true;\n    } else if (force !== true) {\n      var cell = $(document.getElementById(\"1104\")).parents('.cell').data().cell;\n      cell.output_area.append_execute_result(NB_LOAD_WARNING)\n    }\n\n  }\n\n  if (root._bokeh_is_loading === 0) {\n    console.log(\"Bokeh: BokehJS loaded, going straight to plotting\");\n    run_inline_js();\n  } else {\n    load_libs(js_urls, function() {\n      console.log(\"Bokeh: BokehJS plotting callback run at\", now());\n      run_inline_js();\n    });\n  }\n}(window));"
     },
     "metadata": {},
     "output_type": "display_data"
    },
    {
     "data": {
      "text/html": [
       "\n",
       "\n",
       "\n",
       "\n",
       "\n",
       "\n",
       "  <div class=\"bk-root\" id=\"905b5e6e-650a-473c-9cc4-2fec8e856df1\" data-root-id=\"1003\"></div>\n"
      ]
     },
     "metadata": {},
     "output_type": "display_data"
    },
    {
     "data": {
      "application/javascript": [
       "(function(root) {\n",
       "  function embed_document(root) {\n",
       "    \n",
       "  var docs_json = {\"81d6bec5-c6c3-4155-a8b4-00df7d065462\":{\"roots\":{\"references\":[{\"attributes\":{\"below\":[{\"id\":\"1013\",\"type\":\"MercatorAxis\"}],\"left\":[{\"id\":\"1022\",\"type\":\"MercatorAxis\"}],\"renderers\":[{\"id\":\"1013\",\"type\":\"MercatorAxis\"},{\"id\":\"1021\",\"type\":\"Grid\"},{\"id\":\"1022\",\"type\":\"MercatorAxis\"},{\"id\":\"1030\",\"type\":\"Grid\"},{\"id\":\"1038\",\"type\":\"TileRenderer\"},{\"id\":\"1093\",\"type\":\"GlyphRenderer\"},{\"id\":\"1088\",\"type\":\"ColorBar\"}],\"right\":[{\"id\":\"1088\",\"type\":\"ColorBar\"}],\"title\":{\"id\":\"1002\",\"type\":\"Title\"},\"toolbar\":{\"id\":\"1034\",\"type\":\"Toolbar\"},\"x_range\":{\"id\":\"1043\",\"type\":\"DataRange1d\"},\"x_scale\":{\"id\":\"1009\",\"type\":\"LinearScale\"},\"y_range\":{\"id\":\"1045\",\"type\":\"DataRange1d\"},\"y_scale\":{\"id\":\"1011\",\"type\":\"LinearScale\"}},\"id\":\"1003\",\"subtype\":\"Figure\",\"type\":\"Plot\"},{\"attributes\":{\"callback\":null},\"id\":\"1045\",\"type\":\"DataRange1d\"},{\"attributes\":{},\"id\":\"1110\",\"type\":\"BasicTickFormatter\"},{\"attributes\":{\"fill_alpha\":{\"value\":0.1},\"fill_color\":{\"value\":\"#1f77b4\"},\"line_alpha\":{\"value\":0.1},\"line_color\":{\"value\":\"#1f77b4\"},\"size\":{\"units\":\"screen\",\"value\":5},\"x\":{\"field\":\"merc_x\"},\"y\":{\"field\":\"merc_y\"}},\"id\":\"1092\",\"type\":\"Circle\"},{\"attributes\":{\"callback\":null},\"id\":\"1043\",\"type\":\"DataRange1d\"},{\"attributes\":{\"plot\":null,\"text\":\"Weekdays\"},\"id\":\"1002\",\"type\":\"Title\"},{\"attributes\":{\"callback\":null,\"tooltips\":[[\"Station\",\"@station_name\"],[\"Weekdays\",\"@weekdays\"]]},\"id\":\"1100\",\"type\":\"HoverTool\"},{\"attributes\":{},\"id\":\"1113\",\"type\":\"Selection\"},{\"attributes\":{\"attribution\":\"&copy; <a href=\\\"https://www.openstreetmap.org/copyright\\\">OpenStreetMap</a> contributors,&copy; <a href=\\\"https://cartodb.com/attributions\\\">CartoDB</a>\",\"url\":\"https://tiles.basemaps.cartocdn.com/light_all/{z}/{x}/{y}.png\"},\"id\":\"1001\",\"type\":\"WMTSTileSource\"},{\"attributes\":{\"dimension\":\"lon\"},\"id\":\"1014\",\"type\":\"MercatorTicker\"},{\"attributes\":{\"source\":{\"id\":\"1085\",\"type\":\"ColumnDataSource\"}},\"id\":\"1094\",\"type\":\"CDSView\"},{\"attributes\":{\"dimension\":\"lat\"},\"id\":\"1023\",\"type\":\"MercatorTicker\"},{\"attributes\":{\"plot\":{\"id\":\"1003\",\"subtype\":\"Figure\",\"type\":\"Plot\"},\"ticker\":{\"id\":\"1014\",\"type\":\"MercatorTicker\"}},\"id\":\"1021\",\"type\":\"Grid\"},{\"attributes\":{\"high\":60000,\"low\":0,\"palette\":[\"#FCFEA4\",\"#FAFDA0\",\"#F9FC9D\",\"#F7FB99\",\"#F6FA95\",\"#F5F891\",\"#F4F78D\",\"#F3F689\",\"#F2F485\",\"#F2F381\",\"#F1F27D\",\"#F1F079\",\"#F1EE74\",\"#F1ED70\",\"#F1EB6C\",\"#F1E968\",\"#F1E864\",\"#F2E660\",\"#F2E45D\",\"#F3E259\",\"#F3E056\",\"#F3DE52\",\"#F4DC4F\",\"#F4DB4B\",\"#F5D948\",\"#F5D745\",\"#F6D542\",\"#F6D33F\",\"#F7D13C\",\"#F7CF3A\",\"#F8CD37\",\"#F8CB34\",\"#F8C931\",\"#F9C72F\",\"#F9C52C\",\"#F9C32A\",\"#FAC128\",\"#FABF25\",\"#FABD23\",\"#FABB21\",\"#FBB91E\",\"#FBB71C\",\"#FBB51A\",\"#FBB318\",\"#FBB116\",\"#FBB014\",\"#FBAE12\",\"#FBAC10\",\"#FBAA0E\",\"#FBA80D\",\"#FBA60B\",\"#FBA40A\",\"#FBA208\",\"#FBA007\",\"#FB9E07\",\"#FB9D06\",\"#FB9B06\",\"#FB9906\",\"#FA9706\",\"#FA9506\",\"#FA9306\",\"#FA9107\",\"#F99008\",\"#F98E08\",\"#F98C09\",\"#F88A0B\",\"#F8880C\",\"#F8870D\",\"#F7850E\",\"#F78310\",\"#F68111\",\"#F68012\",\"#F57E14\",\"#F57C15\",\"#F47A16\",\"#F37918\",\"#F37719\",\"#F2751A\",\"#F2741C\",\"#F1721D\",\"#F0701E\",\"#F06F1F\",\"#EF6D21\",\"#EE6C22\",\"#ED6A23\",\"#ED6825\",\"#EC6726\",\"#EB6527\",\"#EA6428\",\"#E9622A\",\"#E8612B\",\"#E75F2C\",\"#E65E2D\",\"#E65C2E\",\"#E55B30\",\"#E45A31\",\"#E35832\",\"#E25733\",\"#E05634\",\"#DF5436\",\"#DE5337\",\"#DD5238\",\"#DC5039\",\"#DB4F3A\",\"#DA4E3B\",\"#D94D3D\",\"#D74B3E\",\"#D64A3F\",\"#D54940\",\"#D44841\",\"#D24742\",\"#D14643\",\"#D04544\",\"#CF4446\",\"#CD4247\",\"#CC4148\",\"#CB4049\",\"#C93F4A\",\"#C83E4B\",\"#C73E4C\",\"#C53D4D\",\"#C43C4E\",\"#C23B4F\",\"#C13A50\",\"#BF3951\",\"#BE3852\",\"#BD3753\",\"#BB3754\",\"#BA3655\",\"#B83556\",\"#B73456\",\"#B53357\",\"#B43358\",\"#B23259\",\"#B1315A\",\"#AF315B\",\"#AE305B\",\"#AC2F5C\",\"#AB2E5D\",\"#A92E5E\",\"#A72D5F\",\"#A62C5F\",\"#A42C60\",\"#A32B61\",\"#A12B61\",\"#A02A62\",\"#9E2963\",\"#9C2963\",\"#9B2864\",\"#992864\",\"#982765\",\"#962666\",\"#952666\",\"#932567\",\"#912567\",\"#902468\",\"#8E2468\",\"#8D2369\",\"#8B2269\",\"#892269\",\"#88216A\",\"#86216A\",\"#85206A\",\"#83206B\",\"#811F6B\",\"#801F6B\",\"#7E1E6C\",\"#7D1D6C\",\"#7B1D6C\",\"#7A1C6D\",\"#781C6D\",\"#761B6D\",\"#751B6D\",\"#731A6D\",\"#72196D\",\"#70196E\",\"#6E186E\",\"#6D186E\",\"#6B176E\",\"#6A176E\",\"#68166E\",\"#66156E\",\"#65156E\",\"#63146E\",\"#62146E\",\"#60136E\",\"#5F126E\",\"#5D126E\",\"#5B116E\",\"#5A116D\",\"#58106D\",\"#570F6D\",\"#550F6D\",\"#530E6D\",\"#520E6C\",\"#500D6C\",\"#4F0D6C\",\"#4D0C6B\",\"#4B0C6B\",\"#4A0B6A\",\"#480B6A\",\"#460A69\",\"#450A69\",\"#430A68\",\"#410967\",\"#400966\",\"#3E0966\",\"#3C0965\",\"#3B0964\",\"#390962\",\"#370961\",\"#350960\",\"#34095F\",\"#32095D\",\"#300A5C\",\"#2E0A5A\",\"#2D0A58\",\"#2B0A56\",\"#290B54\",\"#270B52\",\"#260B50\",\"#240B4E\",\"#220B4C\",\"#200C4A\",\"#1F0C47\",\"#1D0C45\",\"#1C0C43\",\"#1A0B40\",\"#190B3E\",\"#170B3B\",\"#160B39\",\"#140B36\",\"#130A34\",\"#120A32\",\"#10092F\",\"#0F092D\",\"#0E082A\",\"#0D0828\",\"#0B0726\",\"#0A0723\",\"#090621\",\"#08061F\",\"#07051D\",\"#06041B\",\"#050418\",\"#040316\",\"#040314\",\"#030212\",\"#020210\",\"#02010E\",\"#01010B\",\"#010109\",\"#010007\",\"#000006\",\"#000004\",\"#000003\"]},\"id\":\"1086\",\"type\":\"LinearColorMapper\"},{\"attributes\":{\"formatter\":{\"id\":\"1025\",\"type\":\"MercatorTickFormatter\"},\"plot\":{\"id\":\"1003\",\"subtype\":\"Figure\",\"type\":\"Plot\"},\"ticker\":{\"id\":\"1023\",\"type\":\"MercatorTicker\"}},\"id\":\"1022\",\"type\":\"MercatorAxis\"},{\"attributes\":{\"dimension\":\"lon\"},\"id\":\"1016\",\"type\":\"MercatorTickFormatter\"},{\"attributes\":{},\"id\":\"1033\",\"type\":\"SaveTool\"},{\"attributes\":{\"data_source\":{\"id\":\"1085\",\"type\":\"ColumnDataSource\"},\"glyph\":{\"id\":\"1091\",\"type\":\"Circle\"},\"hover_glyph\":null,\"muted_glyph\":null,\"nonselection_glyph\":{\"id\":\"1092\",\"type\":\"Circle\"},\"selection_glyph\":null,\"view\":{\"id\":\"1094\",\"type\":\"CDSView\"}},\"id\":\"1093\",\"type\":\"GlyphRenderer\"},{\"attributes\":{\"formatter\":{\"id\":\"1016\",\"type\":\"MercatorTickFormatter\"},\"plot\":{\"id\":\"1003\",\"subtype\":\"Figure\",\"type\":\"Plot\"},\"ticker\":{\"id\":\"1014\",\"type\":\"MercatorTicker\"}},\"id\":\"1013\",\"type\":\"MercatorAxis\"},{\"attributes\":{},\"id\":\"1032\",\"type\":\"WheelZoomTool\"},{\"attributes\":{},\"id\":\"1011\",\"type\":\"LinearScale\"},{\"attributes\":{},\"id\":\"1111\",\"type\":\"BasicTicker\"},{\"attributes\":{},\"id\":\"1031\",\"type\":\"PanTool\"},{\"attributes\":{\"active_drag\":\"auto\",\"active_inspect\":\"auto\",\"active_multi\":null,\"active_scroll\":\"auto\",\"active_tap\":\"auto\",\"tools\":[{\"id\":\"1031\",\"type\":\"PanTool\"},{\"id\":\"1032\",\"type\":\"WheelZoomTool\"},{\"id\":\"1033\",\"type\":\"SaveTool\"},{\"id\":\"1100\",\"type\":\"HoverTool\"}]},\"id\":\"1034\",\"type\":\"Toolbar\"},{\"attributes\":{\"callback\":null,\"data\":{\"Latitude\":{\"__ndarray__\":\"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\",\"dtype\":\"float64\",\"shape\":[596]},\"Longitude\":{\"__ndarray__\":\"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\",\"dtype\":\"float64\",\"shape\":[596]},\"merc_x\":{\"__ndarray__\":\"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\",\"dtype\":\"float64\",\"shape\":[596]},\"merc_y\":{\"__ndarray__\":\"2DIGNkagU0HZrD4Ln55TQXUMJD8do1NB7JsQnz2lU0HRikPUiqFTQQgwe8yhnlNBif1Qz52cU0HQt96asaNTQfN6GnsTpFNBS0DpnSyjU0G7SUgV1qFTQbdfmYtznFNBmRVkRtKfU0FzLXn3K59TQVpafmnAqlNBXm4VjbacU0Ek5UAAgJ9TQZhOqdonoFNBtCAeeP6fU0HSp25KhqBTQXIos+DpplNB1tVfQ8aiU0F6k3uVNqBTQS5V1/xbp1NBFS74uUWnU0GIcUvZnZxTQVsVK+e3pVNB9QDR8i2lU0HIOLG+DJ9TQZcB7qqeqFNBcgt4DMGfU0GwJ60gUaBTQVwDPZL3pVNBS+wIVgSbU0F4QQpL951TQeeM617CplNBnRvzsimmU0GZPLlNyKdTQZ8uEFhiolNB7QsCiQ2gU0Gmysfjo6RTQf6YWfyWpFNB88HrHW2dU0GyRE1eJKVTQa7ncD69oVNBBicafhikU0HvyUHcDahTQUrX+QnPnlNBaUPEaVyfU0EVSkrr56FTQb1b2khWnFNBOXSi4sqnU0FcE8BD+qVTQabO9l5AoVNBNjQtIa+tU0Hq/SpwjKRTQSL0J8yRolNBGMQZB5qoU0H2Ms9XBJ9TQTK4NPVCp1NBOgU+EzKhU0EtLUaVoaBTQVs56e27plNBkKjKZN+hU0EbNokMLJ9TQRxqzlaXoFNBuGh4m3igU0HZ2CJj86BTQQBa6CtZqVNBqnfnViOmU0HLFaWgbphTQdHgfN8qnlNB4xY+b9CiU0HoOEFLs6ZTQYOdsqsmo1NBAL/D9MGeU0EgAIjub6hTQT9OkQosoFNBNGF4KIWiU0G1wGmuEKNTQRnru4jtn1NBRQyxp9KfU0GQF+/TqKVTQXw4um0PoVNBazONkcigU0FCR6yBkqhTQUOf6XFQpFNBU39EusigU0GggnBjX55TQcU/RbC4pVNBWtSSWp+mU0GZEbKZvKNTQdygA7TloFNBOZjdAVSpU0FlcDjfvaNTQY7cfTNIn1NBAdUbwxmfU0H1syrFZqNTQSpQjZBon1NBv8DnXvCiU0Hya1p38qJTQV0L1iBTnVNBoUQErj6jU0Hp93+jt6RTQaB8sTl8n1NB17Q5N1edU0HbkjZlmaBTQVwRYjginVNB4gWSgAehU0E+68aJT6VTQbHGVlk+plNBHlmXtJilU0Fm7rMYHJJTQTBb4LQvpVNB6xhH8k2fU0FJvjB4BqBTQST4lwDcqVNBlQlyYDWnU0FtVJiZf6tTQU5OaUtcn1NB4TR3kayeU0FdmA1Y0qhTQd+gozjxmFNB91aZHhymU0HBqPQ0O55TQcCKaadnolNBFMM7PiaeU0EOx+91J5xTQWoQgMknn1NBQq9jHRCkU0GMgorhaapTQUC9HCDynFNB1ETXituhU0G7yFWQJZ5TQV3JCTwnp1NBueyRYO6gU0GU9GKENptTQUMKOgHNrFNBP6WfED6bU0Hk5ZBE6aFTQRLb6LS+klNBOE/Sc+miU0EL0dr0u6dTQQZjKt4RnlNBBQTHZUadU0Fbhue2kJFTQfTIgADLnlNB2FiLLQukU0H6lvkJ4aFTQZN0IiKem1NB96YMKx+pU0HDzhAZJ55TQSjK5bp6n1NBd2+KFYeeU0HBVvesb6RTQfEr9eUipVNB/lj+IW+iU0E/AjlsVZ9TQXlzlunenFNBC1OM9FCqU0EkWCpRE6FTQdA6B2XJnlNBMOFlhk2aU0EIGjuDZ55TQUh+zvScnVNBEcX5tqecU0EBzgWE959TQcap2DIapVNBARiS5YqeU0E1MJoWmKFTQQZ6e43dq1NB1Gtq6t6gU0Hq5hu3IKtTQbNx1Eiro1NBc6xyE/qRU0G4QnNdr59TQW7+X1iAoVNBR87LjKKQU0GY7BRLJp9TQTCEFLsjoVNB4GfNF9CgU0FYIOqAG6xTQZ/fvPyapVNB+K1C6SunU0EFodtS36BTQXiEwGNto1NBIhA2a4qaU0EO8myAZp1TQfdyPj9KnVNBt7vKYKegU0H9zv/BK6FTQYbva8SZnFNB5vbSk/meU0HoB0cCi55TQQowTljarFNBwNFRLWOeU0Hu1Dnd35dTQZOOEWgTolNBdODWpyiTU0Et+Gx2UalTQflcS32foFNBXmHTDZqRU0FHwOpfQa9TQc1TkN6Lo1NB12dXdzCsU0EgLGQnNKBTQag5byBvoVNBbd7ZFQ+dU0GNH6kE86lTQZI2sQTlnlNBNiXq9jSrU0EzN70xdatTQbI3MdDenlNBa2hC1vWjU0EVkEh2NJtTQfVNDMnuqlNBWKwJba+tU0FpN1SSWaFTQSF5emCboFNBF83twoSuU0F4sdfnVaRTQZNag/S7klNBL2sp3c6oU0G4OKXzkqlTQfBNbECfpVNB88Hjz2aqU0GkwnOKS55TQeo2ik1koVNBZPdQkuKiU0FHomuaVatTQV+gaYrxnlNBHO6XhJ6tU0ELtCevNp5TQWt9+6hkqVNBYLQrpTSdU0FIJChVE59TQdsV/G9zo1NBsCx937SlU0HMmTskiKhTQUQ+xEBGnFNBy4aUHp2lU0GiMcDjNKtTQeB4Pr4ApFNBtIx/F9OhU0E9Hz0OtpJTQXreGvMrsFNB4av3GRO3U0HsKidrL7FTQY3nEX50oVNB10Q5lY+rU0Fvpfz1KaZTQVOIyAMVn1NB4RIO+iOdU0Eo2v+z5KJTQZVNbdqkplNBXzdFQUubU0FsbU2oHqBTQf7FSlC+p1NBx92fTvCeU0GE5AVESJtTQd+8zY8MpFNB6fiChlifU0HSXpxyrKZTQSdu4hFNpVNBftugumKeU0EvEqAJHpJTQX/2SI/SkVNByNGST3mYU0HFMx2C6aNTQbQwPb7vnVNBvuLNIVqkU0Fihw4fEaZTQc0pXNvwolNB/v3cHxmgU0F+Tj1A1KFTQXW9486bqlNBGKSK4IukU0EmZWRaQZtTQdWmlm3hnVNBMXPGei6TU0EfZyEAYKpTQYlNOEFhmFNBBXSgeraaU0FyZ7JwVadTQbdZ5aTom1NBTwbSx2OqU0HKgQXXc6xTQVkYopTItFNBI9zMm+GfU0HwSpcbAKVTQaF5/ie3nVNBkyeJEOaXU0E43zvlsp1TQR7Yi0IUnlNBNVFYRjeoU0HKPOJN7aJTQRg3SnmhnFNBOl/aEoSiU0F881Qt2KFTQRzoR9nrpFNBWrdcI76pU0FVMDMQPp1TQafgc70qkVNBw2p5Wf6jU0FpkYSjXpdTQcku5gOlqlNBS1CLIBizU0ESKbQRJqhTQQhFRHBot1NBIxX6kt2pU0G2moyxWrJTQT7ADFUym1NBL89VhBCbU0Gj0Dxe96RTQQJ7Mi4DqFNB9RgJ14q4U0HxFsIhfp9TQQRfPe13q1NBm3Swca6eU0EwDzP/e5pTQfHE4YGwp1NBtAiAbC6eU0HVq+ggv5tTQW+z3MIMkVNBnVpZna+uU0HynerrFphTQQ5V4TBrmFNBAbxYvIKcU0GT/RJZkbFTQccTEjDEt1NBOmmKgaSdU0GdegkJEKZTQQaGdsDWmlNBOq+r3omiU0Gci3WmHrZTQUqbTzUEp1NB5PTeAkqjU0HihQliL5RTQfyUF93lnFNBxiU4fWSqU0Ht2E9jUphTQXtC0QN5mVNBpVL2/TeoU0HpE+9JGJtTQYFEp15TnFNBKfYJOdSiU0G5JcoXD61TQSb9IJhXqVNB1prd41WXU0GqLP3ZpZ1TQYBWLxFMl1NBDpbzeYmeU0Hz9DEK2ppTQUtgksjepVNBPhpeNAirU0HtFUxz0rJTQWIIAqT9mVNBtx+gvnurU0GcDv9fp5pTQdrhgj8KkFNBwssaeCinU0E/Xrr2tp1TQZyxeg4pllNBSNe7WVOqU0EnLDCBWaxTQZG1mYmrsFNBsYAU0ZepU0HEfRWKRpdTQaCtXU0qmVNBA84aL0ObU0FQ8sLX6K9TQVPAvwTQolNBQRkPslixU0FiReQQBqlTQb+3wIJ0rFNBNUzNoSWrU0HstXg92JdTQcUrDbxHl1NBM+boBD6UU0EAILeMkKZTQddM5gzen1NBrFzpSTydU0EZEEpOT6FTQbd40kxznlNB01ybprGZU0Hqy/aFbrlTQVD9hLtGsVNBPY80qQqZU0FC/G+4U7lTQdCrwR80qVNB4+Xh1yinU0Eu1PF+qJpTQfnk1xFkq1NBLlluklaqU0FGdntDB6tTQUzHPI1il1NBm83eqrOaU0Ff8g//3JRTQZPmY1o7qVNB6gLFFfeOU0HaWlEY8p9TQXw5EEBAk1NBIYGmeQiaU0EE4SofzKFTQaTq247Wm1NBv5qoi+CxU0F4TE8+y7FTQaNkIAVLqVNBufZzUqaTU0GUtAmyDpJTQZVgK0xIoVNBtZVF8cegU0HAaKikTJxTQch2I7taslNBSelm4viZU0HIrJ9eZZZTQdncaRlRqFNBNUZe5kifU0GRxgtXUqpTQY6oUzGwmlNB38wTxD6UU0GnD604Kq9TQUzJwSvpjVNB7NezPq+wU0FBSCL7daxTQdnZQbVHsFNB3cPRnxa3U0HabgMkQJ5TQdC1yAtJl1NBCRGddPOPU0EGGQG5IZ9TQVZuPpzgslNBCJ4HJAarU0Hb3CDZVKpTQfXPD6z6j1NBHG9tucCdU0GfLU+N9qRTQWCqpJ3VtVNBcNFbZ/KOU0GSkos0wZZTQSWsS7NLjVNBPFABTiefU0EpcBMCh5hTQStzhV+9oFNBfwLiosqzU0H7cUDZNpVTQVu/I8nIslNBswiNvnGtU0EZNWFAiaNTQeOovYK6rlNBPGcPwyatU0Ebtgu18Y1TQdb2Ro3hmFNBbYfW/kKqU0Hx3KV/JJNTQWxdTdXWslNBTvaWMyKeU0HVjXe0KpRTQf9To1wpqFNB4bhcUviVU0E4Nieuw6BTQayHBBOUkVNB01Hs2ECpU0Go1TVaXKlTQcwSL7W+oFNBQ96PjMWLU0HvuRXuAZdTQSIJ4jOhrVNBHBVZVeSYU0Ft0r1E27FTQdxcIUL8mVNBwC5D/OCZU0EbrEkZ07FTQdUE2J0+lFNBd09l7YioU0E697rRPJVTQZrAPDPwjlNBc5bNDJiVU0EjEnnJMJZTQV1WFitPmVNBqepyUIecU0EaxHw9l65TQe72Sui6jFNBIKBVjrqPU0H3AMO2gLJTQYZllPQyl1NBCk6XOM2PU0GD4b5Ao59TQeMWyIITklNB8JzZfDuZU0EDiiZJ7I1TQW9rANvop1NBqQSBZsiMU0GC3c7jfpBTQYtWgSuemlNBzkmDgf6TU0E/ZNG8S5lTQRWxcf75jlNBWXi3frCwU0Hjh+VJ549TQWbbg6V4o1NBCtik1+afU0GI/Ik6t5pTQagTJf0ZlFNBCf6JmKKLU0E0He6eqoxTQdOQii2ik1NBKE1Yj9aZU0HHswga7p5TQYG8gMCnoFNBEgdyIkyOU0H1xpuO2ZFTQYi5dfs6llNBE0A7+wGUU0Equ/Zg+4tTQT2pkMRUjlNBa/swJqeKU0EjWKERzIxTQQ8RJAeJjFNBfB99U+ePU0GKB9GWjoxTQUm6NREIlFNBRdCihEeOU0H553rivIxTQbCziSnTmVNBfuXtqIuKU0F/78oBm55TQQhsawOMnVNBNKCUYC2eU0FuAhtpgpxTQfHP8uOSiVNBTAs9M4SKU0G5jgT71qFTQdnzs7A/k1NBxtp83siLU0G+1SYAoJ9TQXBC1lZ1nVNBUY/AbBKtU0FoWw+9hZ5TQTlQ92jPjVNBCT2Omz+OU0HhTNe7sItTQWInY7iZn1NBMJ6QLyqWU0HMKU0fp51TQVOHW/TMj1NBIB7EnD2gU0EjFCBD3ZhTQV2cN7vwklNB0MJ35saRU0HDvsc5oopTQR9DP5DHi1NBkcS0zFOqU0EzgmEmt4tTQUxCiLrZnVNBEDM+iceNU0E1dmWfBItTQbtHel33kVNBdK59RrKoU0FmiyyvWZ9TQYIRDWiqoFNBe9MR01ifU0Fr45Iye41TQbvMbfq4ilNB7CNR9HqfU0H11ODGz5xTQX79jDYTk1NB5hiEHLyKU0GxmpfCqYpTQUh8ExrykVNB8squ0ianU0GZh2n4K5VTQfVEY2xFn1NBU2MJwn+eU0GoJ1k/tYtTQUhgnGLZlFNBWH23YziPU0HRRU8MXrhTQQsT9viCnlNBHQlngkCWU0EGYjd6UZJTQZao0eHCkVNBgT1x/sSQU0HHvZBW45BTQfurGK9zs1NB53G+zYK5U0FHfrJ53p1TQWRFvwMinlNBxXqLBkaOU0EQPWWw/ZBTQcLqirHajFNBGUdvH1WdU0GeSv+ylZ5TQdFMlRrCklNBeYJTVVuQU0GmGhR3349TQQ==\",\"dtype\":\"float64\",\"shape\":[596]},\"station_name\":[\"Streeter Dr & Grand Ave\",\"Lake Shore Dr & Monroe St\",\"Lake Shore Dr & North Blvd\",\"Theater on the Lake\",\"Michigan Ave & Oak St\",\"Millennium Park\",\"Shedd Aquarium\",\"Clark St & Lincoln Ave\",\"Clark St & Armitage Ave\",\"Wells St & Concord Ln\",\"Clark St & Elm St\",\"Adler Planetarium\",\"Kingsbury St & Kinzie St\",\"Columbus Dr & Randolph St\",\"Montrose Harbor\",\"Indiana Ave & Roosevelt Rd\",\"Dusable Harbor\",\"Wabash Ave & Grand Ave\",\"McClurg Ct & Illinois St\",\"Dearborn St & Erie St\",\"Broadway & Barry Ave\",\"Damen Ave & Pierce Ave\",\"Fairbanks Ct & Grand Ave\",\"Lake Shore Dr & Belmont Ave\",\"Wilton Ave & Belmont Ave\",\"Wabash Ave & Roosevelt Rd\",\"Clark St & Wrightwood Ave\",\"Lakeview Ave & Fullerton Pkwy\",\"Michigan Ave & Washington St\",\"Sheffield Ave & Waveland Ave\",\"Desplaines St & Kinzie St\",\"Lake Shore Dr & Ohio St\",\"Clark St & Drummond Pl\",\"Burnham Harbor\",\"Buckingham Fountain\",\"Lake Shore Dr & Wellington Ave\",\"Lake Shore Dr & Diversey Pkwy\",\"Halsted St & Roscoe St\",\"Wells St & Evergreen Ave\",\"LaSalle St & Illinois St\",\"Sedgwick St & Webster Ave\",\"Larrabee St & Webster Ave\",\"Michigan Ave & 8th St\",\"Sheffield Ave & Fullerton Ave\",\"Rush St & Cedar St\",\"Bissell St & Armitage Ave\",\"Broadway & Cornelia Ave\",\"Clinton St & Madison St\",\"Michigan Ave & Lake St\",\"Ashland Ave & Division St\",\"Field Museum\",\"Southport Ave & Roscoe St\",\"Stockton Dr & Wrightwood Ave\",\"Dearborn Pkwy & Delaware Pl\",\"Lakefront Trail & Bryn Mawr Ave\",\"Sheffield Ave & Webster Ave\",\"Clark St & Schiller St\",\"Pine Grove Ave & Waveland Ave\",\"Green St & Randolph St\",\"Broadway & Belmont Ave\",\"Mies van der Rohe Way & Chestnut St\",\"Wells St & Huron St\",\"Clark St & Wellington Ave\",\"Wells St & Elm St\",\"State St & Randolph St\",\"St. Clair St & Erie St\",\"Kingsbury St & Erie St\",\"Mies van der Rohe Way & Chicago Ave\",\"Pine Grove Ave & Irving Park Rd\",\"Wilton Ave & Diversey Pkwy\",\"Fort Dearborn Dr & 31st St\",\"Michigan Ave & Jackson Blvd\",\"Halsted St & Clybourn Ave (*)\",\"Sheffield Ave & Wellington Ave\",\"Clark St & North Ave\",\"Green St & Madison St\",\"Southport Ave & Waveland Ave\",\"Milwaukee Ave & Grand Ave\",\"Wood St & Milwaukee Ave\",\"Sedgwick St & North Ave\",\"Wells St & Hubbard St\",\"State St & Kinzie St\",\"Halsted St & Wrightwood Ave\",\"Michigan Ave & Pearson St\",\"Rush St & Superior St\",\"Broadway & Waveland Ave\",\"Halsted St & Dickens Ave\",\"Damen Ave & Chicago Ave\",\"Canal St & Adams St\",\"Kedzie Ave & Milwaukee Ave\",\"Southport Ave & Wellington Ave\",\"Damen Ave & Cortland St\",\"Clark St & Chicago Ave\",\"Sheridan Rd & Irving Park Rd\",\"Marshfield Ave & Cortland St\",\"Morgan St & Lake St\",\"Daley Center Plaza\",\"Sheffield Ave & Willow St\",\"Field Blvd & South Water St\",\"Sheffield Ave & Kingsbury St\",\"Dayton St & North Ave\",\"Federal St & Polk St\",\"Milwaukee Ave & Wabansia Ave\",\"California Ave & Milwaukee Ave\",\"Wabash Ave & Wacker Pl\",\"Loomis St & Lexington St\",\"McClurg Ct & Erie St\",\"Wabash Ave & 9th St\",\"State St & Pearson St\",\"Cannon Dr & Fullerton Ave\",\"Burling St (Halsted) & Diversey Pkwy (Temp)\",\"Sheffield Ave & Wrightwood Ave\",\"Shore Dr & 55th St\",\"Lincoln Ave & Fullerton Ave\",\"Clinton St & Lake St\",\"Cityfront Plaza Dr & Pioneer Ct\",\"Clarendon Ave & Gordon Ter\",\"Racine Ave & Belmont Ave\",\"Ravenswood Ave & Lawrence Ave\",\"Clark St & Lake St\",\"Dearborn St & Monroe St\",\"Clark St & Grace St\",\"MLK Jr Dr & 29th St\",\"Lincoln Ave & Diversey Pkwy\",\"Desplaines St & Jackson Blvd\",\"Ritchie Ct & Banks St\",\"Aberdeen St & Jackson Blvd\",\"Michigan Ave & 14th St\",\"Desplaines St & Randolph St\",\"Clifton Ave & Armitage Ave\",\"Sheridan Rd & Montrose Ave\",\"May St & Taylor St\",\"Honore St & Division St\",\"Franklin St & Jackson Blvd\",\"Lincoln Ave & Belmont Ave\",\"Franklin St & Chicago Ave\",\"Calumet Ave & 18th St\",\"Clark St & Berwyn Ave\",\"Michigan Ave & 18th St\",\"Larrabee St & Division St\",\"Kimbark Ave & 53rd St\",\"Paulina Ave & North Ave\",\"Lincoln Ave & Roscoe St\",\"State St & Van Buren St\",\"Morgan St & Polk St\",\"University Ave & 57th St\",\"Michigan Ave & Madison St\",\"Larrabee St & Armitage Ave\",\"Damen Ave & Division St\",\"Wabash Ave & 16th St\",\"Broadway & Sheridan Rd\",\"Peoria St & Jackson Blvd\",\"Stetson Ave & South Water St\",\"Franklin St & Monroe St\",\"Southport Ave & Clybourn Ave\",\"Racine Ave & Fullerton Ave\",\"Ashland Ave & Blackhawk St\",\"Franklin St & Lake St\",\"Loomis St & Taylor St (*)\",\"Clarendon Ave & Junior Ter\",\"Larrabee St & Kingsbury St\",\"Canal St & Madison St\",\"McCormick Place\",\"Wabash Ave & Adams St\",\"State St & Harrison St\",\"Delano Ct & Roosevelt Rd\",\"Rush St & Hubbard St\",\"Greenview Ave & Fullerton Ave\",\"Aberdeen St & Monroe St\",\"Damen Ave & Thomas St (Augusta Blvd)\",\"Marine Dr & Ainslie St\",\"Ogden Ave & Chicago Ave\",\"Western Ave & Leland Ave\",\"Western Ave & Winnebago Ave\",\"Ellis Ave & 55th St\",\"Orleans St & Merchandise Mart Plaza\",\"Noble St & Milwaukee Ave\",\"Ellis Ave & 60th St\",\"Clark St & Randolph St\",\"Orleans St & Chestnut St (NEXT Apts)\",\"Ashland Ave & Chicago Ave\",\"Clark St & Winnemac Ave (Temp)\",\"Southport Ave & Wrightwood Ave\",\"Southport Ave & Belmont Ave\",\"Eckhart Park\",\"Halsted St & Willow St\",\"Wentworth Ave & Cermak Rd (Temp)\",\"Wells St & Polk St\",\"Halsted St & Polk St\",\"LaSalle Dr & Huron St (*)\",\"Western Ave & Walton St\",\"Clinton St & Roosevelt Rd\",\"Clinton St & Washington Blvd\",\"Jefferson St & Monroe St\",\"Broadway & Berwyn Ave\",\"Dearborn St & Adams St\",\"State St & 33rd St\",\"Clybourn Ave & Division St\",\"Cornell Ave & Hyde Park Blvd\",\"Southport Ave & Irving Park Rd\",\"Sedgwick St & Huron St\",\"Museum of Science and Industry\",\"Broadway & Granville Ave\",\"Larrabee St & Menomonee St\",\"Broadway & Argyle St\",\"Ogden Ave & Race Ave\",\"Larrabee St & Oak St\",\"Canal St & Taylor St\",\"Sheridan Rd & Buena Ave\",\"Ada St & Washington Blvd\",\"Clark St & Leland Ave\",\"Winthrop Ave & Lawrence Ave\",\"LaSalle St & Washington St\",\"Humboldt Blvd & Armitage Ave\",\"Blue Island Ave & 18th St\",\"Broadway & Wilson Ave\",\"Broadway & Ridge Ave\",\"Ashland Ave & Augusta Blvd\",\"Carpenter St & Huron St\",\"Broadway & Thorndale Ave\",\"Damen Ave & Charleston St\",\"Lake Park Ave & 53rd St\",\"Ashland Ave & Grace St\",\"Lincoln Ave & Belle Plaine Ave\",\"Racine Ave & Wrightwood Ave\",\"Clark St & Montrose Ave\",\"Franklin St & Quincy St\",\"Wells St & Walton St\",\"Leavitt St & North Ave\",\"Clarendon Ave & Leland Ave\",\"Sangamon St & Washington Blvd (*)\",\"Clark St & Bryn Mawr Ave\",\"LaSalle St & Jackson Blvd\",\"Ravenswood Ave & Irving Park Rd\",\"Wolcott Ave & Polk St\",\"Racine Ave & Randolph St\",\"Albany Ave & Bloomingdale Ave\",\"Logan Blvd & Elston Ave\",\"Lincoln Ave & Waveland Ave\",\"Halsted St & Maxwell St\",\"Ashland Ave & Wrightwood Ave\",\"Damen Ave & Leland Ave\",\"Leavitt St & Armitage Ave\",\"Western Ave & Division St\",\"Ellis Ave & 53rd St\",\"Sheridan Rd & Loyola Ave\",\"Benson Ave & Church St\",\"Glenwood Ave & Morse Ave\",\"California Ave & Cortez St\",\"Sheridan Rd & Lawrence Ave\",\"Greenview Ave & Diversey Pkwy\",\"Aberdeen St & Randolph St\",\"Clark St & 9th St (AMLI)\",\"Larrabee St & North Ave\",\"Damen Ave & Wellington Ave\",\"Racine Ave & 18th St\",\"Damen Ave & Grand Ave\",\"Seeley Ave & Roscoe St\",\"Wacker Dr & Washington St\",\"Morgan St & 18th St\",\"California Ave & Francis Pl\",\"Ashland Ave & Lake St (Temp)\",\"Ashland Ave & Wellington Ave\",\"California Ave & Altgeld St\",\"LaSalle St & Adams St\",\"Woodlawn Ave & 55th St\",\"Lake Park Ave & 56th St\",\"Indiana Ave & 31st St\",\"Spaulding Ave & Armitage Ave\",\"Dearborn St & Van Buren St (*)\",\"Milwaukee Ave & Rockwell St\",\"Damen Ave & Clybourn Ave\",\"Campbell Ave & North Ave\",\"Ashland Ave & Grand Ave\",\"Orleans St & Elm St (*)\",\"Lincoln Ave & Sunnyside Ave\",\"Kedzie Ave & Palmer Ct\",\"Paulina St & 18th St\",\"Clinton St & Tilden St\",\"Blackstone Ave & Hyde Park Blvd\",\"Wolcott (Ravenswood) Ave & Montrose Ave (*)\",\"Emerald Ave & 31st St\",\"Calumet Ave & 21st St\",\"Damen Ave & Melrose Ave\",\"Morgan Ave & 14th Pl\",\"Paulina St & Montrose Ave\",\"Damen Ave & Foster Ave\",\"Chicago Ave & Washington St\",\"Wood St & Hubbard St\",\"Campbell Ave & Fullerton Ave\",\"900 W Harrison St\",\"Calumet Ave & 33rd St\",\"Racine Ave & Congress Pkwy\",\"Canal St & Jackson Blvd\",\"Talman Ave & Addison St\",\"California Ave & North Ave\",\"Halsted St & Roosevelt Rd\",\"Sedgwick St & Schiller St\",\"California Ave & Division St\",\"Winchester Ave & Elston Ave\",\"Southport Ave & Clark St\",\"Hermitage Ave & Polk St\",\"Ellis Ave & 58th St\",\"Stave St & Armitage Ave\",\"Lake Park Ave & 35th St\",\"Damen Ave & Sunnyside Ave\",\"Eastlake Ter & Rogers Ave\",\"Lincoln Ave & Addison St\",\"Chicago Ave & Sheridan Rd\",\"Ravenswood Ave & Berteau Ave\",\"Greenview Ave & Jarvis Ave\",\"Halsted St & 18th St\",\"State St & 19th St\",\"Drake Ave & Fullerton Ave\",\"Troy St & Elston Ave\",\"Sheridan Rd & Noyes St (NU)\",\"Racine Ave (May St) & Fulton St\",\"Leavitt St & Lawrence Ave\",\"Damen Ave & Madison St\",\"Wabash Ave & Cermak Rd\",\"Western Ave & Roscoe St\",\"Loomis St & Jackson Blvd\",\"Racine Ave & 15th St\",\"Harper Ave & 59th St\",\"Clark St & Elmdale Ave\",\"Rhodes Ave & 32nd St\",\"Shields Ave & 31st St\",\"Ogden Ave & Roosevelt Rd\",\"Sheridan Rd & Greenleaf Ave\",\"University Library (NU)\",\"Canal St & Harrison St\",\"Richmond St & Diversey Ave\",\"Damen Ave & Cullerton St\",\"Claremont Ave & Hirsch St\",\"Chicago Ave & Dempster St\",\"California Ave & Fletcher St\",\"Elston Ave & Wabansia Ave\",\"Lake Park Ave & 47th St\",\"Wood St & Taylor St\",\"Campbell Ave & Montrose Ave\",\"Morgan St & 31st St\",\"Indiana Ave & 26th St\",\"Leavitt St & Addison St\",\"Wells St & 19th St\",\"Ashland Ave & 13th St\",\"Troy St & North Ave\",\"Winchester (Ravenswood) Ave & Balmoral Ave\",\"Oakley Ave & Irving Park Rd\",\"State St & 35th St\",\"Ashland Ave & Harrison St\",\"Wentworth Ave & 35th St\",\"Canal St & Monroe St (*)\",\"May St & Cullerton St\",\"Kosciuszko Park\",\"Rockwell St & Eastwood Ave\",\"Paulina St & Howard St\",\"Wentworth Ave & 24th St\",\"Washtenaw Ave & Lawrence Ave\",\"Halsted St & 21st St\",\"63rd St Beach\",\"Kimball Ave & Belmont Ave\",\"Western Ave & Congress Pkwy\",\"Cottage Grove Ave & Oakwood Blvd\",\"California Ave & Montrose Ave\",\"Lincoln Ave & Winona St\",\"Clark St & Columbia Ave\",\"Ashland Ave & Belle Plaine Ave\",\"Wallace St & 35th St\",\"Emerald Ave & 28th St\",\"Clinton St & 18th St\",\"Clark St & Schreiber Ave\",\"Central Park Ave & North Ave\",\"Clark St & Lunt Ave\",\"California Ave & Byron St\",\"Francisco Ave & Foster Ave\",\"Kedzie Ave & Leland Ave\",\"Wentworth Ave & 33rd St\",\"Halsted St & 35th St (*)\",\"Greenwood Ave & 47th St\",\"Central Park Ave & Elbridge Ave\",\"Artesian Ave & Hubbard St\",\"Clinton St & Polk St (*)\",\"Halsted St & North Branch St\",\"Western Ave & Monroe St\",\"Halsted St & Archer Ave\",\"Central St & Girard Ave\",\"Western Ave & Lunt Ave\",\"Shields Ave & 28th Pl\",\"Central St Metra\",\"Avondale Ave & Irving Park Rd\",\"Avers Ave & Belmont Ave\",\"Ashland Ave & 21st St\",\"Christiana Ave & Lawrence Ave\",\"Drake Ave & Montrose Ave\",\"Manor Ave & Leland Ave\",\"Calumet Ave & 35th St\",\"Western Ave & 21st St\",\"Woodlawn Ave & Lake Park Ave\",\"Sawyer Ave & Irving Park Rd\",\"South Shore Dr & 67th St\",\"Orleans St & Hubbard St (*)\",\"Cottage Grove Ave & 51st St\",\"Normal Ave & Archer Ave\",\"Spaulding Ave & Division St\",\"Washtenaw Ave & Ogden Ave (*)\",\"Glenwood Ave & Touhy Ave\",\"Ridge Blvd & Touhy Ave\",\"Monticello Ave & Irving Park Rd\",\"Dorchester Ave & 49th St\",\"Prairie Ave & Garfield Blvd\",\"Wood St & Augusta Blvd\",\"Fairbanks St & Superior St (*)\",\"Racine Ave & 13th St\",\"Clark St & Jarvis Ave\",\"California Ave & 23rd Pl\",\"MLK Jr Dr & Pershing Rd\",\"Drake Ave & Addison St\",\"Conservatory Dr & Lake St\",\"Albany Ave & Montrose Ave\",\"California Ave & 21st St\",\"Cottage Grove Ave & 47th St\",\"Western Ave & Granville Ave\",\"South Shore Dr & 71st St\",\"Warren Park East\",\"Kedzie Ave & Foster Ave\",\"Warren Park West\",\"Dodge Ave & Church St\",\"Clinton St & Jackson Blvd (*)\",\"Racine Ave & 35th St\",\"Dorchester Ave & 63rd St\",\"California Ave & Lake St\",\"Bosworth Ave & Howard St\",\"Lakefront Trail & Wilson Ave\",\"Keystone Ave & Montrose Ave\",\"Cottage Grove Ave & 63rd St\",\"Ogden Ave & Congress Pkwy\",\"Keystone Ave & Fullerton Ave\",\"Valli Produce - Evanston Plaza\",\"Jeffery Blvd & 67th St\",\"Halsted St & 37th St\",\"South Shore Dr & 74th St\",\"Kedzie Ave & Lake St\",\"Ashland Ave & Archer Ave\",\"Kedzie Ave & Chicago Ave\",\"Elmwood Ave & Austin St\",\"Cottage Grove Ave & 43rd St\",\"Western Ave & Howard St\",\"Kedzie Ave & Bryn Mawr Ave\",\"Walsh Park\",\"2112 W Peterson Ave\",\"St. Louis Ave & Balmoral Ave\",\"Jeffery Blvd & 71st St\",\"Loomis St & Archer Ave\",\"Knox Ave & Montrose Ave\",\"Calumet Ave & 51st St\",\"Ridge Blvd & Howard St\",\"Malcolm X College\",\"Princeton Ave & 47th St\",\"Pulaski Rd & Eddy St (Temp)\",\"Indiana Ave & 40th St\",\"Wood St & Chicago Ave (*)\",\"DuSable Museum\",\"Kilbourn Ave & Irving Park Rd\",\"Milwaukee Ave & Cuyler Ave\",\"Leavitt St & Chicago Ave\",\"Exchange Ave & 79th St\",\"Leavitt St & Archer Ave\",\"Budlong Woods Library\",\"State St & 29th St\",\"Clark St & Touhy Ave\",\"Damen Ave & Coulter St\",\"Western Ave & 24th St\",\"Oakley Ave & Touhy Ave\",\"MLK Jr Dr & 47th St\",\"Kilbourn Ave & Milwaukee Ave\",\"Prairie Ave & 43rd St\",\"Stony Island Ave & 67th St\",\"Union Ave & Root St\",\"Damen Ave & Pershing Rd\",\"Millard Ave & 26th St\",\"Fairfield Ave & Roosevelt Rd\",\"Maplewood Ave & Peterson Ave\",\"Evans Ave & 75th St\",\"Stony Island Ave & 64th St\",\"Wolcott Ave & Fargo Ave\",\"Wood St & 35th St\",\"Halsted St & 63rd St\",\"Austin Blvd & Lake St\",\"Princeton Ave & Garfield Blvd\",\"California Ave & 26th St\",\"Stony Island Ave & 71st St\",\"Clark St & Newport St\",\"Stony Island Ave & 75th St\",\"Eberhart Ave & 61st St\",\"Kedzie Ave & 21st St\",\"Halsted St & 47th Pl\",\"Albany Ave & 26th St\",\"Cottage Grove Ave & 67th St\",\"Sheridan Rd & Columbia Ave\",\"Wentworth Ave & 63rd St\",\"Central Park Ave & Bloomingdale Ave\",\"Sacramento Blvd & Franklin Blvd\",\"Central Park Ave & Ogden Ave\",\"Ashland Ave & McDowell Ave\",\"State St & 79th St\",\"Rainbow Beach\",\"Western Blvd & 48th Pl\",\"Kedzie Ave & 24th St\",\"Racine Ave & Washington Blvd (*)\",\"Austin Blvd & Chicago Ave\",\"Halsted St & 69th St\",\"MLK Jr Dr & 56th St (*)\",\"Ashland Ave & Pershing Rd\",\"Hoyne Ave & 47th St\",\"Cottage Grove Ave & 78th St\",\"Perry Ave & 69th St\",\"Cottage Grove Ave & 83rd St\",\"Yates Blvd & 75th St\",\"State St & 76th St\",\"MLK Jr Dr & 63rd St\",\"Jeffery Blvd & 76th St\",\"Elizabeth St & 47th St\",\"May St & 69th St\",\"Vernon Ave & 75th St\",\"Central Park Ave & 24th St\",\"Wabash Ave & 83rd St\",\"Karlov Ave & Madison St\",\"Kedzie Ave & Harrison St\",\"Kostner Ave & Adams St\",\"Kedzie Ave & Roosevelt Rd\",\"Wabash Ave & 87th St\",\"MLK Jr Dr & 83rd St\",\"Leavitt St & Division St (*)\",\"Ashland Ave & 50th St\",\"Phillips Ave & 79th St\",\"Laramie Ave & Kinzie St\",\"Central Ave & Harrison St\",\"Hoyne Ave & Balmoral Ave\",\"Austin Blvd & Madison St\",\"Cottage Grove Ave & 71st St\",\"Ashland Ave & 69th St\",\"Stony Island Ave & South Chicago Ave\",\"Central Ave & Lake St\",\"State St & Pershing Rd\",\"Pulaski Rd & Congress Pkwy\",\"Ashland Ave & 63rd St\",\"Smith Park (*)\",\"Western Ave & 28th St\",\"Damen Ave & 51st St\",\"Halsted St & 56th St\",\"South Chicago Ave & 83rd St\",\"Bennett Ave & 79th St\",\"Kildare Ave & Montrose Ave\",\"Eberhart (Vernon) Ave & 79th St\",\"Central Park Blvd & 5th Ave\",\"Calumet Ave & 71st St\",\"Stony Island Ave & 82nd St\",\"Racine Ave & Garfield Blvd\",\"Bernard St & Elston Ave\",\"Damen Ave & Walnut (Lake) St (*)\",\"Central Ave & Chicago Ave\",\"Kostner Ave & Lake St\",\"Normal Ave & 72nd St\",\"Phillips Ave & 83rd St\",\"Cicero Ave & Lake St\",\"Western Ave & Fillmore St (*)\",\"Halsted St & 51st St\",\"Commercial Ave & 83rd St\",\"Ellis Ave & 83rd St\",\"Seeley Ave & Garfield Blvd\",\"Leavitt St & Belmont Ave (*)\",\"Shields Ave & 43rd St\",\"Pulaski Rd & Lake St\",\"Central Ave & Madison St\",\"Greenwood Ave & 79th St\",\"Marshfield Ave & 44th St\",\"Racine Ave & 65th St\",\"Evanston Civic Center\",\"Laramie Ave & Madison St\",\"Morgan St & Pershing Rd\",\"State St & 54th St\",\"Ashland Ave & Garfield Blvd\",\"Damen Ave & 59th St\",\"Marshfield Ave & 59th St\",\"Dodge Ave & Mulford St\",\"Lincolnwood Dr & Central St\",\"Laramie Ave & Gladys Ave\",\"Cicero Ave & Quincy St\",\"Eggleston Ave & 69th St (*)\",\"Halsted St & 59th St\",\"Woodlawn Ave & 75th St\",\"Cicero Ave & Flournoy St\",\"Kenton Ave & Madison St\",\"Throop St & 52nd St\",\"Racine Ave & 61st St\",\"Carpenter St & 63rd St\"],\"weekdays\":[38067,19526,17843,17825,18350,21547,13157,10894,12865,14010,16914,8743,28472,29399,6985,14399,7824,15581,13629,18459,10499,13149,16451,8056,12833,16453,10255,8519,33363,8998,14639,8529,8392,7123,4667,6896,6819,7499,8608,15771,8268,8010,7578,12927,8268,9015,7385,47899,18408,13673,5404,8153,6380,12819,5277,7680,8427,6716,10633,7023,10724,15709,7763,9501,15603,15683,16460,10331,6452,10354,4043,11016,10228,8878,6009,13059,7039,10679,7166,9639,14202,15169,6252,7243,9493,6204,6081,6931,59745,6565,8064,5784,8010,8742,12635,14232,31211,6188,7870,6787,7387,9491,6282,7067,9824,8974,13733,9644,9371,3592,4964,5117,5019,6983,20686,10554,4917,4752,11624,14170,18074,4994,7815,5327,11836,5283,9732,6730,8988,4817,4646,7227,5383,17339,4869,12061,5479,5172,7347,7520,5652,4883,6170,9555,12490,9695,8488,4757,4801,7137,3970,11857,11474,31206,5600,6079,5018,14189,6288,3106,19466,32338,3933,9920,6349,4682,10255,4651,8105,4918,2572,6633,4101,5842,6215,27360,5305,6187,14726,6607,4833,4287,4382,3293,5394,4404,2875,6032,7014,6362,4384,4383,47094,7060,3993,10535,6702,5025,3690,3335,9955,2026,2598,3738,3453,5231,7797,6202,3315,6415,3285,3033,10983,2621,3878,4615,2733,4363,4712,2647,2814,2581,2983,2805,3722,3007,11767,5591,3157,2613,6907,2949,26469,3319,8215,6793,2654,2826,2321,5241,3312,4400,2747,3567,3093,2744,3886,2742,2760,2386,2637,5557,3245,3110,2309,3034,4299,2116,17247,2992,2394,3610,2378,1912,5901,2554,3589,3032,2633,4120,1916,2483,2405,3073,3718,1784,2807,2575,6131,2342,2642,2020,2527,1975,4034,1774,2544,2174,2935,1768,5390,2355,5668,11220,1426,1606,4270,2141,1312,2323,2005,5388,5329,1484,1067,1592,1512,1389,1775,3244,1303,1694,1815,1465,1318,2330,5911,1929,1944,2201,2424,3949,1978,2211,1540,1197,1564,1585,1176,2594,3116,1659,1275,2361,1317,1086,2077,1008,5470,1763,1145,1796,1262,1097,1780,894,1731,1429,2814,4357,988,13589,1649,1348,1492,1631,895,1236,955,529,1050,1334,584,845,1003,1509,1050,1295,1347,1846,981,955,2711,932,1040,1013,1177,850,997,976,4956,1773,1851,755,1239,911,828,734,853,1391,683,721,1063,1102,747,708,1067,753,679,462,1428,460,844,761,885,602,485,977,531,1146,647,1122,1028,561,677,654,1309,349,536,759,642,367,355,528,705,369,554,2873,492,287,432,541,272,583,557,1524,546,268,301,382,365,512,338,491,619,355,482,306,293,326,717,268,588,457,419,524,405,254,332,368,491,472,549,255,456,207,657,344,487,361,298,503,330,313,510,303,226,275,113,266,365,246,268,160,113,351,307,305,306,255,159,130,141,147,390,179,136,191,141,188,119,428,192,296,198,117,135,174,458,73,125,253,213,178,85,96,107,67,65,79,98,123,92,81,119,50,93,40,59,118,61,112,123,59,52,42,44,127,127,40,61,42,83,144,69,54,100,174,40,47,42,55,43,43,45,31,40,36,29,103,29,28,37,22,41,29,36,26,26,18,12,25,100,20,36,57,15,17,11,53,10,16,24,17,40,63,27,28,10,27,25,21,11,11,6,1],\"weekends\":[28877,16648,13360,12854,11024,10936,10125,6989,6983,6953,6454,6210,6117,5943,5903,5766,5691,5448,5382,5370,5341,5264,5142,5133,5078,5011,4982,4934,4666,4567,4473,4461,4457,4421,4395,4344,4215,4106,4064,4045,3985,3918,3916,3914,3901,3880,3846,3793,3790,3787,3780,3771,3745,3734,3727,3724,3690,3611,3573,3531,3507,3472,3429,3415,3398,3353,3352,3308,3303,3270,3262,3247,3241,3211,3203,3200,3189,3168,3166,3131,3105,3077,2998,2954,2940,2937,2916,2916,2909,2895,2895,2882,2817,2800,2778,2773,2757,2748,2720,2717,2690,2683,2662,2657,2638,2636,2599,2579,2570,2570,2524,2517,2493,2490,2489,2482,2471,2457,2413,2410,2403,2400,2395,2394,2382,2328,2324,2295,2289,2234,2211,2210,2183,2138,2132,2128,2111,2097,2065,2055,2052,2042,2029,2015,2007,1998,1976,1971,1971,1953,1950,1926,1922,1919,1912,1911,1907,1901,1898,1896,1886,1850,1841,1832,1807,1792,1775,1770,1770,1767,1761,1748,1741,1734,1729,1722,1713,1711,1701,1692,1688,1679,1676,1667,1655,1643,1639,1603,1592,1587,1580,1576,1575,1561,1536,1534,1532,1525,1503,1502,1487,1472,1471,1467,1454,1447,1442,1418,1401,1396,1379,1378,1375,1339,1330,1326,1311,1309,1301,1297,1292,1278,1275,1243,1234,1229,1220,1214,1211,1204,1203,1201,1196,1178,1174,1166,1154,1151,1146,1140,1137,1128,1116,1092,1086,1086,1085,1074,1068,1055,1052,1045,1038,1036,1016,1015,988,979,971,967,961,956,956,955,954,934,933,930,928,926,913,910,897,897,895,894,885,878,867,854,849,848,844,843,841,834,831,817,807,803,797,771,764,761,755,750,741,720,712,711,709,692,679,667,664,662,656,655,642,641,636,628,618,615,609,603,596,591,587,586,584,582,578,577,577,576,576,575,572,557,546,540,536,534,532,523,521,518,517,511,500,500,498,490,481,481,471,466,456,451,451,450,448,447,447,440,439,437,429,427,423,420,418,416,405,401,394,394,393,392,390,388,386,373,372,369,363,362,356,351,350,345,328,322,314,302,297,296,291,288,285,284,271,271,261,260,259,257,252,251,249,243,242,242,242,239,234,233,229,228,224,224,222,221,221,220,219,216,215,214,203,202,201,200,199,199,197,188,180,176,174,173,170,167,160,157,156,154,150,150,147,145,145,143,143,142,135,132,130,130,128,128,124,124,122,119,119,112,111,110,110,110,107,106,106,104,104,103,102,98,96,96,94,93,93,89,88,88,87,86,85,84,82,82,79,77,77,75,73,70,66,64,63,63,63,61,59,59,59,58,56,55,54,54,54,51,50,50,49,49,48,48,48,42,41,39,39,36,34,34,33,33,31,30,30,30,30,29,28,28,26,25,24,23,23,23,23,23,23,23,22,22,21,20,19,19,19,19,19,19,18,17,17,17,16,16,15,15,14,14,14,13,13,13,13,12,12,12,11,11,10,10,10,9,9,8,8,8,8,8,7,7,7,6,6,5,5,5,5,5,5,4,3,2,2,1]},\"selected\":{\"id\":\"1113\",\"type\":\"Selection\"},\"selection_policy\":{\"id\":\"1112\",\"type\":\"UnionRenderers\"}},\"id\":\"1085\",\"type\":\"ColumnDataSource\"},{\"attributes\":{},\"id\":\"1009\",\"type\":\"LinearScale\"},{\"attributes\":{\"fill_color\":{\"field\":\"weekdays\",\"transform\":{\"id\":\"1086\",\"type\":\"LinearColorMapper\"}},\"line_color\":{\"value\":null},\"size\":{\"units\":\"screen\",\"value\":5},\"x\":{\"field\":\"merc_x\"},\"y\":{\"field\":\"merc_y\"}},\"id\":\"1091\",\"type\":\"Circle\"},{\"attributes\":{},\"id\":\"1112\",\"type\":\"UnionRenderers\"},{\"attributes\":{\"dimension\":\"lat\"},\"id\":\"1025\",\"type\":\"MercatorTickFormatter\"},{\"attributes\":{\"color_mapper\":{\"id\":\"1086\",\"type\":\"LinearColorMapper\"},\"formatter\":{\"id\":\"1110\",\"type\":\"BasicTickFormatter\"},\"location\":[0,0],\"plot\":{\"id\":\"1003\",\"subtype\":\"Figure\",\"type\":\"Plot\"},\"ticker\":{\"id\":\"1111\",\"type\":\"BasicTicker\"}},\"id\":\"1088\",\"type\":\"ColorBar\"},{\"attributes\":{\"dimension\":1,\"plot\":{\"id\":\"1003\",\"subtype\":\"Figure\",\"type\":\"Plot\"},\"ticker\":{\"id\":\"1023\",\"type\":\"MercatorTicker\"}},\"id\":\"1030\",\"type\":\"Grid\"},{\"attributes\":{\"tile_source\":{\"id\":\"1001\",\"type\":\"WMTSTileSource\"}},\"id\":\"1038\",\"type\":\"TileRenderer\"}],\"root_ids\":[\"1003\"]},\"title\":\"Bokeh Application\",\"version\":\"1.0.4\"}};\n",
       "  var render_items = [{\"docid\":\"81d6bec5-c6c3-4155-a8b4-00df7d065462\",\"roots\":{\"1003\":\"905b5e6e-650a-473c-9cc4-2fec8e856df1\"}}];\n",
       "  root.Bokeh.embed.embed_items_notebook(docs_json, render_items);\n",
       "\n",
       "  }\n",
       "  if (root.Bokeh !== undefined) {\n",
       "    embed_document(root);\n",
       "  } else {\n",
       "    var attempts = 0;\n",
       "    var timer = setInterval(function(root) {\n",
       "      if (root.Bokeh !== undefined) {\n",
       "        embed_document(root);\n",
       "        clearInterval(timer);\n",
       "      }\n",
       "      attempts++;\n",
       "      if (attempts > 100) {\n",
       "        console.log(\"Bokeh: ERROR: Unable to run BokehJS code because BokehJS library is missing\");\n",
       "        clearInterval(timer);\n",
       "      }\n",
       "    }, 10, root)\n",
       "  }\n",
       "})(window);"
      ],
      "application/vnd.bokehjs_exec.v0+json": ""
     },
     "metadata": {
      "application/vnd.bokehjs_exec.v0+json": {
       "id": "1003"
      }
     },
     "output_type": "display_data"
    }
   ],
   "source": [
    "output_notebook()\n",
    "show(plot1)"
   ]
  },
  {
   "cell_type": "markdown",
   "metadata": {},
   "source": [
    "Zooming in the plot, we can see that during weekdays the downtown area has the most bike rentals. When we point on a circle, representing a station, we can see the station name and the total number of rentals made from the station during weekdays.\n",
    "\n",
    "This information might be useful for the company to supply the demanded stations with extra bikes.\n",
    "\n",
    "During weekends, as the next plot shows, most of bike rentals are made in lakefront areas such as Navy Pier and Chicago Yacht Club."
   ]
  },
  {
   "cell_type": "code",
   "execution_count": 43,
   "metadata": {},
   "outputs": [
    {
     "data": {
      "text/html": [
       "\n",
       "\n",
       "\n",
       "\n",
       "\n",
       "\n",
       "  <div class=\"bk-root\" id=\"c6e858c6-51fb-4664-a75a-83f9d7b74fa2\" data-root-id=\"1041\"></div>\n"
      ]
     },
     "metadata": {},
     "output_type": "display_data"
    },
    {
     "data": {
      "application/javascript": [
       "(function(root) {\n",
       "  function embed_document(root) {\n",
       "    \n",
       "  var docs_json = {\"28f20a00-0add-4891-9ef5-e11f073635c5\":{\"roots\":{\"references\":[{\"attributes\":{\"below\":[{\"id\":\"1051\",\"type\":\"MercatorAxis\"}],\"left\":[{\"id\":\"1060\",\"type\":\"MercatorAxis\"}],\"renderers\":[{\"id\":\"1051\",\"type\":\"MercatorAxis\"},{\"id\":\"1059\",\"type\":\"Grid\"},{\"id\":\"1060\",\"type\":\"MercatorAxis\"},{\"id\":\"1068\",\"type\":\"Grid\"},{\"id\":\"1076\",\"type\":\"TileRenderer\"},{\"id\":\"1098\",\"type\":\"GlyphRenderer\"},{\"id\":\"1089\",\"type\":\"ColorBar\"}],\"right\":[{\"id\":\"1089\",\"type\":\"ColorBar\"}],\"title\":{\"id\":\"1040\",\"type\":\"Title\"},\"toolbar\":{\"id\":\"1072\",\"type\":\"Toolbar\"},\"x_range\":{\"id\":\"1043\",\"type\":\"DataRange1d\"},\"x_scale\":{\"id\":\"1047\",\"type\":\"LinearScale\"},\"y_range\":{\"id\":\"1045\",\"type\":\"DataRange1d\"},\"y_scale\":{\"id\":\"1049\",\"type\":\"LinearScale\"}},\"id\":\"1041\",\"subtype\":\"Figure\",\"type\":\"Plot\"},{\"attributes\":{\"data_source\":{\"id\":\"1085\",\"type\":\"ColumnDataSource\"},\"glyph\":{\"id\":\"1096\",\"type\":\"Circle\"},\"hover_glyph\":null,\"muted_glyph\":null,\"nonselection_glyph\":{\"id\":\"1097\",\"type\":\"Circle\"},\"selection_glyph\":null,\"view\":{\"id\":\"1099\",\"type\":\"CDSView\"}},\"id\":\"1098\",\"type\":\"GlyphRenderer\"},{\"attributes\":{},\"id\":\"1047\",\"type\":\"LinearScale\"},{\"attributes\":{\"callback\":null},\"id\":\"1045\",\"type\":\"DataRange1d\"},{\"attributes\":{\"callback\":null},\"id\":\"1043\",\"type\":\"DataRange1d\"},{\"attributes\":{\"active_drag\":\"auto\",\"active_inspect\":\"auto\",\"active_multi\":null,\"active_scroll\":\"auto\",\"active_tap\":\"auto\",\"tools\":[{\"id\":\"1069\",\"type\":\"PanTool\"},{\"id\":\"1070\",\"type\":\"WheelZoomTool\"},{\"id\":\"1071\",\"type\":\"SaveTool\"},{\"id\":\"1101\",\"type\":\"HoverTool\"}]},\"id\":\"1072\",\"type\":\"Toolbar\"},{\"attributes\":{\"dimension\":\"lat\"},\"id\":\"1063\",\"type\":\"MercatorTickFormatter\"},{\"attributes\":{},\"id\":\"1183\",\"type\":\"BasicTicker\"},{\"attributes\":{\"dimension\":\"lat\"},\"id\":\"1061\",\"type\":\"MercatorTicker\"},{\"attributes\":{},\"id\":\"1113\",\"type\":\"Selection\"},{\"attributes\":{\"formatter\":{\"id\":\"1063\",\"type\":\"MercatorTickFormatter\"},\"plot\":{\"id\":\"1041\",\"subtype\":\"Figure\",\"type\":\"Plot\"},\"ticker\":{\"id\":\"1061\",\"type\":\"MercatorTicker\"}},\"id\":\"1060\",\"type\":\"MercatorAxis\"},{\"attributes\":{\"plot\":{\"id\":\"1041\",\"subtype\":\"Figure\",\"type\":\"Plot\"},\"ticker\":{\"id\":\"1052\",\"type\":\"MercatorTicker\"}},\"id\":\"1059\",\"type\":\"Grid\"},{\"attributes\":{\"dimension\":1,\"plot\":{\"id\":\"1041\",\"subtype\":\"Figure\",\"type\":\"Plot\"},\"ticker\":{\"id\":\"1061\",\"type\":\"MercatorTicker\"}},\"id\":\"1068\",\"type\":\"Grid\"},{\"attributes\":{\"attribution\":\"&copy; <a href=\\\"https://www.openstreetmap.org/copyright\\\">OpenStreetMap</a> contributors,&copy; <a href=\\\"https://cartodb.com/attributions\\\">CartoDB</a>\",\"url\":\"https://tiles.basemaps.cartocdn.com/light_all/{z}/{x}/{y}.png\"},\"id\":\"1001\",\"type\":\"WMTSTileSource\"},{\"attributes\":{\"dimension\":\"lon\"},\"id\":\"1054\",\"type\":\"MercatorTickFormatter\"},{\"attributes\":{\"dimension\":\"lon\"},\"id\":\"1052\",\"type\":\"MercatorTicker\"},{\"attributes\":{\"fill_alpha\":{\"value\":0.1},\"fill_color\":{\"value\":\"#1f77b4\"},\"line_alpha\":{\"value\":0.1},\"line_color\":{\"value\":\"#1f77b4\"},\"size\":{\"units\":\"screen\",\"value\":5},\"x\":{\"field\":\"merc_x\"},\"y\":{\"field\":\"merc_y\"}},\"id\":\"1097\",\"type\":\"Circle\"},{\"attributes\":{\"formatter\":{\"id\":\"1054\",\"type\":\"MercatorTickFormatter\"},\"plot\":{\"id\":\"1041\",\"subtype\":\"Figure\",\"type\":\"Plot\"},\"ticker\":{\"id\":\"1052\",\"type\":\"MercatorTicker\"}},\"id\":\"1051\",\"type\":\"MercatorAxis\"},{\"attributes\":{},\"id\":\"1071\",\"type\":\"SaveTool\"},{\"attributes\":{\"color_mapper\":{\"id\":\"1087\",\"type\":\"LinearColorMapper\"},\"formatter\":{\"id\":\"1182\",\"type\":\"BasicTickFormatter\"},\"location\":[0,0],\"plot\":{\"id\":\"1041\",\"subtype\":\"Figure\",\"type\":\"Plot\"},\"ticker\":{\"id\":\"1183\",\"type\":\"BasicTicker\"}},\"id\":\"1089\",\"type\":\"ColorBar\"},{\"attributes\":{\"plot\":null,\"text\":\"Weekends\"},\"id\":\"1040\",\"type\":\"Title\"},{\"attributes\":{\"tile_source\":{\"id\":\"1001\",\"type\":\"WMTSTileSource\"}},\"id\":\"1076\",\"type\":\"TileRenderer\"},{\"attributes\":{\"callback\":null,\"tooltips\":[[\"Station\",\"@station_name\"],[\"Weekends\",\"@weekends\"]]},\"id\":\"1101\",\"type\":\"HoverTool\"},{\"attributes\":{},\"id\":\"1069\",\"type\":\"PanTool\"},{\"attributes\":{\"high\":30000,\"low\":0,\"palette\":[\"#FCFEA4\",\"#FAFDA0\",\"#F9FC9D\",\"#F7FB99\",\"#F6FA95\",\"#F5F891\",\"#F4F78D\",\"#F3F689\",\"#F2F485\",\"#F2F381\",\"#F1F27D\",\"#F1F079\",\"#F1EE74\",\"#F1ED70\",\"#F1EB6C\",\"#F1E968\",\"#F1E864\",\"#F2E660\",\"#F2E45D\",\"#F3E259\",\"#F3E056\",\"#F3DE52\",\"#F4DC4F\",\"#F4DB4B\",\"#F5D948\",\"#F5D745\",\"#F6D542\",\"#F6D33F\",\"#F7D13C\",\"#F7CF3A\",\"#F8CD37\",\"#F8CB34\",\"#F8C931\",\"#F9C72F\",\"#F9C52C\",\"#F9C32A\",\"#FAC128\",\"#FABF25\",\"#FABD23\",\"#FABB21\",\"#FBB91E\",\"#FBB71C\",\"#FBB51A\",\"#FBB318\",\"#FBB116\",\"#FBB014\",\"#FBAE12\",\"#FBAC10\",\"#FBAA0E\",\"#FBA80D\",\"#FBA60B\",\"#FBA40A\",\"#FBA208\",\"#FBA007\",\"#FB9E07\",\"#FB9D06\",\"#FB9B06\",\"#FB9906\",\"#FA9706\",\"#FA9506\",\"#FA9306\",\"#FA9107\",\"#F99008\",\"#F98E08\",\"#F98C09\",\"#F88A0B\",\"#F8880C\",\"#F8870D\",\"#F7850E\",\"#F78310\",\"#F68111\",\"#F68012\",\"#F57E14\",\"#F57C15\",\"#F47A16\",\"#F37918\",\"#F37719\",\"#F2751A\",\"#F2741C\",\"#F1721D\",\"#F0701E\",\"#F06F1F\",\"#EF6D21\",\"#EE6C22\",\"#ED6A23\",\"#ED6825\",\"#EC6726\",\"#EB6527\",\"#EA6428\",\"#E9622A\",\"#E8612B\",\"#E75F2C\",\"#E65E2D\",\"#E65C2E\",\"#E55B30\",\"#E45A31\",\"#E35832\",\"#E25733\",\"#E05634\",\"#DF5436\",\"#DE5337\",\"#DD5238\",\"#DC5039\",\"#DB4F3A\",\"#DA4E3B\",\"#D94D3D\",\"#D74B3E\",\"#D64A3F\",\"#D54940\",\"#D44841\",\"#D24742\",\"#D14643\",\"#D04544\",\"#CF4446\",\"#CD4247\",\"#CC4148\",\"#CB4049\",\"#C93F4A\",\"#C83E4B\",\"#C73E4C\",\"#C53D4D\",\"#C43C4E\",\"#C23B4F\",\"#C13A50\",\"#BF3951\",\"#BE3852\",\"#BD3753\",\"#BB3754\",\"#BA3655\",\"#B83556\",\"#B73456\",\"#B53357\",\"#B43358\",\"#B23259\",\"#B1315A\",\"#AF315B\",\"#AE305B\",\"#AC2F5C\",\"#AB2E5D\",\"#A92E5E\",\"#A72D5F\",\"#A62C5F\",\"#A42C60\",\"#A32B61\",\"#A12B61\",\"#A02A62\",\"#9E2963\",\"#9C2963\",\"#9B2864\",\"#992864\",\"#982765\",\"#962666\",\"#952666\",\"#932567\",\"#912567\",\"#902468\",\"#8E2468\",\"#8D2369\",\"#8B2269\",\"#892269\",\"#88216A\",\"#86216A\",\"#85206A\",\"#83206B\",\"#811F6B\",\"#801F6B\",\"#7E1E6C\",\"#7D1D6C\",\"#7B1D6C\",\"#7A1C6D\",\"#781C6D\",\"#761B6D\",\"#751B6D\",\"#731A6D\",\"#72196D\",\"#70196E\",\"#6E186E\",\"#6D186E\",\"#6B176E\",\"#6A176E\",\"#68166E\",\"#66156E\",\"#65156E\",\"#63146E\",\"#62146E\",\"#60136E\",\"#5F126E\",\"#5D126E\",\"#5B116E\",\"#5A116D\",\"#58106D\",\"#570F6D\",\"#550F6D\",\"#530E6D\",\"#520E6C\",\"#500D6C\",\"#4F0D6C\",\"#4D0C6B\",\"#4B0C6B\",\"#4A0B6A\",\"#480B6A\",\"#460A69\",\"#450A69\",\"#430A68\",\"#410967\",\"#400966\",\"#3E0966\",\"#3C0965\",\"#3B0964\",\"#390962\",\"#370961\",\"#350960\",\"#34095F\",\"#32095D\",\"#300A5C\",\"#2E0A5A\",\"#2D0A58\",\"#2B0A56\",\"#290B54\",\"#270B52\",\"#260B50\",\"#240B4E\",\"#220B4C\",\"#200C4A\",\"#1F0C47\",\"#1D0C45\",\"#1C0C43\",\"#1A0B40\",\"#190B3E\",\"#170B3B\",\"#160B39\",\"#140B36\",\"#130A34\",\"#120A32\",\"#10092F\",\"#0F092D\",\"#0E082A\",\"#0D0828\",\"#0B0726\",\"#0A0723\",\"#090621\",\"#08061F\",\"#07051D\",\"#06041B\",\"#050418\",\"#040316\",\"#040314\",\"#030212\",\"#020210\",\"#02010E\",\"#01010B\",\"#010109\",\"#010007\",\"#000006\",\"#000004\",\"#000003\"]},\"id\":\"1087\",\"type\":\"LinearColorMapper\"},{\"attributes\":{\"callback\":null,\"data\":{\"Latitude\":{\"__ndarray__\":\"XXheKjbyREAlk1M7w/BEQJiFdk6z9ERAvASnPpD2REBNBYmrUvNEQKEekaXF8ERAVceZQgHvREBKJxJMNfVEQDzcDg2L9URAGk0uxsD0REDkFYielPNEQFQdcjPc7kRARQzli9DxRECB7WDEPvFEQGL3HcNj+0RAoUs49BbvREAfK/htiPFEQHu/0Y4b8kRAgVmhSPfxREBccXFUbvJEQCDSb18H+ERAyJaeFmf0REAnTu53KPJEQHzysFBr+ERAOC140Vf4RECmmllLAe9EQFYQA1379kRAuV7Tg4L2REAMku1lI/FEQHTtC+iF+URAfwZzcsHxREADste7P/JEQJI7bCIz90RAQE6YMJrtREBq9kArMPBEQKkWEcXk90RAL1IoC1/3RECwG7YtyvhEQMg/M4gP9ERAgUI9fQTyRECoOXmRCfZEQN1dZ0P+9URAeeqRBrfvREAsJ1ofevZEQHrY/Nl+80RAS6shcY/1REC1NSIYB/lEQC2UTE7t8ERATbwDPGnxREAdyeU/pPNEQA5rKovC7kRA2XqGcMz4REAsDmd+NfdEQBWPi2oR80RAI7EZ6vT9REBZ+tAF9fVEQJv/Vx059ERAiPTb14H5REDIQnQIHPFEQP5itmRV+ERAZlUr4wTzRECAgSBAhvJEQCKmuyDf90RAjINLx5zzREAMitfWPvFEQH78pUV98kRAem02VmLyREBJumbyzfJEQN9t3jgp+kRA0hkYeVn3RECq7pHNVetEQJVliGNd8ERA3xtDAHD0RECqLXWQ1/dEQLJmZJC79ERAUU1J1uHwREDo2az6XPlEQKPqVzof8kRAg4b+CS70REAhBORLqPREQNFBl3Do8URAoYMu4dDxREBXJ2co7vZEQLR224Xm8kRAaH1Qa6jyREDxvb9Be/lEQN80fXbA9URApOL/jqjyREAY7IZti/BEQG04LA389kRA3GRUGcb3RECSWFLuPvVEQGe2K/TB8kRAjq89syT6REA+yogLQPVEQMiBXIRX8URAJGQgzy7xRECzX3e68/REQG821+Jz8URA7iQi/Iv0RED2YzDSjfREQHCnaD2g70RANufgmdD0REBjl6jeGvZEQOxRuB6F8URAiH/Y0qPvREBClgUTf/JEQHGvzFt170RAKO54k9/yRECF6rHwn/ZEQHNLqyFx90RAjbPpCOD2RECBsb6ByeVEQPgZFw6E9kRAVJCfjVzxRECu2cpL/vFEQDlDcceb+kRAjdKlf0n4REC5cCAkC/xEQNzqZyFp8URA8l5zFs/wREBv2LYos/lEQAXEJFzI60RAvsEXJlP3REBAwFq1a/BEQFvtYS8U9ERA6phvVFnwREBCaD18me5EQPTHcho78URA/FQVGoj1RECsxacAGPtEQIz6fzBL70RAt7JEZ5nzREDBOvu7WPBEQOcAwRw9+ERAOutTjsnyREBN2H4yxu1EQINDjv4u/URAtYr+0MztREBShXlupfNEQM12hT5Y5kRAXKs97IX0REAbgXhdv/hEQBfWjXdH8ERASdv4E5XvREB0wK4mT+VEQEdYVMTp8ERAjX3JxoP1REBcy2Q4nvNEQDcAGxAh7kRAWMaGbvb5REBhjEgUWvBEQF35LM+D8URAcY46Oq7wREB4DfrS2/VEQC3AqdV49kRAIqgavRr0REAbS1gbY/FEQKGi6lc670RAoKnXLQL7REBZw0Xu6fJEQEiMnlvo8ERAp1SW3PnsREDByc6MkvBEQED8/Pfg70RAhEnx8QnvREAfZFkw8fFEQPwApDZx9kRAduPdkbHwREB2MjhKXvNEQJVliGNd/ERAcDxJAbzyRECEZAETuPtEQL5qZcIv9URAmTGLpKvlREBS81XysfFEQKUUdHtJ80RAYCAzEH7kREAeCjnLOfFEQKUV31D48kRA+imOA6/yRECR1a2ek/xEQDM0ngji9kRAo3VUNUH4REDhk9JcvPJEQML6P4f59ERAiSmRRC/tREBqT8k5se9EQB2s/3OY70RAp3hcVIvyRECSM9BZ//JEQO3hK7f97kRAYviImBLxREDnVgirsfBEQMZ4zas6/URAorfJv47wRED+bU+Q2OpEQKpE2VvK80RAnQ5kPbXmREA2zNB4IvpEQOxrXWqE8kRApKKYWVflRECxV9nwVP9EQBMn9zsU9URAWK1M+KX8REBA3qtWJvJEQA/UcGQ680RAuw7VlGTvREDEtG/ur/pEQL72zJIA8URA1gs+zcn7REB2/BcIAvxEQKOtSiL78ERAnW8yFHH1RECKPh9lxO1EQMo0mlyM+0RAaAZ/LPX9RECkiXeAJ/NEQGU4ns+A8kRAWxry4a/+RECz0Tk/xfVEQMgIO9RV5kRAvt2SHLD5RECELuHQW/pEQPxW68Tl9kRA7xzKUBX7REDrGi0HevBEQMnRFOgw80RAm6285H/0RECKyRtg5vtEQGf8+4wL8URAiskbYOb9REDFOlW+Z/BEQLzoK0gz+kRAsB9ig4XvREAmNEksKfFEQLAAzNP+9ERAaeOItfj2REB+xRoucvlEQOXuc3y07kRAl8XE5uP2REA0FHe8yftEQHqNXaJ69URAx2Rx/5HzREDCC5KmUOZEQGx73DMiAEVAzJpY4CsGRUAeSVY5BQFFQKTDQxg/80RAQfUPIhn8REDhtOBFX/dEQMb3xaUq8URAsWoQ5nbvRED/PuPCgfREQIB9dOrK90RAAkUsYtjtREBDxTh/E/JEQGL5823B+ERAigYpeArxREDmkxXD1e1EQKpiKv2E9URAqG+Z02XxREC5q1eR0fdEQN/DJced9kRAc/o9W47wREDU1/M1y+VEQCXoL/SI5URAcEG2LF/rRECcofVGZvVEQANEwYwp8ERAq3gj88j1REB1kNeDSfdEQINuL2mM9ERAzzC1pQ7yREACY30Dk/NEQGb1DrdD+0RAJLn8h/T1REBUGjGzz+1EQEoH6/8c8ERAlYEDWrrmREDOFhBaD/tEQEvJchJK60RAThvT6FXtREAOT6+UZfhEQBtl/WZi7kRAAvBPqRL7RED1eyjy4PxEQNKL2v0qBEVAL/mf/N3xRECiB1pbWvZEQMkFZ/D370RAF7fRAN7qREAA4xk09O9EQC7KbJBJ8ERA867nXCv5REAxfERMifREQJmEC3kE70RA6X+5Fi30REB3K0t0lvNEQDSk5ZtI9kRAvk9VoYH6REDLAFDFje9EQOhsAaH15ERAY5l+iXj1RECNqrIxZ+pEQJ7vp8ZL+0RAHcwmwLACRUBLIZBLHPlEQAXfNH12BkVAaJPDJ536REBI/fUKCwJFQCWt+IbC7URAlPlH36TtREB0CFSzUvZEQD2owb39+ERABi0kYHQHRUBu/InKhvFEQOBKdmwE/ERAd9Zuu9DwREBfeZCeIu1EQA6Cjla1+ERA5ldzgGDwREDgDz//Pe5EQAR6Yk/b5ERACoSdYtX+RECoUx7dCOtEQMpv0clS60RA07VFhenuREBY7obmWgFFQGvXhLTGBkVAp658lufvREBt90+QSPdEQE5BfjZy7URAEHf1KjL0REDOxHQhVgVFQCN8Q28e+ERA0nKgh9r0REDyfAbUm+dEQAOYMnBA70RA1j4iSBP7REBeS8gHPetEQIDTu3g/7ERAJcy0/Sv5REDekhywq+1EQJKx2vy/7kRAVH8LUnP0RECJ7lnXaP1EQNRJTtcn+kRAfNXKhF/qRED0F3rE6O9EQHCiluZW6kRAiIIZU7DwREDu0LAYde1EQF9K42sd90RAPECknaL7REBINlfNcwJFQM7GSsyz7ERA5J8ZxAf8REBM/bypSO1EQLawL1j440RAwvaTMT74REAZoTXF9+9EQJ4MjpJX6URAtp22RgT7REDXjrTkyfxEQDYAldaRAEVAUg5mE2D6RED6DRMNUupEQKTH723660RANs07TtHtRECt+tN75/9EQDKA8qJv9ERAOJ86VikBRUAZtmNz4PlEQCRke4jh/ERAvSPzYLz7REDK8xPg0epEQAWIghlT6kRA/RNcrKjnREB1m9AhufdEQNJ6Mt7a8URAPC8BN4zvRECgR0iBHvNEQPTJNuKc8ERAWwndJXHsRECU2otoOwhFQJwFB58ZAUVARyHJrN7rRECmC7H6IwhFQB+eJcgI+kRA5sx2hT74REC3f2WlSe1EQBNVQQrz+0RAJmvFGAf7REASg8DKoftEQGTKh6Bq6kRAERyXcVPtREBWrp4wNOhEQH5cphwP+kRAwePbuwbjREAcQwBw7PFEQP64/fLJ5kRA1Qj9TL3sRECJjsHji/NEQC9P54pS7kRAMdC1L6ABRUBzeOqMjQFFQIndn9Qc+kRAKQRyiSPnREBSEDy+veVEQKAX7lwY80RAjLrW3qfyREASo+cWuu5EQBh5WRMLAkVApu1aoK/sREALJCh+jOlEQENTdvpB+URAdEUpIVjxREC9jjhkA/tEQGAhc2VQ7URARMAhVKnnRECbZgOuQP9EQH6UgLQZ4kRAftn+FJUARUC8z/HR4vxEQMpPqn06AEVATRHg9C4GRUCvl6YIcPBEQOofD0BU6kRAhZcLVeTjRED/EIrJNfFEQO4HPDCAAkVAqAAYz6D7REBcUmSWBftEQH9bJKvq40RAJNbiUwDwREBZFkz8UfZEQIkjD0QWBUVAqDaEnwLjREBnbr4R3elEQEBJaGiP4URALIExrjrxREBMJq4wa+tEQDuLZ5ue8kRASmHe40wDRUC9GwsKg+hEQExuFFlrAkVAYOELML/9REAbTMPwEfVEQONBs+ve/kRAh0Hsjn39RECY46UzIeJEQFNGdZ2660RAC0Pk9PX6REB+5lOXseZEQIHMzqJ3AkVAwjBgyVXwREBEHQK5l+dEQOqwwi0f+URAfuNrzyzpREDEl4kipPJEQAPnvxlS5URA2A5G7BP6REANiuYBLPpEQIVE2saf8kRA1zGuuDjgRED7il7bFepEQDOxpbno/URAOugSDr3rREBalOGRmwFFQLHh6ZWy7ERAjdE6qprsREABLzNslAFFQAPRkzKp50RAlu1D3nL5REAXtlJHiOhEQFYCJ7AA40RASguXVdjoREAXKv9aXulEQNLeOcQa7ERA4PYEie3uREAe8N8NwP5EQMgljjwQ4URA5jxjX7LjREBg5GVNLAJFQP2Xit5A6kRAKwHiwsLjRECeP21Up/FEQE90XfjB5URAddT0gAnsREDWg8hwHOJEQMbhzK/m+ERA/o52FhzhREC7bkfBXuREQPG8DZdA7URAUtuf7nDnRECntdvBF+xEQPWIxEkJ40RADI/9LJYARUBeAUCm2eNEQL2OOGQD9URAIa8Hk+LxRED1NyKRVu1EQJZbWg2J50RAOgSOBBrgREC43X3uAeFEQNJUT+Yf50RA6MRYhZHsRECFfTuJCPFEQMpOP6iL8kRAtQBMnXDiREC/v7AYj+VEQEgzFk1n6URAQl96+3PnREBIGXEBaOBEQF1LKzJ44kRAz77yID3fREAsoFBPH+FEQJ2C/Gzk4ERANBSsrtnjREBHmnVP6eBEQOw00lJ550RAaVN1j2ziREDrxyb5EeFEQGrecYqO7ERA+UuL+iTfREA/V1uxv/BEQOv1OB3S70RAHM2RlV/wREB8dEg86e5EQFddh2pK3kRAMpHSbB7fREBssdtnlfNEQMl3KXXJ5kRARz1EozvgREDQK556pPFEQIdREDy+70RA+PnvwWv9REAkJT0MrfBEQHjr1hQD4kRA3soSnWXiRECxUdZvJuBEQBTrVPme8URA66g1kFjpRECgibDh6e9EQCWt+IbC40RAKjv9oC7yREC1bi3atutEQGmNQSeE5kRAp8z4t37lREBg56bNON9EQMpPqn064ERAe2tgqwT7RECuga0SLOBEQKFl3T8W8ERAT0yVKvzhREBrxMw+j99EQKPIWkOp5URA7lutE5f5REDjbaXXZvFEQJSl1vuN8kRAK061FmbxRECP3nAfueFEQNnts8pM30RAP+CBAYTxREABwocSLe9EQFpZT2ui5kRAN45Yi0/fREDImSZsP99EQOGWj6Sk5URA8656wDz4REBIBkR+eehEQMNKBRVV8URA7MIPzqfwREAs19tmKuBEQJSJWwUx6ERAD0bsE0DjREBtN8E3TQdFQOpae5+q8ERAvceZJmzpREBdT3Rd+OVEQFDG+DB75URAPwCpTZzkREDwNJnxtuREQEHV6NUAA0VA5IHIIk0IRUD+0TdpGvBEQLDFbp9V8ERA2/rpP2viRECLqfQTzuREQDc3pics4URA9WkV/aHvRECsqSwKu/BEQN954jlb5kRAIcuCiT/kREDWkLjH0uNEQA==\",\"dtype\":\"float64\",\"shape\":[596]},\"Longitude\":{\"__ndarray__\":\"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\",\"dtype\":\"float64\",\"shape\":[596]},\"merc_x\":{\"__ndarray__\":\"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\",\"dtype\":\"float64\",\"shape\":[596]},\"merc_y\":{\"__ndarray__\":\"2DIGNkagU0HZrD4Ln55TQXUMJD8do1NB7JsQnz2lU0HRikPUiqFTQQgwe8yhnlNBif1Qz52cU0HQt96asaNTQfN6GnsTpFNBS0DpnSyjU0G7SUgV1qFTQbdfmYtznFNBmRVkRtKfU0FzLXn3K59TQVpafmnAqlNBXm4VjbacU0Ek5UAAgJ9TQZhOqdonoFNBtCAeeP6fU0HSp25KhqBTQXIos+DpplNB1tVfQ8aiU0F6k3uVNqBTQS5V1/xbp1NBFS74uUWnU0GIcUvZnZxTQVsVK+e3pVNB9QDR8i2lU0HIOLG+DJ9TQZcB7qqeqFNBcgt4DMGfU0GwJ60gUaBTQVwDPZL3pVNBS+wIVgSbU0F4QQpL951TQeeM617CplNBnRvzsimmU0GZPLlNyKdTQZ8uEFhiolNB7QsCiQ2gU0Gmysfjo6RTQf6YWfyWpFNB88HrHW2dU0GyRE1eJKVTQa7ncD69oVNBBicafhikU0HvyUHcDahTQUrX+QnPnlNBaUPEaVyfU0EVSkrr56FTQb1b2khWnFNBOXSi4sqnU0FcE8BD+qVTQabO9l5AoVNBNjQtIa+tU0Hq/SpwjKRTQSL0J8yRolNBGMQZB5qoU0H2Ms9XBJ9TQTK4NPVCp1NBOgU+EzKhU0EtLUaVoaBTQVs56e27plNBkKjKZN+hU0EbNokMLJ9TQRxqzlaXoFNBuGh4m3igU0HZ2CJj86BTQQBa6CtZqVNBqnfnViOmU0HLFaWgbphTQdHgfN8qnlNB4xY+b9CiU0HoOEFLs6ZTQYOdsqsmo1NBAL/D9MGeU0EgAIjub6hTQT9OkQosoFNBNGF4KIWiU0G1wGmuEKNTQRnru4jtn1NBRQyxp9KfU0GQF+/TqKVTQXw4um0PoVNBazONkcigU0FCR6yBkqhTQUOf6XFQpFNBU39EusigU0GggnBjX55TQcU/RbC4pVNBWtSSWp+mU0GZEbKZvKNTQdygA7TloFNBOZjdAVSpU0FlcDjfvaNTQY7cfTNIn1NBAdUbwxmfU0H1syrFZqNTQSpQjZBon1NBv8DnXvCiU0Hya1p38qJTQV0L1iBTnVNBoUQErj6jU0Hp93+jt6RTQaB8sTl8n1NB17Q5N1edU0HbkjZlmaBTQVwRYjginVNB4gWSgAehU0E+68aJT6VTQbHGVlk+plNBHlmXtJilU0Fm7rMYHJJTQTBb4LQvpVNB6xhH8k2fU0FJvjB4BqBTQST4lwDcqVNBlQlyYDWnU0FtVJiZf6tTQU5OaUtcn1NB4TR3kayeU0FdmA1Y0qhTQd+gozjxmFNB91aZHhymU0HBqPQ0O55TQcCKaadnolNBFMM7PiaeU0EOx+91J5xTQWoQgMknn1NBQq9jHRCkU0GMgorhaapTQUC9HCDynFNB1ETXituhU0G7yFWQJZ5TQV3JCTwnp1NBueyRYO6gU0GU9GKENptTQUMKOgHNrFNBP6WfED6bU0Hk5ZBE6aFTQRLb6LS+klNBOE/Sc+miU0EL0dr0u6dTQQZjKt4RnlNBBQTHZUadU0Fbhue2kJFTQfTIgADLnlNB2FiLLQukU0H6lvkJ4aFTQZN0IiKem1NB96YMKx+pU0HDzhAZJ55TQSjK5bp6n1NBd2+KFYeeU0HBVvesb6RTQfEr9eUipVNB/lj+IW+iU0E/AjlsVZ9TQXlzlunenFNBC1OM9FCqU0EkWCpRE6FTQdA6B2XJnlNBMOFlhk2aU0EIGjuDZ55TQUh+zvScnVNBEcX5tqecU0EBzgWE959TQcap2DIapVNBARiS5YqeU0E1MJoWmKFTQQZ6e43dq1NB1Gtq6t6gU0Hq5hu3IKtTQbNx1Eiro1NBc6xyE/qRU0G4QnNdr59TQW7+X1iAoVNBR87LjKKQU0GY7BRLJp9TQTCEFLsjoVNB4GfNF9CgU0FYIOqAG6xTQZ/fvPyapVNB+K1C6SunU0EFodtS36BTQXiEwGNto1NBIhA2a4qaU0EO8myAZp1TQfdyPj9KnVNBt7vKYKegU0H9zv/BK6FTQYbva8SZnFNB5vbSk/meU0HoB0cCi55TQQowTljarFNBwNFRLWOeU0Hu1Dnd35dTQZOOEWgTolNBdODWpyiTU0Et+Gx2UalTQflcS32foFNBXmHTDZqRU0FHwOpfQa9TQc1TkN6Lo1NB12dXdzCsU0EgLGQnNKBTQag5byBvoVNBbd7ZFQ+dU0GNH6kE86lTQZI2sQTlnlNBNiXq9jSrU0EzN70xdatTQbI3MdDenlNBa2hC1vWjU0EVkEh2NJtTQfVNDMnuqlNBWKwJba+tU0FpN1SSWaFTQSF5emCboFNBF83twoSuU0F4sdfnVaRTQZNag/S7klNBL2sp3c6oU0G4OKXzkqlTQfBNbECfpVNB88Hjz2aqU0GkwnOKS55TQeo2ik1koVNBZPdQkuKiU0FHomuaVatTQV+gaYrxnlNBHO6XhJ6tU0ELtCevNp5TQWt9+6hkqVNBYLQrpTSdU0FIJChVE59TQdsV/G9zo1NBsCx937SlU0HMmTskiKhTQUQ+xEBGnFNBy4aUHp2lU0GiMcDjNKtTQeB4Pr4ApFNBtIx/F9OhU0E9Hz0OtpJTQXreGvMrsFNB4av3GRO3U0HsKidrL7FTQY3nEX50oVNB10Q5lY+rU0Fvpfz1KaZTQVOIyAMVn1NB4RIO+iOdU0Eo2v+z5KJTQZVNbdqkplNBXzdFQUubU0FsbU2oHqBTQf7FSlC+p1NBx92fTvCeU0GE5AVESJtTQd+8zY8MpFNB6fiChlifU0HSXpxyrKZTQSdu4hFNpVNBftugumKeU0EvEqAJHpJTQX/2SI/SkVNByNGST3mYU0HFMx2C6aNTQbQwPb7vnVNBvuLNIVqkU0Fihw4fEaZTQc0pXNvwolNB/v3cHxmgU0F+Tj1A1KFTQXW9486bqlNBGKSK4IukU0EmZWRaQZtTQdWmlm3hnVNBMXPGei6TU0EfZyEAYKpTQYlNOEFhmFNBBXSgeraaU0FyZ7JwVadTQbdZ5aTom1NBTwbSx2OqU0HKgQXXc6xTQVkYopTItFNBI9zMm+GfU0HwSpcbAKVTQaF5/ie3nVNBkyeJEOaXU0E43zvlsp1TQR7Yi0IUnlNBNVFYRjeoU0HKPOJN7aJTQRg3SnmhnFNBOl/aEoSiU0F881Qt2KFTQRzoR9nrpFNBWrdcI76pU0FVMDMQPp1TQafgc70qkVNBw2p5Wf6jU0FpkYSjXpdTQcku5gOlqlNBS1CLIBizU0ESKbQRJqhTQQhFRHBot1NBIxX6kt2pU0G2moyxWrJTQT7ADFUym1NBL89VhBCbU0Gj0Dxe96RTQQJ7Mi4DqFNB9RgJ14q4U0HxFsIhfp9TQQRfPe13q1NBm3Swca6eU0EwDzP/e5pTQfHE4YGwp1NBtAiAbC6eU0HVq+ggv5tTQW+z3MIMkVNBnVpZna+uU0HynerrFphTQQ5V4TBrmFNBAbxYvIKcU0GT/RJZkbFTQccTEjDEt1NBOmmKgaSdU0GdegkJEKZTQQaGdsDWmlNBOq+r3omiU0Gci3WmHrZTQUqbTzUEp1NB5PTeAkqjU0HihQliL5RTQfyUF93lnFNBxiU4fWSqU0Ht2E9jUphTQXtC0QN5mVNBpVL2/TeoU0HpE+9JGJtTQYFEp15TnFNBKfYJOdSiU0G5JcoXD61TQSb9IJhXqVNB1prd41WXU0GqLP3ZpZ1TQYBWLxFMl1NBDpbzeYmeU0Hz9DEK2ppTQUtgksjepVNBPhpeNAirU0HtFUxz0rJTQWIIAqT9mVNBtx+gvnurU0GcDv9fp5pTQdrhgj8KkFNBwssaeCinU0E/Xrr2tp1TQZyxeg4pllNBSNe7WVOqU0EnLDCBWaxTQZG1mYmrsFNBsYAU0ZepU0HEfRWKRpdTQaCtXU0qmVNBA84aL0ObU0FQ8sLX6K9TQVPAvwTQolNBQRkPslixU0FiReQQBqlTQb+3wIJ0rFNBNUzNoSWrU0HstXg92JdTQcUrDbxHl1NBM+boBD6UU0EAILeMkKZTQddM5gzen1NBrFzpSTydU0EZEEpOT6FTQbd40kxznlNB01ybprGZU0Hqy/aFbrlTQVD9hLtGsVNBPY80qQqZU0FC/G+4U7lTQdCrwR80qVNB4+Xh1yinU0Eu1PF+qJpTQfnk1xFkq1NBLlluklaqU0FGdntDB6tTQUzHPI1il1NBm83eqrOaU0Ff8g//3JRTQZPmY1o7qVNB6gLFFfeOU0HaWlEY8p9TQXw5EEBAk1NBIYGmeQiaU0EE4SofzKFTQaTq247Wm1NBv5qoi+CxU0F4TE8+y7FTQaNkIAVLqVNBufZzUqaTU0GUtAmyDpJTQZVgK0xIoVNBtZVF8cegU0HAaKikTJxTQch2I7taslNBSelm4viZU0HIrJ9eZZZTQdncaRlRqFNBNUZe5kifU0GRxgtXUqpTQY6oUzGwmlNB38wTxD6UU0GnD604Kq9TQUzJwSvpjVNB7NezPq+wU0FBSCL7daxTQdnZQbVHsFNB3cPRnxa3U0HabgMkQJ5TQdC1yAtJl1NBCRGddPOPU0EGGQG5IZ9TQVZuPpzgslNBCJ4HJAarU0Hb3CDZVKpTQfXPD6z6j1NBHG9tucCdU0GfLU+N9qRTQWCqpJ3VtVNBcNFbZ/KOU0GSkos0wZZTQSWsS7NLjVNBPFABTiefU0EpcBMCh5hTQStzhV+9oFNBfwLiosqzU0H7cUDZNpVTQVu/I8nIslNBswiNvnGtU0EZNWFAiaNTQeOovYK6rlNBPGcPwyatU0Ebtgu18Y1TQdb2Ro3hmFNBbYfW/kKqU0Hx3KV/JJNTQWxdTdXWslNBTvaWMyKeU0HVjXe0KpRTQf9To1wpqFNB4bhcUviVU0E4Nieuw6BTQayHBBOUkVNB01Hs2ECpU0Go1TVaXKlTQcwSL7W+oFNBQ96PjMWLU0HvuRXuAZdTQSIJ4jOhrVNBHBVZVeSYU0Ft0r1E27FTQdxcIUL8mVNBwC5D/OCZU0EbrEkZ07FTQdUE2J0+lFNBd09l7YioU0E697rRPJVTQZrAPDPwjlNBc5bNDJiVU0EjEnnJMJZTQV1WFitPmVNBqepyUIecU0EaxHw9l65TQe72Sui6jFNBIKBVjrqPU0H3AMO2gLJTQYZllPQyl1NBCk6XOM2PU0GD4b5Ao59TQeMWyIITklNB8JzZfDuZU0EDiiZJ7I1TQW9rANvop1NBqQSBZsiMU0GC3c7jfpBTQYtWgSuemlNBzkmDgf6TU0E/ZNG8S5lTQRWxcf75jlNBWXi3frCwU0Hjh+VJ549TQWbbg6V4o1NBCtik1+afU0GI/Ik6t5pTQagTJf0ZlFNBCf6JmKKLU0E0He6eqoxTQdOQii2ik1NBKE1Yj9aZU0HHswga7p5TQYG8gMCnoFNBEgdyIkyOU0H1xpuO2ZFTQYi5dfs6llNBE0A7+wGUU0Equ/Zg+4tTQT2pkMRUjlNBa/swJqeKU0EjWKERzIxTQQ8RJAeJjFNBfB99U+ePU0GKB9GWjoxTQUm6NREIlFNBRdCihEeOU0H553rivIxTQbCziSnTmVNBfuXtqIuKU0F/78oBm55TQQhsawOMnVNBNKCUYC2eU0FuAhtpgpxTQfHP8uOSiVNBTAs9M4SKU0G5jgT71qFTQdnzs7A/k1NBxtp83siLU0G+1SYAoJ9TQXBC1lZ1nVNBUY/AbBKtU0FoWw+9hZ5TQTlQ92jPjVNBCT2Omz+OU0HhTNe7sItTQWInY7iZn1NBMJ6QLyqWU0HMKU0fp51TQVOHW/TMj1NBIB7EnD2gU0EjFCBD3ZhTQV2cN7vwklNB0MJ35saRU0HDvsc5oopTQR9DP5DHi1NBkcS0zFOqU0EzgmEmt4tTQUxCiLrZnVNBEDM+iceNU0E1dmWfBItTQbtHel33kVNBdK59RrKoU0FmiyyvWZ9TQYIRDWiqoFNBe9MR01ifU0Fr45Iye41TQbvMbfq4ilNB7CNR9HqfU0H11ODGz5xTQX79jDYTk1NB5hiEHLyKU0GxmpfCqYpTQUh8ExrykVNB8squ0ianU0GZh2n4K5VTQfVEY2xFn1NBU2MJwn+eU0GoJ1k/tYtTQUhgnGLZlFNBWH23YziPU0HRRU8MXrhTQQsT9viCnlNBHQlngkCWU0EGYjd6UZJTQZao0eHCkVNBgT1x/sSQU0HHvZBW45BTQfurGK9zs1NB53G+zYK5U0FHfrJ53p1TQWRFvwMinlNBxXqLBkaOU0EQPWWw/ZBTQcLqirHajFNBGUdvH1WdU0GeSv+ylZ5TQdFMlRrCklNBeYJTVVuQU0GmGhR3349TQQ==\",\"dtype\":\"float64\",\"shape\":[596]},\"station_name\":[\"Streeter Dr & Grand Ave\",\"Lake Shore Dr & Monroe St\",\"Lake Shore Dr & North Blvd\",\"Theater on the Lake\",\"Michigan Ave & Oak St\",\"Millennium Park\",\"Shedd Aquarium\",\"Clark St & Lincoln Ave\",\"Clark St & Armitage Ave\",\"Wells St & Concord Ln\",\"Clark St & Elm St\",\"Adler Planetarium\",\"Kingsbury St & Kinzie St\",\"Columbus Dr & Randolph St\",\"Montrose Harbor\",\"Indiana Ave & Roosevelt Rd\",\"Dusable Harbor\",\"Wabash Ave & Grand Ave\",\"McClurg Ct & Illinois St\",\"Dearborn St & Erie St\",\"Broadway & Barry Ave\",\"Damen Ave & Pierce Ave\",\"Fairbanks Ct & Grand Ave\",\"Lake Shore Dr & Belmont Ave\",\"Wilton Ave & Belmont Ave\",\"Wabash Ave & Roosevelt Rd\",\"Clark St & Wrightwood Ave\",\"Lakeview Ave & Fullerton Pkwy\",\"Michigan Ave & Washington St\",\"Sheffield Ave & Waveland Ave\",\"Desplaines St & Kinzie St\",\"Lake Shore Dr & Ohio St\",\"Clark St & Drummond Pl\",\"Burnham Harbor\",\"Buckingham Fountain\",\"Lake Shore Dr & Wellington Ave\",\"Lake Shore Dr & Diversey Pkwy\",\"Halsted St & Roscoe St\",\"Wells St & Evergreen Ave\",\"LaSalle St & Illinois St\",\"Sedgwick St & Webster Ave\",\"Larrabee St & Webster Ave\",\"Michigan Ave & 8th St\",\"Sheffield Ave & Fullerton Ave\",\"Rush St & Cedar St\",\"Bissell St & Armitage Ave\",\"Broadway & Cornelia Ave\",\"Clinton St & Madison St\",\"Michigan Ave & Lake St\",\"Ashland Ave & Division St\",\"Field Museum\",\"Southport Ave & Roscoe St\",\"Stockton Dr & Wrightwood Ave\",\"Dearborn Pkwy & Delaware Pl\",\"Lakefront Trail & Bryn Mawr Ave\",\"Sheffield Ave & Webster Ave\",\"Clark St & Schiller St\",\"Pine Grove Ave & Waveland Ave\",\"Green St & Randolph St\",\"Broadway & Belmont Ave\",\"Mies van der Rohe Way & Chestnut St\",\"Wells St & Huron St\",\"Clark St & Wellington Ave\",\"Wells St & Elm St\",\"State St & Randolph St\",\"St. Clair St & Erie St\",\"Kingsbury St & Erie St\",\"Mies van der Rohe Way & Chicago Ave\",\"Pine Grove Ave & Irving Park Rd\",\"Wilton Ave & Diversey Pkwy\",\"Fort Dearborn Dr & 31st St\",\"Michigan Ave & Jackson Blvd\",\"Halsted St & Clybourn Ave (*)\",\"Sheffield Ave & Wellington Ave\",\"Clark St & North Ave\",\"Green St & Madison St\",\"Southport Ave & Waveland Ave\",\"Milwaukee Ave & Grand Ave\",\"Wood St & Milwaukee Ave\",\"Sedgwick St & North Ave\",\"Wells St & Hubbard St\",\"State St & Kinzie St\",\"Halsted St & Wrightwood Ave\",\"Michigan Ave & Pearson St\",\"Rush St & Superior St\",\"Broadway & Waveland Ave\",\"Halsted St & Dickens Ave\",\"Damen Ave & Chicago Ave\",\"Canal St & Adams St\",\"Kedzie Ave & Milwaukee Ave\",\"Southport Ave & Wellington Ave\",\"Damen Ave & Cortland St\",\"Clark St & Chicago Ave\",\"Sheridan Rd & Irving Park Rd\",\"Marshfield Ave & Cortland St\",\"Morgan St & Lake St\",\"Daley Center Plaza\",\"Sheffield Ave & Willow St\",\"Field Blvd & South Water St\",\"Sheffield Ave & Kingsbury St\",\"Dayton St & North Ave\",\"Federal St & Polk St\",\"Milwaukee Ave & Wabansia Ave\",\"California Ave & Milwaukee Ave\",\"Wabash Ave & Wacker Pl\",\"Loomis St & Lexington St\",\"McClurg Ct & Erie St\",\"Wabash Ave & 9th St\",\"State St & Pearson St\",\"Cannon Dr & Fullerton Ave\",\"Burling St (Halsted) & Diversey Pkwy (Temp)\",\"Sheffield Ave & Wrightwood Ave\",\"Shore Dr & 55th St\",\"Lincoln Ave & Fullerton Ave\",\"Clinton St & Lake St\",\"Cityfront Plaza Dr & Pioneer Ct\",\"Clarendon Ave & Gordon Ter\",\"Racine Ave & Belmont Ave\",\"Ravenswood Ave & Lawrence Ave\",\"Clark St & Lake St\",\"Dearborn St & Monroe St\",\"Clark St & Grace St\",\"MLK Jr Dr & 29th St\",\"Lincoln Ave & Diversey Pkwy\",\"Desplaines St & Jackson Blvd\",\"Ritchie Ct & Banks St\",\"Aberdeen St & Jackson Blvd\",\"Michigan Ave & 14th St\",\"Desplaines St & Randolph St\",\"Clifton Ave & Armitage Ave\",\"Sheridan Rd & Montrose Ave\",\"May St & Taylor St\",\"Honore St & Division St\",\"Franklin St & Jackson Blvd\",\"Lincoln Ave & Belmont Ave\",\"Franklin St & Chicago Ave\",\"Calumet Ave & 18th St\",\"Clark St & Berwyn Ave\",\"Michigan Ave & 18th St\",\"Larrabee St & Division St\",\"Kimbark Ave & 53rd St\",\"Paulina Ave & North Ave\",\"Lincoln Ave & Roscoe St\",\"State St & Van Buren St\",\"Morgan St & Polk St\",\"University Ave & 57th St\",\"Michigan Ave & Madison St\",\"Larrabee St & Armitage Ave\",\"Damen Ave & Division St\",\"Wabash Ave & 16th St\",\"Broadway & Sheridan Rd\",\"Peoria St & Jackson Blvd\",\"Stetson Ave & South Water St\",\"Franklin St & Monroe St\",\"Southport Ave & Clybourn Ave\",\"Racine Ave & Fullerton Ave\",\"Ashland Ave & Blackhawk St\",\"Franklin St & Lake St\",\"Loomis St & Taylor St (*)\",\"Clarendon Ave & Junior Ter\",\"Larrabee St & Kingsbury St\",\"Canal St & Madison St\",\"McCormick Place\",\"Wabash Ave & Adams St\",\"State St & Harrison St\",\"Delano Ct & Roosevelt Rd\",\"Rush St & Hubbard St\",\"Greenview Ave & Fullerton Ave\",\"Aberdeen St & Monroe St\",\"Damen Ave & Thomas St (Augusta Blvd)\",\"Marine Dr & Ainslie St\",\"Ogden Ave & Chicago Ave\",\"Western Ave & Leland Ave\",\"Western Ave & Winnebago Ave\",\"Ellis Ave & 55th St\",\"Orleans St & Merchandise Mart Plaza\",\"Noble St & Milwaukee Ave\",\"Ellis Ave & 60th St\",\"Clark St & Randolph St\",\"Orleans St & Chestnut St (NEXT Apts)\",\"Ashland Ave & Chicago Ave\",\"Clark St & Winnemac Ave (Temp)\",\"Southport Ave & Wrightwood Ave\",\"Southport Ave & Belmont Ave\",\"Eckhart Park\",\"Halsted St & Willow St\",\"Wentworth Ave & Cermak Rd (Temp)\",\"Wells St & Polk St\",\"Halsted St & Polk St\",\"LaSalle Dr & Huron St (*)\",\"Western Ave & Walton St\",\"Clinton St & Roosevelt Rd\",\"Clinton St & Washington Blvd\",\"Jefferson St & Monroe St\",\"Broadway & Berwyn Ave\",\"Dearborn St & Adams St\",\"State St & 33rd St\",\"Clybourn Ave & Division St\",\"Cornell Ave & Hyde Park Blvd\",\"Southport Ave & Irving Park Rd\",\"Sedgwick St & Huron St\",\"Museum of Science and Industry\",\"Broadway & Granville Ave\",\"Larrabee St & Menomonee St\",\"Broadway & Argyle St\",\"Ogden Ave & Race Ave\",\"Larrabee St & Oak St\",\"Canal St & Taylor St\",\"Sheridan Rd & Buena Ave\",\"Ada St & Washington Blvd\",\"Clark St & Leland Ave\",\"Winthrop Ave & Lawrence Ave\",\"LaSalle St & Washington St\",\"Humboldt Blvd & Armitage Ave\",\"Blue Island Ave & 18th St\",\"Broadway & Wilson Ave\",\"Broadway & Ridge Ave\",\"Ashland Ave & Augusta Blvd\",\"Carpenter St & Huron St\",\"Broadway & Thorndale Ave\",\"Damen Ave & Charleston St\",\"Lake Park Ave & 53rd St\",\"Ashland Ave & Grace St\",\"Lincoln Ave & Belle Plaine Ave\",\"Racine Ave & Wrightwood Ave\",\"Clark St & Montrose Ave\",\"Franklin St & Quincy St\",\"Wells St & Walton St\",\"Leavitt St & North Ave\",\"Clarendon Ave & Leland Ave\",\"Sangamon St & Washington Blvd (*)\",\"Clark St & Bryn Mawr Ave\",\"LaSalle St & Jackson Blvd\",\"Ravenswood Ave & Irving Park Rd\",\"Wolcott Ave & Polk St\",\"Racine Ave & Randolph St\",\"Albany Ave & Bloomingdale Ave\",\"Logan Blvd & Elston Ave\",\"Lincoln Ave & Waveland Ave\",\"Halsted St & Maxwell St\",\"Ashland Ave & Wrightwood Ave\",\"Damen Ave & Leland Ave\",\"Leavitt St & Armitage Ave\",\"Western Ave & Division St\",\"Ellis Ave & 53rd St\",\"Sheridan Rd & Loyola Ave\",\"Benson Ave & Church St\",\"Glenwood Ave & Morse Ave\",\"California Ave & Cortez St\",\"Sheridan Rd & Lawrence Ave\",\"Greenview Ave & Diversey Pkwy\",\"Aberdeen St & Randolph St\",\"Clark St & 9th St (AMLI)\",\"Larrabee St & North Ave\",\"Damen Ave & Wellington Ave\",\"Racine Ave & 18th St\",\"Damen Ave & Grand Ave\",\"Seeley Ave & Roscoe St\",\"Wacker Dr & Washington St\",\"Morgan St & 18th St\",\"California Ave & Francis Pl\",\"Ashland Ave & Lake St (Temp)\",\"Ashland Ave & Wellington Ave\",\"California Ave & Altgeld St\",\"LaSalle St & Adams St\",\"Woodlawn Ave & 55th St\",\"Lake Park Ave & 56th St\",\"Indiana Ave & 31st St\",\"Spaulding Ave & Armitage Ave\",\"Dearborn St & Van Buren St (*)\",\"Milwaukee Ave & Rockwell St\",\"Damen Ave & Clybourn Ave\",\"Campbell Ave & North Ave\",\"Ashland Ave & Grand Ave\",\"Orleans St & Elm St (*)\",\"Lincoln Ave & Sunnyside Ave\",\"Kedzie Ave & Palmer Ct\",\"Paulina St & 18th St\",\"Clinton St & Tilden St\",\"Blackstone Ave & Hyde Park Blvd\",\"Wolcott (Ravenswood) Ave & Montrose Ave (*)\",\"Emerald Ave & 31st St\",\"Calumet Ave & 21st St\",\"Damen Ave & Melrose Ave\",\"Morgan Ave & 14th Pl\",\"Paulina St & Montrose Ave\",\"Damen Ave & Foster Ave\",\"Chicago Ave & Washington St\",\"Wood St & Hubbard St\",\"Campbell Ave & Fullerton Ave\",\"900 W Harrison St\",\"Calumet Ave & 33rd St\",\"Racine Ave & Congress Pkwy\",\"Canal St & Jackson Blvd\",\"Talman Ave & Addison St\",\"California Ave & North Ave\",\"Halsted St & Roosevelt Rd\",\"Sedgwick St & Schiller St\",\"California Ave & Division St\",\"Winchester Ave & Elston Ave\",\"Southport Ave & Clark St\",\"Hermitage Ave & Polk St\",\"Ellis Ave & 58th St\",\"Stave St & Armitage Ave\",\"Lake Park Ave & 35th St\",\"Damen Ave & Sunnyside Ave\",\"Eastlake Ter & Rogers Ave\",\"Lincoln Ave & Addison St\",\"Chicago Ave & Sheridan Rd\",\"Ravenswood Ave & Berteau Ave\",\"Greenview Ave & Jarvis Ave\",\"Halsted St & 18th St\",\"State St & 19th St\",\"Drake Ave & Fullerton Ave\",\"Troy St & Elston Ave\",\"Sheridan Rd & Noyes St (NU)\",\"Racine Ave (May St) & Fulton St\",\"Leavitt St & Lawrence Ave\",\"Damen Ave & Madison St\",\"Wabash Ave & Cermak Rd\",\"Western Ave & Roscoe St\",\"Loomis St & Jackson Blvd\",\"Racine Ave & 15th St\",\"Harper Ave & 59th St\",\"Clark St & Elmdale Ave\",\"Rhodes Ave & 32nd St\",\"Shields Ave & 31st St\",\"Ogden Ave & Roosevelt Rd\",\"Sheridan Rd & Greenleaf Ave\",\"University Library (NU)\",\"Canal St & Harrison St\",\"Richmond St & Diversey Ave\",\"Damen Ave & Cullerton St\",\"Claremont Ave & Hirsch St\",\"Chicago Ave & Dempster St\",\"California Ave & Fletcher St\",\"Elston Ave & Wabansia Ave\",\"Lake Park Ave & 47th St\",\"Wood St & Taylor St\",\"Campbell Ave & Montrose Ave\",\"Morgan St & 31st St\",\"Indiana Ave & 26th St\",\"Leavitt St & Addison St\",\"Wells St & 19th St\",\"Ashland Ave & 13th St\",\"Troy St & North Ave\",\"Winchester (Ravenswood) Ave & Balmoral Ave\",\"Oakley Ave & Irving Park Rd\",\"State St & 35th St\",\"Ashland Ave & Harrison St\",\"Wentworth Ave & 35th St\",\"Canal St & Monroe St (*)\",\"May St & Cullerton St\",\"Kosciuszko Park\",\"Rockwell St & Eastwood Ave\",\"Paulina St & Howard St\",\"Wentworth Ave & 24th St\",\"Washtenaw Ave & Lawrence Ave\",\"Halsted St & 21st St\",\"63rd St Beach\",\"Kimball Ave & Belmont Ave\",\"Western Ave & Congress Pkwy\",\"Cottage Grove Ave & Oakwood Blvd\",\"California Ave & Montrose Ave\",\"Lincoln Ave & Winona St\",\"Clark St & Columbia Ave\",\"Ashland Ave & Belle Plaine Ave\",\"Wallace St & 35th St\",\"Emerald Ave & 28th St\",\"Clinton St & 18th St\",\"Clark St & Schreiber Ave\",\"Central Park Ave & North Ave\",\"Clark St & Lunt Ave\",\"California Ave & Byron St\",\"Francisco Ave & Foster Ave\",\"Kedzie Ave & Leland Ave\",\"Wentworth Ave & 33rd St\",\"Halsted St & 35th St (*)\",\"Greenwood Ave & 47th St\",\"Central Park Ave & Elbridge Ave\",\"Artesian Ave & Hubbard St\",\"Clinton St & Polk St (*)\",\"Halsted St & North Branch St\",\"Western Ave & Monroe St\",\"Halsted St & Archer Ave\",\"Central St & Girard Ave\",\"Western Ave & Lunt Ave\",\"Shields Ave & 28th Pl\",\"Central St Metra\",\"Avondale Ave & Irving Park Rd\",\"Avers Ave & Belmont Ave\",\"Ashland Ave & 21st St\",\"Christiana Ave & Lawrence Ave\",\"Drake Ave & Montrose Ave\",\"Manor Ave & Leland Ave\",\"Calumet Ave & 35th St\",\"Western Ave & 21st St\",\"Woodlawn Ave & Lake Park Ave\",\"Sawyer Ave & Irving Park Rd\",\"South Shore Dr & 67th St\",\"Orleans St & Hubbard St (*)\",\"Cottage Grove Ave & 51st St\",\"Normal Ave & Archer Ave\",\"Spaulding Ave & Division St\",\"Washtenaw Ave & Ogden Ave (*)\",\"Glenwood Ave & Touhy Ave\",\"Ridge Blvd & Touhy Ave\",\"Monticello Ave & Irving Park Rd\",\"Dorchester Ave & 49th St\",\"Prairie Ave & Garfield Blvd\",\"Wood St & Augusta Blvd\",\"Fairbanks St & Superior St (*)\",\"Racine Ave & 13th St\",\"Clark St & Jarvis Ave\",\"California Ave & 23rd Pl\",\"MLK Jr Dr & Pershing Rd\",\"Drake Ave & Addison St\",\"Conservatory Dr & Lake St\",\"Albany Ave & Montrose Ave\",\"California Ave & 21st St\",\"Cottage Grove Ave & 47th St\",\"Western Ave & Granville Ave\",\"South Shore Dr & 71st St\",\"Warren Park East\",\"Kedzie Ave & Foster Ave\",\"Warren Park West\",\"Dodge Ave & Church St\",\"Clinton St & Jackson Blvd (*)\",\"Racine Ave & 35th St\",\"Dorchester Ave & 63rd St\",\"California Ave & Lake St\",\"Bosworth Ave & Howard St\",\"Lakefront Trail & Wilson Ave\",\"Keystone Ave & Montrose Ave\",\"Cottage Grove Ave & 63rd St\",\"Ogden Ave & Congress Pkwy\",\"Keystone Ave & Fullerton Ave\",\"Valli Produce - Evanston Plaza\",\"Jeffery Blvd & 67th St\",\"Halsted St & 37th St\",\"South Shore Dr & 74th St\",\"Kedzie Ave & Lake St\",\"Ashland Ave & Archer Ave\",\"Kedzie Ave & Chicago Ave\",\"Elmwood Ave & Austin St\",\"Cottage Grove Ave & 43rd St\",\"Western Ave & Howard St\",\"Kedzie Ave & Bryn Mawr Ave\",\"Walsh Park\",\"2112 W Peterson Ave\",\"St. Louis Ave & Balmoral Ave\",\"Jeffery Blvd & 71st St\",\"Loomis St & Archer Ave\",\"Knox Ave & Montrose Ave\",\"Calumet Ave & 51st St\",\"Ridge Blvd & Howard St\",\"Malcolm X College\",\"Princeton Ave & 47th St\",\"Pulaski Rd & Eddy St (Temp)\",\"Indiana Ave & 40th St\",\"Wood St & Chicago Ave (*)\",\"DuSable Museum\",\"Kilbourn Ave & Irving Park Rd\",\"Milwaukee Ave & Cuyler Ave\",\"Leavitt St & Chicago Ave\",\"Exchange Ave & 79th St\",\"Leavitt St & Archer Ave\",\"Budlong Woods Library\",\"State St & 29th St\",\"Clark St & Touhy Ave\",\"Damen Ave & Coulter St\",\"Western Ave & 24th St\",\"Oakley Ave & Touhy Ave\",\"MLK Jr Dr & 47th St\",\"Kilbourn Ave & Milwaukee Ave\",\"Prairie Ave & 43rd St\",\"Stony Island Ave & 67th St\",\"Union Ave & Root St\",\"Damen Ave & Pershing Rd\",\"Millard Ave & 26th St\",\"Fairfield Ave & Roosevelt Rd\",\"Maplewood Ave & Peterson Ave\",\"Evans Ave & 75th St\",\"Stony Island Ave & 64th St\",\"Wolcott Ave & Fargo Ave\",\"Wood St & 35th St\",\"Halsted St & 63rd St\",\"Austin Blvd & Lake St\",\"Princeton Ave & Garfield Blvd\",\"California Ave & 26th St\",\"Stony Island Ave & 71st St\",\"Clark St & Newport St\",\"Stony Island Ave & 75th St\",\"Eberhart Ave & 61st St\",\"Kedzie Ave & 21st St\",\"Halsted St & 47th Pl\",\"Albany Ave & 26th St\",\"Cottage Grove Ave & 67th St\",\"Sheridan Rd & Columbia Ave\",\"Wentworth Ave & 63rd St\",\"Central Park Ave & Bloomingdale Ave\",\"Sacramento Blvd & Franklin Blvd\",\"Central Park Ave & Ogden Ave\",\"Ashland Ave & McDowell Ave\",\"State St & 79th St\",\"Rainbow Beach\",\"Western Blvd & 48th Pl\",\"Kedzie Ave & 24th St\",\"Racine Ave & Washington Blvd (*)\",\"Austin Blvd & Chicago Ave\",\"Halsted St & 69th St\",\"MLK Jr Dr & 56th St (*)\",\"Ashland Ave & Pershing Rd\",\"Hoyne Ave & 47th St\",\"Cottage Grove Ave & 78th St\",\"Perry Ave & 69th St\",\"Cottage Grove Ave & 83rd St\",\"Yates Blvd & 75th St\",\"State St & 76th St\",\"MLK Jr Dr & 63rd St\",\"Jeffery Blvd & 76th St\",\"Elizabeth St & 47th St\",\"May St & 69th St\",\"Vernon Ave & 75th St\",\"Central Park Ave & 24th St\",\"Wabash Ave & 83rd St\",\"Karlov Ave & Madison St\",\"Kedzie Ave & Harrison St\",\"Kostner Ave & Adams St\",\"Kedzie Ave & Roosevelt Rd\",\"Wabash Ave & 87th St\",\"MLK Jr Dr & 83rd St\",\"Leavitt St & Division St (*)\",\"Ashland Ave & 50th St\",\"Phillips Ave & 79th St\",\"Laramie Ave & Kinzie St\",\"Central Ave & Harrison St\",\"Hoyne Ave & Balmoral Ave\",\"Austin Blvd & Madison St\",\"Cottage Grove Ave & 71st St\",\"Ashland Ave & 69th St\",\"Stony Island Ave & South Chicago Ave\",\"Central Ave & Lake St\",\"State St & Pershing Rd\",\"Pulaski Rd & Congress Pkwy\",\"Ashland Ave & 63rd St\",\"Smith Park (*)\",\"Western Ave & 28th St\",\"Damen Ave & 51st St\",\"Halsted St & 56th St\",\"South Chicago Ave & 83rd St\",\"Bennett Ave & 79th St\",\"Kildare Ave & Montrose Ave\",\"Eberhart (Vernon) Ave & 79th St\",\"Central Park Blvd & 5th Ave\",\"Calumet Ave & 71st St\",\"Stony Island Ave & 82nd St\",\"Racine Ave & Garfield Blvd\",\"Bernard St & Elston Ave\",\"Damen Ave & Walnut (Lake) St (*)\",\"Central Ave & Chicago Ave\",\"Kostner Ave & Lake St\",\"Normal Ave & 72nd St\",\"Phillips Ave & 83rd St\",\"Cicero Ave & Lake St\",\"Western Ave & Fillmore St (*)\",\"Halsted St & 51st St\",\"Commercial Ave & 83rd St\",\"Ellis Ave & 83rd St\",\"Seeley Ave & Garfield Blvd\",\"Leavitt St & Belmont Ave (*)\",\"Shields Ave & 43rd St\",\"Pulaski Rd & Lake St\",\"Central Ave & Madison St\",\"Greenwood Ave & 79th St\",\"Marshfield Ave & 44th St\",\"Racine Ave & 65th St\",\"Evanston Civic Center\",\"Laramie Ave & Madison St\",\"Morgan St & Pershing Rd\",\"State St & 54th St\",\"Ashland Ave & Garfield Blvd\",\"Damen Ave & 59th St\",\"Marshfield Ave & 59th St\",\"Dodge Ave & Mulford St\",\"Lincolnwood Dr & Central St\",\"Laramie Ave & Gladys Ave\",\"Cicero Ave & Quincy St\",\"Eggleston Ave & 69th St (*)\",\"Halsted St & 59th St\",\"Woodlawn Ave & 75th St\",\"Cicero Ave & Flournoy St\",\"Kenton Ave & Madison St\",\"Throop St & 52nd St\",\"Racine Ave & 61st St\",\"Carpenter St & 63rd St\"],\"weekdays\":[38067,19526,17843,17825,18350,21547,13157,10894,12865,14010,16914,8743,28472,29399,6985,14399,7824,15581,13629,18459,10499,13149,16451,8056,12833,16453,10255,8519,33363,8998,14639,8529,8392,7123,4667,6896,6819,7499,8608,15771,8268,8010,7578,12927,8268,9015,7385,47899,18408,13673,5404,8153,6380,12819,5277,7680,8427,6716,10633,7023,10724,15709,7763,9501,15603,15683,16460,10331,6452,10354,4043,11016,10228,8878,6009,13059,7039,10679,7166,9639,14202,15169,6252,7243,9493,6204,6081,6931,59745,6565,8064,5784,8010,8742,12635,14232,31211,6188,7870,6787,7387,9491,6282,7067,9824,8974,13733,9644,9371,3592,4964,5117,5019,6983,20686,10554,4917,4752,11624,14170,18074,4994,7815,5327,11836,5283,9732,6730,8988,4817,4646,7227,5383,17339,4869,12061,5479,5172,7347,7520,5652,4883,6170,9555,12490,9695,8488,4757,4801,7137,3970,11857,11474,31206,5600,6079,5018,14189,6288,3106,19466,32338,3933,9920,6349,4682,10255,4651,8105,4918,2572,6633,4101,5842,6215,27360,5305,6187,14726,6607,4833,4287,4382,3293,5394,4404,2875,6032,7014,6362,4384,4383,47094,7060,3993,10535,6702,5025,3690,3335,9955,2026,2598,3738,3453,5231,7797,6202,3315,6415,3285,3033,10983,2621,3878,4615,2733,4363,4712,2647,2814,2581,2983,2805,3722,3007,11767,5591,3157,2613,6907,2949,26469,3319,8215,6793,2654,2826,2321,5241,3312,4400,2747,3567,3093,2744,3886,2742,2760,2386,2637,5557,3245,3110,2309,3034,4299,2116,17247,2992,2394,3610,2378,1912,5901,2554,3589,3032,2633,4120,1916,2483,2405,3073,3718,1784,2807,2575,6131,2342,2642,2020,2527,1975,4034,1774,2544,2174,2935,1768,5390,2355,5668,11220,1426,1606,4270,2141,1312,2323,2005,5388,5329,1484,1067,1592,1512,1389,1775,3244,1303,1694,1815,1465,1318,2330,5911,1929,1944,2201,2424,3949,1978,2211,1540,1197,1564,1585,1176,2594,3116,1659,1275,2361,1317,1086,2077,1008,5470,1763,1145,1796,1262,1097,1780,894,1731,1429,2814,4357,988,13589,1649,1348,1492,1631,895,1236,955,529,1050,1334,584,845,1003,1509,1050,1295,1347,1846,981,955,2711,932,1040,1013,1177,850,997,976,4956,1773,1851,755,1239,911,828,734,853,1391,683,721,1063,1102,747,708,1067,753,679,462,1428,460,844,761,885,602,485,977,531,1146,647,1122,1028,561,677,654,1309,349,536,759,642,367,355,528,705,369,554,2873,492,287,432,541,272,583,557,1524,546,268,301,382,365,512,338,491,619,355,482,306,293,326,717,268,588,457,419,524,405,254,332,368,491,472,549,255,456,207,657,344,487,361,298,503,330,313,510,303,226,275,113,266,365,246,268,160,113,351,307,305,306,255,159,130,141,147,390,179,136,191,141,188,119,428,192,296,198,117,135,174,458,73,125,253,213,178,85,96,107,67,65,79,98,123,92,81,119,50,93,40,59,118,61,112,123,59,52,42,44,127,127,40,61,42,83,144,69,54,100,174,40,47,42,55,43,43,45,31,40,36,29,103,29,28,37,22,41,29,36,26,26,18,12,25,100,20,36,57,15,17,11,53,10,16,24,17,40,63,27,28,10,27,25,21,11,11,6,1],\"weekends\":[28877,16648,13360,12854,11024,10936,10125,6989,6983,6953,6454,6210,6117,5943,5903,5766,5691,5448,5382,5370,5341,5264,5142,5133,5078,5011,4982,4934,4666,4567,4473,4461,4457,4421,4395,4344,4215,4106,4064,4045,3985,3918,3916,3914,3901,3880,3846,3793,3790,3787,3780,3771,3745,3734,3727,3724,3690,3611,3573,3531,3507,3472,3429,3415,3398,3353,3352,3308,3303,3270,3262,3247,3241,3211,3203,3200,3189,3168,3166,3131,3105,3077,2998,2954,2940,2937,2916,2916,2909,2895,2895,2882,2817,2800,2778,2773,2757,2748,2720,2717,2690,2683,2662,2657,2638,2636,2599,2579,2570,2570,2524,2517,2493,2490,2489,2482,2471,2457,2413,2410,2403,2400,2395,2394,2382,2328,2324,2295,2289,2234,2211,2210,2183,2138,2132,2128,2111,2097,2065,2055,2052,2042,2029,2015,2007,1998,1976,1971,1971,1953,1950,1926,1922,1919,1912,1911,1907,1901,1898,1896,1886,1850,1841,1832,1807,1792,1775,1770,1770,1767,1761,1748,1741,1734,1729,1722,1713,1711,1701,1692,1688,1679,1676,1667,1655,1643,1639,1603,1592,1587,1580,1576,1575,1561,1536,1534,1532,1525,1503,1502,1487,1472,1471,1467,1454,1447,1442,1418,1401,1396,1379,1378,1375,1339,1330,1326,1311,1309,1301,1297,1292,1278,1275,1243,1234,1229,1220,1214,1211,1204,1203,1201,1196,1178,1174,1166,1154,1151,1146,1140,1137,1128,1116,1092,1086,1086,1085,1074,1068,1055,1052,1045,1038,1036,1016,1015,988,979,971,967,961,956,956,955,954,934,933,930,928,926,913,910,897,897,895,894,885,878,867,854,849,848,844,843,841,834,831,817,807,803,797,771,764,761,755,750,741,720,712,711,709,692,679,667,664,662,656,655,642,641,636,628,618,615,609,603,596,591,587,586,584,582,578,577,577,576,576,575,572,557,546,540,536,534,532,523,521,518,517,511,500,500,498,490,481,481,471,466,456,451,451,450,448,447,447,440,439,437,429,427,423,420,418,416,405,401,394,394,393,392,390,388,386,373,372,369,363,362,356,351,350,345,328,322,314,302,297,296,291,288,285,284,271,271,261,260,259,257,252,251,249,243,242,242,242,239,234,233,229,228,224,224,222,221,221,220,219,216,215,214,203,202,201,200,199,199,197,188,180,176,174,173,170,167,160,157,156,154,150,150,147,145,145,143,143,142,135,132,130,130,128,128,124,124,122,119,119,112,111,110,110,110,107,106,106,104,104,103,102,98,96,96,94,93,93,89,88,88,87,86,85,84,82,82,79,77,77,75,73,70,66,64,63,63,63,61,59,59,59,58,56,55,54,54,54,51,50,50,49,49,48,48,48,42,41,39,39,36,34,34,33,33,31,30,30,30,30,29,28,28,26,25,24,23,23,23,23,23,23,23,22,22,21,20,19,19,19,19,19,19,18,17,17,17,16,16,15,15,14,14,14,13,13,13,13,12,12,12,11,11,10,10,10,9,9,8,8,8,8,8,7,7,7,6,6,5,5,5,5,5,5,4,3,2,2,1]},\"selected\":{\"id\":\"1113\",\"type\":\"Selection\"},\"selection_policy\":{\"id\":\"1112\",\"type\":\"UnionRenderers\"}},\"id\":\"1085\",\"type\":\"ColumnDataSource\"},{\"attributes\":{\"source\":{\"id\":\"1085\",\"type\":\"ColumnDataSource\"}},\"id\":\"1099\",\"type\":\"CDSView\"},{\"attributes\":{},\"id\":\"1070\",\"type\":\"WheelZoomTool\"},{\"attributes\":{\"fill_color\":{\"field\":\"weekends\",\"transform\":{\"id\":\"1087\",\"type\":\"LinearColorMapper\"}},\"line_color\":{\"value\":null},\"size\":{\"units\":\"screen\",\"value\":5},\"x\":{\"field\":\"merc_x\"},\"y\":{\"field\":\"merc_y\"}},\"id\":\"1096\",\"type\":\"Circle\"},{\"attributes\":{},\"id\":\"1112\",\"type\":\"UnionRenderers\"},{\"attributes\":{},\"id\":\"1182\",\"type\":\"BasicTickFormatter\"},{\"attributes\":{},\"id\":\"1049\",\"type\":\"LinearScale\"}],\"root_ids\":[\"1041\"]},\"title\":\"Bokeh Application\",\"version\":\"1.0.4\"}};\n",
       "  var render_items = [{\"docid\":\"28f20a00-0add-4891-9ef5-e11f073635c5\",\"roots\":{\"1041\":\"c6e858c6-51fb-4664-a75a-83f9d7b74fa2\"}}];\n",
       "  root.Bokeh.embed.embed_items_notebook(docs_json, render_items);\n",
       "\n",
       "  }\n",
       "  if (root.Bokeh !== undefined) {\n",
       "    embed_document(root);\n",
       "  } else {\n",
       "    var attempts = 0;\n",
       "    var timer = setInterval(function(root) {\n",
       "      if (root.Bokeh !== undefined) {\n",
       "        embed_document(root);\n",
       "        clearInterval(timer);\n",
       "      }\n",
       "      attempts++;\n",
       "      if (attempts > 100) {\n",
       "        console.log(\"Bokeh: ERROR: Unable to run BokehJS code because BokehJS library is missing\");\n",
       "        clearInterval(timer);\n",
       "      }\n",
       "    }, 10, root)\n",
       "  }\n",
       "})(window);"
      ],
      "application/vnd.bokehjs_exec.v0+json": ""
     },
     "metadata": {
      "application/vnd.bokehjs_exec.v0+json": {
       "id": "1041"
      }
     },
     "output_type": "display_data"
    }
   ],
   "source": [
    "show(plot2)"
   ]
  },
  {
   "cell_type": "markdown",
   "metadata": {},
   "source": [
    "## 5. Conclusions"
   ]
  },
  {
   "cell_type": "markdown",
   "metadata": {},
   "source": [
    "In this project, we have gone through the main stages of the data analysis process, including the questions generation, data wrangling, exploratory analysis, and data visualization. Of course there are many data analysis questions, not considered in the project, that would be interesting to study. For instance, we did not considered how other factors, such as weather conditions, are affecting the data. It would also be interesting to explore which routes are most popular and which are not."
   ]
  }
 ],
 "metadata": {
  "kernelspec": {
   "display_name": "Python 3",
   "language": "python",
   "name": "python3"
  },
  "language_info": {
   "codemirror_mode": {
    "name": "ipython",
    "version": 3
   },
   "file_extension": ".py",
   "mimetype": "text/x-python",
   "name": "python",
   "nbconvert_exporter": "python",
   "pygments_lexer": "ipython3",
   "version": "3.7.3"
  }
 },
 "nbformat": 4,
 "nbformat_minor": 2
}
